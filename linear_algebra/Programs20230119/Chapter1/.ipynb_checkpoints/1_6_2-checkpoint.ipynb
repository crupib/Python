{
 "cells": [
  {
   "cell_type": "code",
   "execution_count": 1,
   "id": "1c822374",
   "metadata": {},
   "outputs": [
    {
     "data": {
      "text/plain": [
       "['Earth', 'Mars', 'Jupiter']"
      ]
     },
     "execution_count": 1,
     "metadata": {},
     "output_type": "execute_result"
    }
   ],
   "source": [
    "B = ['Earth', 'Mars', 'Jupiter']; B"
   ]
  },
  {
   "cell_type": "code",
   "execution_count": 2,
   "id": "747fe97a",
   "metadata": {},
   "outputs": [
    {
     "name": "stdout",
     "output_type": "stream",
     "text": [
      "Earth Mars Jupiter\n"
     ]
    }
   ],
   "source": [
    "print(B[0], B[1], B[2])"
   ]
  },
  {
   "cell_type": "code",
   "execution_count": 3,
   "id": "eda9c5db",
   "metadata": {},
   "outputs": [
    {
     "name": "stdout",
     "output_type": "stream",
     "text": [
      "Jupiter Mars Earth\n"
     ]
    }
   ],
   "source": [
    "print(B[-1], B[-2], B[-3])"
   ]
  },
  {
   "cell_type": "code",
   "execution_count": 4,
   "id": "8d128ea4",
   "metadata": {},
   "outputs": [
    {
     "data": {
      "text/plain": [
       "['Earth', 'Mars', 'Jupiter', 'Saturn']"
      ]
     },
     "execution_count": 4,
     "metadata": {},
     "output_type": "execute_result"
    }
   ],
   "source": [
    "B.append('Saturn'); B"
   ]
  },
  {
   "cell_type": "code",
   "execution_count": null,
   "id": "b19ccbdf",
   "metadata": {},
   "outputs": [],
   "source": []
  }
 ],
 "metadata": {
  "kernelspec": {
   "display_name": "Python 3 (ipykernel)",
   "language": "python",
   "name": "python3"
  },
  "language_info": {
   "codemirror_mode": {
    "name": "ipython",
    "version": 3
   },
   "file_extension": ".py",
   "mimetype": "text/x-python",
   "name": "python",
   "nbconvert_exporter": "python",
   "pygments_lexer": "ipython3",
   "version": "3.9.2"
  }
 },
 "nbformat": 4,
 "nbformat_minor": 5
}
