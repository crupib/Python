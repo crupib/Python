{
 "cells": [
  {
   "cell_type": "code",
   "execution_count": 1,
   "id": "01433a3c",
   "metadata": {},
   "outputs": [
    {
     "data": {
      "text/plain": [
       "{'Earth': '3rd', 'Mars': '4th', 'Jupiter': '5th'}"
      ]
     },
     "execution_count": 1,
     "metadata": {},
     "output_type": "execute_result"
    }
   ],
   "source": [
    "C = {'Earth': '3rd', 'Mars': '4th', 'Jupiter': '5th'}; C"
   ]
  },
  {
   "cell_type": "code",
   "execution_count": 2,
   "id": "c6e5c0e1",
   "metadata": {},
   "outputs": [
    {
     "data": {
      "text/plain": [
       "'3rd'"
      ]
     },
     "execution_count": 2,
     "metadata": {},
     "output_type": "execute_result"
    }
   ],
   "source": [
    "C['Earth']"
   ]
  },
  {
   "cell_type": "code",
   "execution_count": 3,
   "id": "bf07ef3d",
   "metadata": {},
   "outputs": [
    {
     "data": {
      "text/plain": [
       "{'Earth': '3rd', 'Mars': '4th', 'Jupiter': '5th', 'Saturn': '6th'}"
      ]
     },
     "execution_count": 3,
     "metadata": {},
     "output_type": "execute_result"
    }
   ],
   "source": [
    "C['Saturn'] = '6th'; C"
   ]
  },
  {
   "cell_type": "code",
   "execution_count": null,
   "id": "07d2f8fa",
   "metadata": {},
   "outputs": [],
   "source": []
  }
 ],
 "metadata": {
  "kernelspec": {
   "display_name": "Python 3 (ipykernel)",
   "language": "python",
   "name": "python3"
  },
  "language_info": {
   "codemirror_mode": {
    "name": "ipython",
    "version": 3
   },
   "file_extension": ".py",
   "mimetype": "text/x-python",
   "name": "python",
   "nbconvert_exporter": "python",
   "pygments_lexer": "ipython3",
   "version": "3.9.2"
  }
 },
 "nbformat": 4,
 "nbformat_minor": 5
}
