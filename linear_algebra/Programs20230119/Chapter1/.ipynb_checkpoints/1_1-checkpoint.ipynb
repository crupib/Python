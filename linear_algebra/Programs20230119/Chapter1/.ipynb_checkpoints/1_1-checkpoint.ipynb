{
 "cells": [
  {
   "cell_type": "code",
   "execution_count": 1,
   "id": "999b50fc",
   "metadata": {},
   "outputs": [
    {
     "data": {
      "text/plain": [
       "(1.0, 2.0, 2.23606797749979, (1-2j))"
      ]
     },
     "execution_count": 1,
     "metadata": {},
     "output_type": "execute_result"
    }
   ],
   "source": [
    "x = 1 + 2j\n",
    "x.real, x.imag, abs(x), x.conjugate()"
   ]
  },
  {
   "cell_type": "code",
   "execution_count": 2,
   "id": "8dda73c3",
   "metadata": {},
   "outputs": [
    {
     "data": {
      "text/plain": [
       "((4+6j), (-5+10j), (0.44+0.08j))"
      ]
     },
     "execution_count": 2,
     "metadata": {},
     "output_type": "execute_result"
    }
   ],
   "source": [
    "y = 3 + 4j\n",
    "x + y, x * y, x / y"
   ]
  },
  {
   "cell_type": "code",
   "execution_count": 3,
   "id": "ce2ecaf6",
   "metadata": {},
   "outputs": [
    {
     "data": {
      "text/plain": [
       "(-1+1.2246467991473532e-16j)"
      ]
     },
     "execution_count": 3,
     "metadata": {},
     "output_type": "execute_result"
    }
   ],
   "source": [
    "2.718281828459045 ** 3.141592653589793j"
   ]
  },
  {
   "cell_type": "code",
   "execution_count": null,
   "id": "b69172b3",
   "metadata": {},
   "outputs": [],
   "source": []
  }
 ],
 "metadata": {
  "kernelspec": {
   "display_name": "Python 3 (ipykernel)",
   "language": "python",
   "name": "python3"
  },
  "language_info": {
   "codemirror_mode": {
    "name": "ipython",
    "version": 3
   },
   "file_extension": ".py",
   "mimetype": "text/x-python",
   "name": "python",
   "nbconvert_exporter": "python",
   "pygments_lexer": "ipython3",
   "version": "3.9.2"
  }
 },
 "nbformat": 4,
 "nbformat_minor": 5
}
