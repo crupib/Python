{
 "cells": [
  {
   "cell_type": "markdown",
   "id": "f22f2480",
   "metadata": {},
   "source": [
    "# Chapter 7. Eigenvalue and Eigenvector\n",
    "\n",
    "## 7.1. Unitary matrices and Hermitian matrices\n",
    "\n",
    "[Untitled.ipynb](./7.1/Untitled.ipynb)"
   ]
  },
  {
   "cell_type": "code",
   "execution_count": 1,
   "id": "997fbd24",
   "metadata": {},
   "outputs": [
    {
     "data": {
      "text/plain": [
       "array([[1, 0, 0],\n",
       "       [0, 2, 0],\n",
       "       [0, 0, 3]])"
      ]
     },
     "execution_count": 1,
     "metadata": {},
     "output_type": "execute_result"
    }
   ],
   "source": [
    "import numpy as np\n",
    "import sympy as sp\n",
    "np.diag([1, 2, 3])"
   ]
  },
  {
   "cell_type": "code",
   "execution_count": 2,
   "id": "bd261ef4",
   "metadata": {},
   "outputs": [
    {
     "data": {
      "text/latex": [
       "$\\displaystyle \\left[\\begin{matrix}1 & 0 & 0\\\\0 & 2 & 0\\\\0 & 0 & 3\\end{matrix}\\right]$"
      ],
      "text/plain": [
       "Matrix([\n",
       "[1, 0, 0],\n",
       "[0, 2, 0],\n",
       "[0, 0, 3]])"
      ]
     },
     "execution_count": 2,
     "metadata": {},
     "output_type": "execute_result"
    }
   ],
   "source": [
    "sp.diag(1, 2, 3)"
   ]
  },
  {
   "cell_type": "markdown",
   "id": "7e8db2cb",
   "metadata": {},
   "source": [
    "## 7.2\n",
    "\n",
    "**Program:** [prob1.py](./7.2/prob1.py) / [prob1.ipynb](./7.2/prob1.ipynb)"
   ]
  },
  {
   "cell_type": "code",
   "execution_count": 1,
   "id": "daaf1691",
   "metadata": {},
   "outputs": [],
   "source": [
    "from sympy import Matrix\n",
    "from numpy.random import choice, seed\n",
    "\n",
    "N = [-3, -2, -1, 1, 2, 3]\n",
    "seed(2021)\n",
    "\n",
    "def f(truth):\n",
    "    while True:\n",
    "        A = Matrix(choice(N, (2, 2)))\n",
    "        eigenvals= A.eigenvals()\n",
    "        if len(eigenvals) == 2 and not 0 in eigenvals:\n",
    "            if all([x.is_real for x in eigenvals]) == truth:\n",
    "                print(eigenvals)\n",
    "                return A"
   ]
  },
  {
   "cell_type": "code",
   "execution_count": 2,
   "id": "868446cf",
   "metadata": {},
   "outputs": [
    {
     "name": "stdout",
     "output_type": "stream",
     "text": [
      "{3 - sqrt(2): 1, sqrt(2) + 3: 1}\n"
     ]
    },
    {
     "data": {
      "text/latex": [
       "$\\displaystyle \\left[\\begin{matrix}3 & 2\\\\1 & 3\\end{matrix}\\right]$"
      ],
      "text/plain": [
       "Matrix([\n",
       "[3, 2],\n",
       "[1, 3]])"
      ]
     },
     "execution_count": 2,
     "metadata": {},
     "output_type": "execute_result"
    }
   ],
   "source": [
    "f(True)"
   ]
  },
  {
   "cell_type": "code",
   "execution_count": 3,
   "id": "2aa0ae58",
   "metadata": {},
   "outputs": [
    {
     "name": "stdout",
     "output_type": "stream",
     "text": [
      "{5/2 - sqrt(35)*I/2: 1, 5/2 + sqrt(35)*I/2: 1}\n"
     ]
    },
    {
     "data": {
      "text/latex": [
       "$\\displaystyle \\left[\\begin{matrix}3 & 3\\\\-3 & 2\\end{matrix}\\right]$"
      ],
      "text/plain": [
       "Matrix([\n",
       "[ 3, 3],\n",
       "[-3, 2]])"
      ]
     },
     "execution_count": 3,
     "metadata": {},
     "output_type": "execute_result"
    }
   ],
   "source": [
    "f(False)"
   ]
  },
  {
   "cell_type": "markdown",
   "id": "11b53b03",
   "metadata": {},
   "source": [
    "---\n",
    "[Untitled.py](./7.2/Untitled.py) / [Untitled.ipynb](./7.2/Untitled.ipynb)"
   ]
  },
  {
   "cell_type": "code",
   "execution_count": 1,
   "id": "dd21df95",
   "metadata": {},
   "outputs": [
    {
     "data": {
      "text/latex": [
       "$\\displaystyle - lmd^{3} + 4 lmd^{2} - 5 lmd + 2$"
      ],
      "text/plain": [
       "-lmd**3 + 4*lmd**2 - 5*lmd + 2"
      ]
     },
     "execution_count": 1,
     "metadata": {},
     "output_type": "execute_result"
    }
   ],
   "source": [
    "from sympy import *\n",
    "A = Matrix([[3, -4, 2], [2, -3, 2], [3, -6, 4]])\n",
    "f = det(A - var('lmd') * eye(3)); f"
   ]
  },
  {
   "cell_type": "code",
   "execution_count": 2,
   "id": "33b52355",
   "metadata": {},
   "outputs": [
    {
     "data": {
      "text/latex": [
       "$\\displaystyle - lmd^{3} + 4 lmd^{2} - 5 lmd + 2$"
      ],
      "text/plain": [
       "-lmd**3 + 4*lmd**2 - 5*lmd + 2"
      ]
     },
     "execution_count": 2,
     "metadata": {},
     "output_type": "execute_result"
    }
   ],
   "source": [
    "expand(f)"
   ]
  },
  {
   "cell_type": "code",
   "execution_count": 3,
   "id": "d37874bd",
   "metadata": {},
   "outputs": [
    {
     "data": {
      "text/latex": [
       "$\\displaystyle - \\left(lmd - 2\\right) \\left(lmd - 1\\right)^{2}$"
      ],
      "text/plain": [
       "-(lmd - 2)*(lmd - 1)**2"
      ]
     },
     "execution_count": 3,
     "metadata": {},
     "output_type": "execute_result"
    }
   ],
   "source": [
    "factor(f)"
   ]
  },
  {
   "cell_type": "code",
   "execution_count": 4,
   "id": "6a44431f",
   "metadata": {},
   "outputs": [
    {
     "data": {
      "text/latex": [
       "$\\displaystyle \\left[\\begin{matrix}x\\\\y\\\\z\\end{matrix}\\right]$"
      ],
      "text/plain": [
       "Matrix([\n",
       "[x],\n",
       "[y],\n",
       "[z]])"
      ]
     },
     "execution_count": 4,
     "metadata": {},
     "output_type": "execute_result"
    }
   ],
   "source": [
    "v = Matrix([var('x'), var('y'), var('z')]); v"
   ]
  },
  {
   "cell_type": "code",
   "execution_count": 5,
   "id": "810549f4",
   "metadata": {},
   "outputs": [
    {
     "data": {
      "text/latex": [
       "$\\displaystyle \\left( lmd \\mapsto \\left[\\begin{matrix}x \\left(3 - lmd\\right) - 4 y + 2 z\\\\2 x + y \\left(- lmd - 3\\right) + 2 z\\\\3 x - 6 y + z \\left(4 - lmd\\right)\\end{matrix}\\right] \\right)$"
      ],
      "text/plain": [
       "Lambda(lmd, Matrix([\n",
       "[ x*(3 - lmd) - 4*y + 2*z],\n",
       "[2*x + y*(-lmd - 3) + 2*z],\n",
       "[ 3*x - 6*y + z*(4 - lmd)]]))"
      ]
     },
     "execution_count": 5,
     "metadata": {},
     "output_type": "execute_result"
    }
   ],
   "source": [
    "w = Lambda(lmd, (A - lmd * eye(3)) * v); w"
   ]
  },
  {
   "cell_type": "code",
   "execution_count": 6,
   "id": "77299659",
   "metadata": {},
   "outputs": [
    {
     "data": {
      "text/plain": [
       "{x: 2*y - z}"
      ]
     },
     "execution_count": 6,
     "metadata": {},
     "output_type": "execute_result"
    }
   ],
   "source": [
    "ans = solve(w(1)); ans"
   ]
  },
  {
   "cell_type": "code",
   "execution_count": 7,
   "id": "fa2d7d89",
   "metadata": {},
   "outputs": [
    {
     "data": {
      "text/latex": [
       "$\\displaystyle \\left[\\begin{matrix}2 y - z\\\\y\\\\z\\end{matrix}\\right]$"
      ],
      "text/plain": [
       "Matrix([\n",
       "[2*y - z],\n",
       "[      y],\n",
       "[      z]])"
      ]
     },
     "execution_count": 7,
     "metadata": {},
     "output_type": "execute_result"
    }
   ],
   "source": [
    "v.subs(ans)"
   ]
  },
  {
   "cell_type": "code",
   "execution_count": 8,
   "id": "cf871940",
   "metadata": {},
   "outputs": [
    {
     "data": {
      "text/plain": [
       "{x: 2*z/3, y: 2*z/3}"
      ]
     },
     "execution_count": 8,
     "metadata": {},
     "output_type": "execute_result"
    }
   ],
   "source": [
    "ans = solve(w(2)); ans"
   ]
  },
  {
   "cell_type": "code",
   "execution_count": 9,
   "id": "ec322f8f",
   "metadata": {},
   "outputs": [
    {
     "data": {
      "text/plain": [
       "{2: 1, 1: 2}"
      ]
     },
     "execution_count": 9,
     "metadata": {},
     "output_type": "execute_result"
    }
   ],
   "source": [
    "A.eigenvals()"
   ]
  },
  {
   "cell_type": "code",
   "execution_count": 10,
   "id": "f7ee0e99",
   "metadata": {},
   "outputs": [
    {
     "data": {
      "text/plain": [
       "[(1,\n",
       "  2,\n",
       "  [Matrix([\n",
       "   [2],\n",
       "   [1],\n",
       "   [0]]),\n",
       "   Matrix([\n",
       "   [-1],\n",
       "   [ 0],\n",
       "   [ 1]])]),\n",
       " (2,\n",
       "  1,\n",
       "  [Matrix([\n",
       "   [2/3],\n",
       "   [2/3],\n",
       "   [  1]])])]"
      ]
     },
     "execution_count": 10,
     "metadata": {},
     "output_type": "execute_result"
    }
   ],
   "source": [
    "A.eigenvects()"
   ]
  },
  {
   "cell_type": "markdown",
   "id": "63e5dc1f",
   "metadata": {},
   "source": [
    "---\n",
    "[Untitled1.py](./7.2/Untitled1.py) / [Untitled1.ipynb](./7.2/Untitled1.ipynb)"
   ]
  },
  {
   "cell_type": "code",
   "execution_count": 1,
   "id": "be401ca5",
   "metadata": {},
   "outputs": [
    {
     "data": {
      "text/plain": [
       "array([1.+0.j, 1.+2.j, 1.-2.j])"
      ]
     },
     "execution_count": 1,
     "metadata": {},
     "output_type": "execute_result"
    }
   ],
   "source": [
    "from numpy.linalg import eig, norm\n",
    "A = [[3, -2, 2], [2, -1, 4], [2, -2, 1]]\n",
    "lmd, vec = eig(A)\n",
    "lmd"
   ]
  },
  {
   "cell_type": "code",
   "execution_count": 2,
   "id": "6a14a860",
   "metadata": {},
   "outputs": [
    {
     "data": {
      "text/plain": [
       "array([ 7.07106781e-01+0.j,  7.07106781e-01+0.j, -3.65101269e-16+0.j])"
      ]
     },
     "execution_count": 2,
     "metadata": {},
     "output_type": "execute_result"
    }
   ],
   "source": [
    "vec[:, 0]"
   ]
  },
  {
   "cell_type": "code",
   "execution_count": 3,
   "id": "adfb085c",
   "metadata": {},
   "outputs": [
    {
     "data": {
      "text/plain": [
       "array([-0.47434165-0.15811388j, -0.79056942+0.j        ,\n",
       "       -0.15811388-0.31622777j])"
      ]
     },
     "execution_count": 3,
     "metadata": {},
     "output_type": "execute_result"
    }
   ],
   "source": [
    "vec[:, 1]"
   ]
  },
  {
   "cell_type": "code",
   "execution_count": 4,
   "id": "d8462458",
   "metadata": {},
   "outputs": [
    {
     "data": {
      "text/plain": [
       "array([-0.47434165+0.15811388j, -0.79056942-0.j        ,\n",
       "       -0.15811388+0.31622777j])"
      ]
     },
     "execution_count": 4,
     "metadata": {},
     "output_type": "execute_result"
    }
   ],
   "source": [
    "vec[:, 2]"
   ]
  },
  {
   "cell_type": "code",
   "execution_count": 5,
   "id": "a5ee3b7d",
   "metadata": {},
   "outputs": [
    {
     "data": {
      "text/plain": [
       "[1.0, 0.9999999999999997, 0.9999999999999997]"
      ]
     },
     "execution_count": 5,
     "metadata": {},
     "output_type": "execute_result"
    }
   ],
   "source": [
    "[norm(vec[:, n]) for n in range(3)]"
   ]
  },
  {
   "cell_type": "markdown",
   "id": "af399c35",
   "metadata": {},
   "source": [
    "---\n",
    "**Program:** [eig1.py](./7.2/eig1.py) / [eig1.ipynb](./7.2/eig1.ipynb)"
   ]
  },
  {
   "cell_type": "code",
   "execution_count": 1,
   "id": "7cff7c3a",
   "metadata": {},
   "outputs": [
    {
     "name": "stdout",
     "output_type": "stream",
     "text": [
      "eigen value: 1\n",
      "multiplicity: 2\n",
      "eigen vector:\n",
      "Matrix([[1], [0]])\n"
     ]
    }
   ],
   "source": [
    "import sympy as sp\n",
    "\n",
    "A = [[1, 1], [0, 1]]\n",
    "a = sp.Matrix(A).eigenvects()\n",
    "print(f'''eigen value: {a[0][0]}\n",
    "multiplicity: {a[0][1]}\n",
    "eigen vector:\n",
    "{a[0][2][0]}''')"
   ]
  },
  {
   "cell_type": "markdown",
   "id": "af7608b5",
   "metadata": {},
   "source": [
    "---\n",
    "**Program:** [eig2.py](./7.2/eig2.py) / [eig2.ipynb](./7.2/eig2.ipynb)"
   ]
  },
  {
   "cell_type": "code",
   "execution_count": 1,
   "id": "b2cedfa4",
   "metadata": {},
   "outputs": [
    {
     "name": "stdout",
     "output_type": "stream",
     "text": [
      "eigen values: 1.0, 1.0\n",
      "eigen vectors:\n",
      "[1. 0.]\n",
      "[-1.00000000e+00  2.22044605e-16]\n"
     ]
    }
   ],
   "source": [
    "import numpy as np\n",
    "\n",
    "A = [[1, 1], [0, 1]]\n",
    "b = np.linalg.eig(A)\n",
    "print(f'''eigen values: {b[0][0]}, {b[0][1]}\n",
    "eigen vectors:\n",
    "{b[1][:, 0]}\n",
    "{b[1][:, 1]}''')"
   ]
  },
  {
   "cell_type": "markdown",
   "id": "3d29c6d2",
   "metadata": {},
   "source": [
    "**Program:** [prob2.py](./7.2/prob2.py) / [prob2.ipynb](./7.2/prob2.ipynb)"
   ]
  },
  {
   "cell_type": "code",
   "execution_count": 1,
   "id": "5a2db5f9",
   "metadata": {},
   "outputs": [],
   "source": [
    "from sympy import Matrix, Symbol, factor_list, factor\n",
    "from numpy.random import choice, seed\n",
    "\n",
    "seed(2021)\n",
    "D = [-5, -4, -3, -2, -1, 1, 2, 3, 4, 5]\n",
    "\n",
    "def f():\n",
    "    while True:\n",
    "        A = Matrix(choice(D, (3, 3)))\n",
    "        cp = A.charpoly(Symbol('lmd'))\n",
    "        F = factor_list(cp)\n",
    "        if len(F[1]) == 3:\n",
    "            print(f'det(A - lmd*I) = {factor(cp.expr)}\\nA = {A}')\n",
    "            return A"
   ]
  },
  {
   "cell_type": "code",
   "execution_count": 2,
   "id": "b8cec863",
   "metadata": {},
   "outputs": [
    {
     "name": "stdout",
     "output_type": "stream",
     "text": [
      "det(A - lmd*I) = lmd*(lmd - 2)*(lmd + 4)\n",
      "A = Matrix([[5, -5, -1], [3, -2, -2], [4, -1, -5]])\n"
     ]
    },
    {
     "data": {
      "text/latex": [
       "$\\displaystyle \\left[\\begin{matrix}5 & -5 & -1\\\\3 & -2 & -2\\\\4 & -1 & -5\\end{matrix}\\right]$"
      ],
      "text/plain": [
       "Matrix([\n",
       "[5, -5, -1],\n",
       "[3, -2, -2],\n",
       "[4, -1, -5]])"
      ]
     },
     "execution_count": 2,
     "metadata": {},
     "output_type": "execute_result"
    }
   ],
   "source": [
    "f()"
   ]
  },
  {
   "cell_type": "markdown",
   "id": "1238e83d",
   "metadata": {},
   "source": [
    "## 7.3. Diagonalization\n",
    "\n",
    "**Program:** [prob2.py](./7.3/prob2.py) / [prob2.ipynb](./7.3/prob2.ipynb)"
   ]
  },
  {
   "cell_type": "code",
   "execution_count": 1,
   "id": "46ed451e",
   "metadata": {},
   "outputs": [],
   "source": [
    "from sympy import Matrix, Symbol, factor_list, factor\n",
    "from numpy.random import choice, seed\n",
    "\n",
    "seed(2021)\n",
    "D = [-5, -4, -3, -2, -1, 1, 2, 3, 4, 5]\n",
    "\n",
    "def f():\n",
    "    while True:\n",
    "        A = Matrix(choice(D, (3, 3)))\n",
    "        cp = A.charpoly(Symbol('lmd'))\n",
    "        F = factor_list(cp.expr)\n",
    "        if len(F[1]) == 3:\n",
    "            print(f'det(A - lmd*I) = {factor(cp.expr)}\\nA = {A}')\n",
    "            return A"
   ]
  },
  {
   "cell_type": "code",
   "execution_count": 2,
   "id": "c1c57910",
   "metadata": {},
   "outputs": [
    {
     "name": "stdout",
     "output_type": "stream",
     "text": [
      "det(A - lmd*I) = lmd*(lmd - 2)*(lmd + 4)\n",
      "A = Matrix([[5, -5, -1], [3, -2, -2], [4, -1, -5]])\n"
     ]
    }
   ],
   "source": [
    "A = f()"
   ]
  },
  {
   "cell_type": "code",
   "execution_count": 3,
   "id": "fd309b2b",
   "metadata": {},
   "outputs": [],
   "source": [
    "X = A.eigenvects()"
   ]
  },
  {
   "cell_type": "code",
   "execution_count": 4,
   "id": "333fc61c",
   "metadata": {},
   "outputs": [],
   "source": [
    "u, v, w = [e for x in X for e in x[2]]"
   ]
  },
  {
   "cell_type": "code",
   "execution_count": 5,
   "id": "f2becd0e",
   "metadata": {},
   "outputs": [
    {
     "data": {
      "text/latex": [
       "$\\displaystyle \\left[\\begin{matrix}\\frac{4}{11} & \\frac{8}{5} & 2\\\\\\frac{5}{11} & \\frac{7}{5} & 1\\\\1 & 1 & 1\\end{matrix}\\right]$"
      ],
      "text/plain": [
       "Matrix([\n",
       "[4/11, 8/5, 2],\n",
       "[5/11, 7/5, 1],\n",
       "[   1,   1, 1]])"
      ]
     },
     "execution_count": 5,
     "metadata": {},
     "output_type": "execute_result"
    }
   ],
   "source": [
    "V = u.row_join(v).row_join(w); V"
   ]
  },
  {
   "cell_type": "code",
   "execution_count": 6,
   "id": "429b1b7e",
   "metadata": {},
   "outputs": [
    {
     "data": {
      "text/latex": [
       "$\\displaystyle \\left[\\begin{matrix}-4 & 0 & 0\\\\0 & 0 & 0\\\\0 & 0 & 2\\end{matrix}\\right]$"
      ],
      "text/plain": [
       "Matrix([\n",
       "[-4, 0, 0],\n",
       "[ 0, 0, 0],\n",
       "[ 0, 0, 2]])"
      ]
     },
     "execution_count": 6,
     "metadata": {},
     "output_type": "execute_result"
    }
   ],
   "source": [
    "V**(-1) * A * V"
   ]
  },
  {
   "cell_type": "markdown",
   "id": "6e341275",
   "metadata": {},
   "source": [
    "---\n",
    "[Untitled.ipynb](./7.3/Untitled.ipynb)"
   ]
  },
  {
   "cell_type": "code",
   "execution_count": 1,
   "id": "c21670b4",
   "metadata": {},
   "outputs": [
    {
     "data": {
      "text/plain": [
       "[{b: c}, {b: -c, a: d}, {b: 0, c: 0}]"
      ]
     },
     "execution_count": 1,
     "metadata": {},
     "output_type": "execute_result"
    }
   ],
   "source": [
    "from sympy import *\n",
    "from sympy.abc import a, b, c, d\n",
    "A = Matrix([[a, b], [c, d]])\n",
    "solve(A.T * A - A * A.T)"
   ]
  },
  {
   "cell_type": "markdown",
   "id": "5590158c",
   "metadata": {},
   "source": [
    "---\n",
    "[Untitled1.ipynb](./7.3/Untitled1.ipynb)"
   ]
  },
  {
   "cell_type": "code",
   "execution_count": 1,
   "id": "234bde85",
   "metadata": {},
   "outputs": [
    {
     "data": {
      "text/latex": [
       "$\\displaystyle \\left[\\begin{matrix}0 & 0\\\\0 & 0\\end{matrix}\\right]$"
      ],
      "text/plain": [
       "Matrix([\n",
       "[0, 0],\n",
       "[0, 0]])"
      ]
     },
     "execution_count": 1,
     "metadata": {},
     "output_type": "execute_result"
    }
   ],
   "source": [
    "from sympy import *\n",
    "A = Matrix([[I, I], [-I, I]])\n",
    "A * A.H - A.H * A"
   ]
  },
  {
   "cell_type": "code",
   "execution_count": 2,
   "id": "f96df49b",
   "metadata": {},
   "outputs": [
    {
     "data": {
      "text/plain": [
       "[(-1 + I,\n",
       "  1,\n",
       "  [Matrix([\n",
       "   [-I],\n",
       "   [ 1]])]),\n",
       " (1 + I,\n",
       "  1,\n",
       "  [Matrix([\n",
       "   [I],\n",
       "   [1]])])]"
      ]
     },
     "execution_count": 2,
     "metadata": {},
     "output_type": "execute_result"
    }
   ],
   "source": [
    "X = A.eigenvects();X"
   ]
  },
  {
   "cell_type": "code",
   "execution_count": 3,
   "id": "9eecad0b",
   "metadata": {},
   "outputs": [
    {
     "data": {
      "text/latex": [
       "$\\displaystyle \\left[\\begin{matrix}- \\frac{\\sqrt{2} i}{2} & \\frac{\\sqrt{2} i}{2}\\\\\\frac{\\sqrt{2}}{2} & \\frac{\\sqrt{2}}{2}\\end{matrix}\\right]$"
      ],
      "text/plain": [
       "Matrix([\n",
       "[-sqrt(2)*I/2, sqrt(2)*I/2],\n",
       "[   sqrt(2)/2,   sqrt(2)/2]])"
      ]
     },
     "execution_count": 3,
     "metadata": {},
     "output_type": "execute_result"
    }
   ],
   "source": [
    "B = [v / v.norm() for x in X for v in x[2]]\n",
    "U = B[0].row_join(B[1]); U"
   ]
  },
  {
   "cell_type": "code",
   "execution_count": 4,
   "id": "48f9ba46",
   "metadata": {},
   "outputs": [
    {
     "data": {
      "text/latex": [
       "$\\displaystyle \\left[\\begin{matrix}-1 + i & 0\\\\0 & 1 + i\\end{matrix}\\right]$"
      ],
      "text/plain": [
       "Matrix([\n",
       "[-1 + I,     0],\n",
       "[     0, 1 + I]])"
      ]
     },
     "execution_count": 4,
     "metadata": {},
     "output_type": "execute_result"
    }
   ],
   "source": [
    "simplify(U.H * A * U)"
   ]
  },
  {
   "cell_type": "code",
   "execution_count": 5,
   "id": "d66aa41e",
   "metadata": {},
   "outputs": [
    {
     "data": {
      "text/plain": [
       "(Matrix([\n",
       " [-I, I],\n",
       " [ 1, 1]]),\n",
       " Matrix([\n",
       " [-1 + I,     0],\n",
       " [     0, 1 + I]]))"
      ]
     },
     "execution_count": 5,
     "metadata": {},
     "output_type": "execute_result"
    }
   ],
   "source": [
    "A.diagonalize()"
   ]
  },
  {
   "cell_type": "markdown",
   "id": "22cdb88f",
   "metadata": {},
   "source": [
    "---\n",
    "[Untitled2.ipynb](./7.3/Untitled2.ipynb)"
   ]
  },
  {
   "cell_type": "code",
   "execution_count": 1,
   "id": "1668ce7b",
   "metadata": {},
   "outputs": [
    {
     "data": {
      "text/plain": [
       "[3, -sqrt(3), sqrt(3)]"
      ]
     },
     "execution_count": 1,
     "metadata": {},
     "output_type": "execute_result"
    }
   ],
   "source": [
    "from sympy import *\n",
    "A = Matrix([[0, 1, 2], [1, 2, 0], [2, 0, 1]])\n",
    "X = A.eigenvects()\n",
    "[x[0] for x in X]"
   ]
  },
  {
   "cell_type": "code",
   "execution_count": 2,
   "id": "859014c1",
   "metadata": {},
   "outputs": [
    {
     "data": {
      "text/latex": [
       "$\\displaystyle \\left[\\begin{matrix}\\frac{\\sqrt{3}}{3} & - \\frac{1}{2} - \\frac{\\sqrt{3}}{6} & \\frac{1}{2} - \\frac{\\sqrt{3}}{6}\\\\\\frac{\\sqrt{3}}{3} & \\frac{1}{2} - \\frac{\\sqrt{3}}{6} & - \\frac{1}{2} - \\frac{\\sqrt{3}}{6}\\\\\\frac{\\sqrt{3}}{3} & \\frac{\\sqrt{3}}{3} & \\frac{\\sqrt{3}}{3}\\end{matrix}\\right]$"
      ],
      "text/plain": [
       "Matrix([\n",
       "[sqrt(3)/3, -1/2 - sqrt(3)/6,  1/2 - sqrt(3)/6],\n",
       "[sqrt(3)/3,  1/2 - sqrt(3)/6, -1/2 - sqrt(3)/6],\n",
       "[sqrt(3)/3,        sqrt(3)/3,        sqrt(3)/3]])"
      ]
     },
     "execution_count": 2,
     "metadata": {},
     "output_type": "execute_result"
    }
   ],
   "source": [
    "B = [simplify(v) for x in X for v in x[2]]\n",
    "C = [simplify(b / b.norm()) for b in B]\n",
    "U = C[0].row_join(C[1]).row_join(C[2]); U"
   ]
  },
  {
   "cell_type": "code",
   "execution_count": 3,
   "id": "12def9e3",
   "metadata": {},
   "outputs": [
    {
     "data": {
      "text/latex": [
       "$\\displaystyle \\left[\\begin{matrix}3 & 0 & 0\\\\0 & - \\sqrt{3} & 0\\\\0 & 0 & \\sqrt{3}\\end{matrix}\\right]$"
      ],
      "text/plain": [
       "Matrix([\n",
       "[3,        0,       0],\n",
       "[0, -sqrt(3),       0],\n",
       "[0,        0, sqrt(3)]])"
      ]
     },
     "execution_count": 3,
     "metadata": {},
     "output_type": "execute_result"
    }
   ],
   "source": [
    "simplify(U.T * A * U)"
   ]
  },
  {
   "cell_type": "markdown",
   "id": "ab15456f",
   "metadata": {},
   "source": [
    "---\n",
    "[Untitled3.ipynb](./7.3/Untitled3.ipynb)"
   ]
  },
  {
   "cell_type": "code",
   "execution_count": 1,
   "id": "2a3eb7a7",
   "metadata": {},
   "outputs": [
    {
     "data": {
      "text/plain": [
       "array([ 9.62347538e+00, -6.23475383e-01,  1.78970268e-16])"
      ]
     },
     "execution_count": 1,
     "metadata": {},
     "output_type": "execute_result"
    }
   ],
   "source": [
    "from numpy import *\n",
    "A = array([[1, 2, 3], [2, 3, 4], [3, 4, 5]])\n",
    "Lmd, V = linalg.eig(A); Lmd"
   ]
  },
  {
   "cell_type": "code",
   "execution_count": 2,
   "id": "bd18d369",
   "metadata": {},
   "outputs": [
    {
     "data": {
      "text/plain": [
       "array([[ 9.62347538e+00, -2.98311220e-15,  3.92073229e-16],\n",
       "       [-4.74862708e-16, -6.23475383e-01,  1.87877276e-17],\n",
       "       [ 1.19870029e-15,  2.70032142e-16,  7.70371978e-32]])"
      ]
     },
     "execution_count": 2,
     "metadata": {},
     "output_type": "execute_result"
    }
   ],
   "source": [
    "linalg.inv(V).dot(A.dot(V))"
   ]
  },
  {
   "cell_type": "code",
   "execution_count": 3,
   "id": "f0806f0c",
   "metadata": {},
   "outputs": [
    {
     "data": {
      "text/plain": [
       "array([-1.,  1.])"
      ]
     },
     "execution_count": 3,
     "metadata": {},
     "output_type": "execute_result"
    }
   ],
   "source": [
    "B = array([[1j, 1j], [-1j, 1j]])\n",
    "Lmd, V = linalg.eigh(B); Lmd"
   ]
  },
  {
   "cell_type": "markdown",
   "id": "39678b81",
   "metadata": {},
   "source": [
    "---\n",
    "**Program:** [prob3.py](./7.3/prob3.py) / [prob3.ipynb](./7.3/prob3.ipynb)"
   ]
  },
  {
   "cell_type": "code",
   "execution_count": 1,
   "id": "162e7bf5",
   "metadata": {},
   "outputs": [],
   "source": [
    "from sympy import Matrix\n",
    "from numpy.random import choice, seed\n",
    "\n",
    "seed(2021)\n",
    "N = [-3, -2, -1, 1, 2, 3]\n",
    "\n",
    "\n",
    "def g(symmetric=True):\n",
    "    if symmetric:\n",
    "        a, b, d = choice(N, 3)\n",
    "        return Matrix([[a, b], [b, d]])\n",
    "    else:\n",
    "        a, b = choice(N, 2)\n",
    "        return Matrix([[a, b], [-b, a]])"
   ]
  },
  {
   "cell_type": "code",
   "execution_count": 2,
   "id": "814b0965",
   "metadata": {},
   "outputs": [
    {
     "data": {
      "text/latex": [
       "$\\displaystyle \\left[\\begin{matrix}2 & 3\\\\3 & -2\\end{matrix}\\right]$"
      ],
      "text/plain": [
       "Matrix([\n",
       "[2,  3],\n",
       "[3, -2]])"
      ]
     },
     "execution_count": 2,
     "metadata": {},
     "output_type": "execute_result"
    }
   ],
   "source": [
    "g()"
   ]
  },
  {
   "cell_type": "code",
   "execution_count": 3,
   "id": "2febd2ca",
   "metadata": {},
   "outputs": [
    {
     "data": {
      "text/latex": [
       "$\\displaystyle \\left[\\begin{matrix}-3 & 3\\\\-3 & -3\\end{matrix}\\right]$"
      ],
      "text/plain": [
       "Matrix([\n",
       "[-3,  3],\n",
       "[-3, -3]])"
      ]
     },
     "execution_count": 3,
     "metadata": {},
     "output_type": "execute_result"
    }
   ],
   "source": [
    "g(False)"
   ]
  },
  {
   "cell_type": "markdown",
   "id": "58911910",
   "metadata": {},
   "source": [
    "## 7.4. Matrix norm and matrix functions\n",
    "\n",
    "**Program:** [unitcircle2.py](./7.4/unitcircle2.py)"
   ]
  },
  {
   "cell_type": "code",
   "execution_count": 1,
   "id": "c4ea0904",
   "metadata": {},
   "outputs": [
    {
     "data": {
      "image/png": "[encoded data removed]",
      "text/plain": [
       "<Figure size 2000x500 with 4 Axes>"
      ]
     },
     "metadata": {},
     "output_type": "display_data"
    }
   ],
   "source": [
    "from numpy import array, arange, pi, sin, cos, isreal\n",
    "from numpy.linalg import eig, norm\n",
    "import matplotlib.pyplot as plt\n",
    "\n",
    "\n",
    "def arrow(p, v, c=(0, 0, 0), w=0.02):\n",
    "    plt.quiver(p[0], p[1], v[0], v[1], units='xy', scale=1,\n",
    "               color=c, width=w)\n",
    "\n",
    "\n",
    "AA = [array([[1, -2], [2, 2]]),\n",
    "      array([[3, 1], [1, 3]]),\n",
    "      array([[2, 1], [0, 2]]),\n",
    "      array([[2, 1], [0, 3]])]\n",
    "T = arange(0, 2 * pi, pi / 500)\n",
    "U = array([(cos(t), sin(t)) for t in T])\n",
    "o = array([0, 0])\n",
    "n = 140\n",
    "plt.figure(figsize=(20, 5))\n",
    "for A in AA:\n",
    "    n += 1\n",
    "    plt.subplot(n)\n",
    "    V = array([A.dot(u) for u in U])\n",
    "    plt.plot(U[:, 0], U[:, 1])\n",
    "    plt.axis('scaled'), plt.xlim(-4, 4), plt.ylim(-4, 4)\n",
    "    plt.plot(V[:, 0], V[:, 1])\n",
    "    for u, v in zip(U[::20], V[::20]):\n",
    "        arrow(u, v - u)\n",
    "    Lmd, Vec = eig(A)\n",
    "    if isreal(Lmd[0]):\n",
    "        arrow(o, Lmd[0] * Vec[:, 0], c=(1, 0, 0), w=0.1)\n",
    "    if isreal(Lmd[1]):\n",
    "        arrow(o, Lmd[1] * Vec[:, 1], c=(0, 1, 0), w=0.1)"
   ]
  },
  {
   "cell_type": "markdown",
   "id": "8ac45e2a",
   "metadata": {},
   "source": [
    "---\n",
    "**Program:** [matrixnorm.py](./7.4/matrixnorm.py)"
   ]
  },
  {
   "cell_type": "code",
   "execution_count": 1,
   "id": "e0dff6e6",
   "metadata": {},
   "outputs": [
    {
     "name": "stdout",
     "output_type": "stream",
     "text": [
      "[[1 2]\n",
      " [2 1]]: num=3.00, spec=3.00, norm=3.00\n",
      "[[ 1  2]\n",
      " [-2  1]]: num=1.00, spec=2.24, norm=2.24\n",
      "[[1 2]\n",
      " [3 4]]: num=5.42, spec=5.37, norm=5.46\n"
     ]
    }
   ],
   "source": [
    "from numpy import array, arange, pi, sin, cos\n",
    "from numpy.linalg import eig, norm\n",
    "\n",
    "M = [array([[1, 2], [2, 1]]),\n",
    "     array([[1, 2], [-2, 1]]),\n",
    "     array([[1, 2], [3, 4]])]\n",
    "T = arange(0, 2 * pi, pi / 500)\n",
    "U = array([(cos(t), sin(t)) for t in T])\n",
    "for A in M:\n",
    "    r1 = max([abs((A.dot(u)).dot(u)) for u in U])\n",
    "    r2 = max([abs(e) for e in eig(A)[0]])\n",
    "    r3 = max([norm(A.dot(u)) for u in U])\n",
    "    print(f'{A}: num={r1:.2f}, spec={r2:.2f}, norm={r3:.2f}')"
   ]
  },
  {
   "cell_type": "markdown",
   "id": "4a72e7ac",
   "metadata": {},
   "source": [
    "---\n",
    "**Program:** [exp_np.py](./7.4/exp_np.py) / [exp_np.ipynb](./7.4/exp_np.ipynb)"
   ]
  },
  {
   "cell_type": "code",
   "execution_count": 1,
   "id": "6c51cb47",
   "metadata": {},
   "outputs": [
    {
     "name": "stdout",
     "output_type": "stream",
     "text": [
      "[[10.21563602  9.84775683]\n",
      " [ 9.84775683 10.21563602]]\n",
      "[[10.22670818  9.85882874]\n",
      " [ 9.85882874 10.22670818]]\n",
      "[[2.71828183 7.3890561 ]\n",
      " [7.3890561  2.71828183]]\n"
     ]
    }
   ],
   "source": [
    "from numpy import matrix, e, exp, diag\n",
    "from numpy.linalg import eigh\n",
    "\n",
    "A = matrix([[1, 2], [2, 1]])\n",
    "m, B = 1, 0\n",
    "for n in range(10):\n",
    "    B += A ** n / m\n",
    "    m *= n + 1\n",
    "print(B)\n",
    "\n",
    "a = eigh(A)\n",
    "S, V = diag(e**a[0]), a[1] \n",
    "print(V * S * V.H)\n",
    "\n",
    "print(exp(A))"
   ]
  },
  {
   "cell_type": "markdown",
   "id": "9388a79d",
   "metadata": {},
   "source": [
    "---\n",
    "**Program:** [exp_sp.py](./7.4/exp_sp.py) / [exp_sp.ipynb](./7.4/exp_sp.ipynb)"
   ]
  },
  {
   "cell_type": "code",
   "execution_count": 1,
   "id": "9c2380e0",
   "metadata": {},
   "outputs": [
    {
     "name": "stdout",
     "output_type": "stream",
     "text": [
      "Matrix([[(-1)**n/2 + 3**n/2, -(-1)**n/2 + 3**n/2], [-(-1)**n/2 + 3**n/2, (-1)**n/2 + 3**n/2]])\n",
      "Matrix([[exp(-1)/2 + exp(3)/2, -exp(-1)/2 + exp(3)/2], [-exp(-1)/2 + exp(3)/2, exp(-1)/2 + exp(3)/2]])\n"
     ]
    }
   ],
   "source": [
    "from sympy import Matrix, exp, var\n",
    "var('n')\n",
    "\n",
    "A = Matrix([[1, 2], [2, 1]])\n",
    "print(A**n)\n",
    "print(exp(A))"
   ]
  },
  {
   "cell_type": "code",
   "execution_count": null,
   "id": "1c65a981",
   "metadata": {},
   "outputs": [],
   "source": []
  }
 ],
 "metadata": {
  "kernelspec": {
   "display_name": "Python 3 (ipykernel)",
   "language": "python",
   "name": "python3"
  },
  "language_info": {
   "codemirror_mode": {
    "name": "ipython",
    "version": 3
   },
   "file_extension": ".py",
   "mimetype": "text/x-python",
   "name": "python",
   "nbconvert_exporter": "python",
   "pygments_lexer": "ipython3",
   "version": "3.10.7"
  }
 },
 "nbformat": 4,
 "nbformat_minor": 5
}
