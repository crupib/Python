{
 "cells": [
  {
   "cell_type": "code",
   "execution_count": 1,
   "id": "1d537bc6",
   "metadata": {},
   "outputs": [],
   "source": [
    "from numpy import matrix, e, exp, diag\n",
    "from numpy.linalg import eigh\n",
    "\n",
    "A = matrix([[1, 2], [2, 1]])\n",
    "m, B = 1, 0\n",
    "for n in range(10):\n",
    "    B += A ** n / m\n",
    "    m *= n + 1"
   ]
  },
  {
   "cell_type": "code",
   "execution_count": 2,
   "id": "12845d15",
   "metadata": {},
   "outputs": [
    {
     "data": {
      "text/plain": [
       "matrix([[10.21563602,  9.84775683],\n",
       "        [ 9.84775683, 10.21563602]])"
      ]
     },
     "execution_count": 2,
     "metadata": {},
     "output_type": "execute_result"
    }
   ],
   "source": [
    "B"
   ]
  },
  {
   "cell_type": "code",
   "execution_count": 3,
   "id": "ed29502a",
   "metadata": {},
   "outputs": [],
   "source": [
    "a = eigh(A)\n",
    "S, V = diag(e**a[0]), a[1] "
   ]
  },
  {
   "cell_type": "code",
   "execution_count": 4,
   "id": "1821b9de",
   "metadata": {},
   "outputs": [
    {
     "data": {
      "text/plain": [
       "matrix([[10.22670818,  9.85882874],\n",
       "        [ 9.85882874, 10.22670818]])"
      ]
     },
     "execution_count": 4,
     "metadata": {},
     "output_type": "execute_result"
    }
   ],
   "source": [
    "V * S * V.H"
   ]
  },
  {
   "cell_type": "code",
   "execution_count": 5,
   "id": "7ee57e33",
   "metadata": {},
   "outputs": [
    {
     "data": {
      "text/plain": [
       "matrix([[2.71828183, 7.3890561 ],\n",
       "        [7.3890561 , 2.71828183]])"
      ]
     },
     "execution_count": 5,
     "metadata": {},
     "output_type": "execute_result"
    }
   ],
   "source": [
    "exp(A)"
   ]
  },
  {
   "cell_type": "code",
   "execution_count": null,
   "id": "0dc8ef55",
   "metadata": {},
   "outputs": [],
   "source": []
  }
 ],
 "metadata": {
  "kernelspec": {
   "display_name": "Python 3 (ipykernel)",
   "language": "python",
   "name": "python3"
  },
  "language_info": {
   "codemirror_mode": {
    "name": "ipython",
    "version": 3
   },
   "file_extension": ".py",
   "mimetype": "text/x-python",
   "name": "python",
   "nbconvert_exporter": "python",
   "pygments_lexer": "ipython3",
   "version": "3.10.7"
  }
 },
 "nbformat": 4,
 "nbformat_minor": 5
}
