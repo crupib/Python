{
 "cells": [
  {
   "cell_type": "code",
   "execution_count": 1,
   "id": "55076cf6",
   "metadata": {},
   "outputs": [
    {
     "data": {
      "text/latex": [
       "$\\displaystyle n$"
      ],
      "text/plain": [
       "n"
      ]
     },
     "execution_count": 1,
     "metadata": {},
     "output_type": "execute_result"
    }
   ],
   "source": [
    "from sympy import Matrix, exp, var, E\n",
    "var('n')"
   ]
  },
  {
   "cell_type": "code",
   "execution_count": 2,
   "id": "ee03ca9e",
   "metadata": {},
   "outputs": [
    {
     "data": {
      "text/latex": [
       "$\\displaystyle \\left[\\begin{matrix}\\frac{\\left(-1\\right)^{n}}{2} + \\frac{3^{n}}{2} & - \\frac{\\left(-1\\right)^{n}}{2} + \\frac{3^{n}}{2}\\\\- \\frac{\\left(-1\\right)^{n}}{2} + \\frac{3^{n}}{2} & \\frac{\\left(-1\\right)^{n}}{2} + \\frac{3^{n}}{2}\\end{matrix}\\right]$"
      ],
      "text/plain": [
       "Matrix([\n",
       "[ (-1)**n/2 + 3**n/2, -(-1)**n/2 + 3**n/2],\n",
       "[-(-1)**n/2 + 3**n/2,  (-1)**n/2 + 3**n/2]])"
      ]
     },
     "execution_count": 2,
     "metadata": {},
     "output_type": "execute_result"
    }
   ],
   "source": [
    "A = Matrix([[1, 2], [2, 1]])\n",
    "A**n"
   ]
  },
  {
   "cell_type": "code",
   "execution_count": 3,
   "id": "71431ef1",
   "metadata": {},
   "outputs": [
    {
     "data": {
      "text/latex": [
       "$\\displaystyle \\left[\\begin{matrix}\\frac{\\left(-1\\right)^{n}}{2} + \\frac{3^{n}}{2} & - \\frac{\\left(-1\\right)^{n}}{2} + \\frac{3^{n}}{2}\\\\- \\frac{\\left(-1\\right)^{n}}{2} + \\frac{3^{n}}{2} & \\frac{\\left(-1\\right)^{n}}{2} + \\frac{3^{n}}{2}\\end{matrix}\\right]$"
      ],
      "text/plain": [
       "Matrix([\n",
       "[ (-1)**n/2 + 3**n/2, -(-1)**n/2 + 3**n/2],\n",
       "[-(-1)**n/2 + 3**n/2,  (-1)**n/2 + 3**n/2]])"
      ]
     },
     "execution_count": 3,
     "metadata": {},
     "output_type": "execute_result"
    }
   ],
   "source": [
    "A**n"
   ]
  },
  {
   "cell_type": "code",
   "execution_count": 4,
   "id": "a058f48f",
   "metadata": {},
   "outputs": [
    {
     "data": {
      "text/latex": [
       "$\\displaystyle \\left[\\begin{matrix}\\frac{1}{2 e} + \\frac{e^{3}}{2} & - \\frac{1}{2 e} + \\frac{e^{3}}{2}\\\\- \\frac{1}{2 e} + \\frac{e^{3}}{2} & \\frac{1}{2 e} + \\frac{e^{3}}{2}\\end{matrix}\\right]$"
      ],
      "text/plain": [
       "Matrix([\n",
       "[ exp(-1)/2 + exp(3)/2, -exp(-1)/2 + exp(3)/2],\n",
       "[-exp(-1)/2 + exp(3)/2,  exp(-1)/2 + exp(3)/2]])"
      ]
     },
     "execution_count": 4,
     "metadata": {},
     "output_type": "execute_result"
    }
   ],
   "source": [
    "exp(A)"
   ]
  },
  {
   "cell_type": "code",
   "execution_count": 5,
   "id": "d76cbd89",
   "metadata": {},
   "outputs": [
    {
     "ename": "TypeError",
     "evalue": "unsupported operand type(s) for ** or pow(): 'Exp1' and 'MutableDenseMatrix'",
     "output_type": "error",
     "traceback": [
      "\u001b[0;31m---------------------------------------------------------------------------\u001b[0m",
      "\u001b[0;31mTypeError\u001b[0m                                 Traceback (most recent call last)",
      "Cell \u001b[0;32mIn [5], line 1\u001b[0m\n\u001b[0;32m----> 1\u001b[0m \u001b[43mE\u001b[49m\u001b[38;5;241;43m*\u001b[39;49m\u001b[38;5;241;43m*\u001b[39;49m\u001b[43mA\u001b[49m\n",
      "\u001b[0;31mTypeError\u001b[0m: unsupported operand type(s) for ** or pow(): 'Exp1' and 'MutableDenseMatrix'"
     ]
    }
   ],
   "source": [
    "E**A"
   ]
  },
  {
   "cell_type": "code",
   "execution_count": null,
   "id": "239916a0",
   "metadata": {},
   "outputs": [],
   "source": []
  }
 ],
 "metadata": {
  "kernelspec": {
   "display_name": "Python 3 (ipykernel)",
   "language": "python",
   "name": "python3"
  },
  "language_info": {
   "codemirror_mode": {
    "name": "ipython",
    "version": 3
   },
   "file_extension": ".py",
   "mimetype": "text/x-python",
   "name": "python",
   "nbconvert_exporter": "python",
   "pygments_lexer": "ipython3",
   "version": "3.10.7"
  }
 },
 "nbformat": 4,
 "nbformat_minor": 5
}
