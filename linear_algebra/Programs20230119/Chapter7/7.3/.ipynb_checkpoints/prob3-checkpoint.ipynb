{
 "cells": [
  {
   "cell_type": "code",
   "execution_count": 4,
   "id": "7e3c5e02",
   "metadata": {},
   "outputs": [],
   "source": [
    "from sympy import Matrix\n",
    "from numpy.random import choice, seed\n",
    "\n",
    "seed(2021)\n",
    "N = [-3, -2, -1, 1, 2, 3]\n",
    "\n",
    "\n",
    "def g(symmetric=True):\n",
    "    if symmetric:\n",
    "        a, b, d = choice(N, 3)\n",
    "        return Matrix([[a, b], [b, d]])\n",
    "    else:\n",
    "        a, b = choice(N, 2)\n",
    "        return Matrix([[a, b], [-b, a]])"
   ]
  },
  {
   "cell_type": "code",
   "execution_count": 5,
   "id": "b35229d5",
   "metadata": {},
   "outputs": [
    {
     "data": {
      "text/latex": [
       "$\\displaystyle \\left[\\begin{matrix}2 & 3\\\\3 & -2\\end{matrix}\\right]$"
      ],
      "text/plain": [
       "Matrix([\n",
       "[2,  3],\n",
       "[3, -2]])"
      ]
     },
     "execution_count": 5,
     "metadata": {},
     "output_type": "execute_result"
    }
   ],
   "source": [
    "g()"
   ]
  },
  {
   "cell_type": "code",
   "execution_count": 6,
   "id": "e5a439a6",
   "metadata": {},
   "outputs": [
    {
     "data": {
      "text/latex": [
       "$\\displaystyle \\left[\\begin{matrix}-3 & 3\\\\-3 & -3\\end{matrix}\\right]$"
      ],
      "text/plain": [
       "Matrix([\n",
       "[-3,  3],\n",
       "[-3, -3]])"
      ]
     },
     "execution_count": 6,
     "metadata": {},
     "output_type": "execute_result"
    }
   ],
   "source": [
    "g(False)"
   ]
  },
  {
   "cell_type": "code",
   "execution_count": null,
   "id": "312639a5",
   "metadata": {},
   "outputs": [],
   "source": []
  }
 ],
 "metadata": {
  "kernelspec": {
   "display_name": "Python 3 (ipykernel)",
   "language": "python",
   "name": "python3"
  },
  "language_info": {
   "codemirror_mode": {
    "name": "ipython",
    "version": 3
   },
   "file_extension": ".py",
   "mimetype": "text/x-python",
   "name": "python",
   "nbconvert_exporter": "python",
   "pygments_lexer": "ipython3",
   "version": "3.9.2"
  }
 },
 "nbformat": 4,
 "nbformat_minor": 5
}
