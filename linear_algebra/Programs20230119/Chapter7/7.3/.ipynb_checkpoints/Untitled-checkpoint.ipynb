{
 "cells": [
  {
   "cell_type": "code",
   "execution_count": 1,
   "id": "c7f0660a",
   "metadata": {},
   "outputs": [
    {
     "data": {
      "text/plain": [
       "[{b: c}, {b: -c, a: d}, {b: 0, c: 0}]"
      ]
     },
     "execution_count": 1,
     "metadata": {},
     "output_type": "execute_result"
    }
   ],
   "source": [
    "from sympy import *\n",
    "from sympy.abc import a, b, c, d\n",
    "A = Matrix([[a, b], [c, d]])\n",
    "solve(A.T * A - A * A.T)"
   ]
  },
  {
   "cell_type": "code",
   "execution_count": null,
   "id": "3cabc010",
   "metadata": {},
   "outputs": [],
   "source": []
  }
 ],
 "metadata": {
  "kernelspec": {
   "display_name": "Python 3 (ipykernel)",
   "language": "python",
   "name": "python3"
  },
  "language_info": {
   "codemirror_mode": {
    "name": "ipython",
    "version": 3
   },
   "file_extension": ".py",
   "mimetype": "text/x-python",
   "name": "python",
   "nbconvert_exporter": "python",
   "pygments_lexer": "ipython3",
   "version": "3.9.2"
  }
 },
 "nbformat": 4,
 "nbformat_minor": 5
}
