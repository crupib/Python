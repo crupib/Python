{
 "cells": [
  {
   "cell_type": "code",
   "execution_count": 1,
   "id": "6518af09",
   "metadata": {},
   "outputs": [
    {
     "data": {
      "text/plain": [
       "[3, -sqrt(3), sqrt(3)]"
      ]
     },
     "execution_count": 1,
     "metadata": {},
     "output_type": "execute_result"
    }
   ],
   "source": [
    "from sympy import *\n",
    "A = Matrix([[0, 1, 2], [1, 2, 0], [2, 0, 1]])\n",
    "X = A.eigenvects()\n",
    "[x[0] for x in X]"
   ]
  },
  {
   "cell_type": "code",
   "execution_count": 2,
   "id": "4b0865c2",
   "metadata": {},
   "outputs": [
    {
     "data": {
      "text/latex": [
       "$\\displaystyle \\left[\\begin{matrix}\\frac{\\sqrt{3}}{3} & - \\frac{1}{2} - \\frac{\\sqrt{3}}{6} & \\frac{1}{2} - \\frac{\\sqrt{3}}{6}\\\\\\frac{\\sqrt{3}}{3} & \\frac{1}{2} - \\frac{\\sqrt{3}}{6} & - \\frac{1}{2} - \\frac{\\sqrt{3}}{6}\\\\\\frac{\\sqrt{3}}{3} & \\frac{\\sqrt{3}}{3} & \\frac{\\sqrt{3}}{3}\\end{matrix}\\right]$"
      ],
      "text/plain": [
       "Matrix([\n",
       "[sqrt(3)/3, -1/2 - sqrt(3)/6,  1/2 - sqrt(3)/6],\n",
       "[sqrt(3)/3,  1/2 - sqrt(3)/6, -1/2 - sqrt(3)/6],\n",
       "[sqrt(3)/3,        sqrt(3)/3,        sqrt(3)/3]])"
      ]
     },
     "execution_count": 2,
     "metadata": {},
     "output_type": "execute_result"
    }
   ],
   "source": [
    "B = [simplify(v) for x in X for v in x[2]]\n",
    "C = [simplify(b / b.norm()) for b in B]\n",
    "U = C[0].row_join(C[1]).row_join(C[2]); U"
   ]
  },
  {
   "cell_type": "code",
   "execution_count": 3,
   "id": "368ff427",
   "metadata": {},
   "outputs": [
    {
     "data": {
      "text/latex": [
       "$\\displaystyle \\left[\\begin{matrix}3 & 0 & 0\\\\0 & - \\sqrt{3} & 0\\\\0 & 0 & \\sqrt{3}\\end{matrix}\\right]$"
      ],
      "text/plain": [
       "Matrix([\n",
       "[3,        0,       0],\n",
       "[0, -sqrt(3),       0],\n",
       "[0,        0, sqrt(3)]])"
      ]
     },
     "execution_count": 3,
     "metadata": {},
     "output_type": "execute_result"
    }
   ],
   "source": [
    "simplify(U.T * A * U)"
   ]
  },
  {
   "cell_type": "code",
   "execution_count": null,
   "id": "7e90d1a5",
   "metadata": {},
   "outputs": [],
   "source": []
  }
 ],
 "metadata": {
  "kernelspec": {
   "display_name": "Python 3 (ipykernel)",
   "language": "python",
   "name": "python3"
  },
  "language_info": {
   "codemirror_mode": {
    "name": "ipython",
    "version": 3
   },
   "file_extension": ".py",
   "mimetype": "text/x-python",
   "name": "python",
   "nbconvert_exporter": "python",
   "pygments_lexer": "ipython3",
   "version": "3.9.2"
  }
 },
 "nbformat": 4,
 "nbformat_minor": 5
}
