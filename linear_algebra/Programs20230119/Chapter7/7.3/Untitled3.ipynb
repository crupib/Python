{
 "cells": [
  {
   "cell_type": "code",
   "execution_count": 1,
   "id": "e7e6c12d",
   "metadata": {},
   "outputs": [
    {
     "data": {
      "text/plain": [
       "array([ 9.62347538e+00, -6.23475383e-01,  1.78970268e-16])"
      ]
     },
     "execution_count": 1,
     "metadata": {},
     "output_type": "execute_result"
    }
   ],
   "source": [
    "from numpy import *\n",
    "A = array([[1, 2, 3], [2, 3, 4], [3, 4, 5]])\n",
    "Lmd, V = linalg.eig(A); Lmd"
   ]
  },
  {
   "cell_type": "code",
   "execution_count": 2,
   "id": "9827db70",
   "metadata": {},
   "outputs": [
    {
     "data": {
      "text/plain": [
       "array([[ 9.62347538e+00, -3.02068765e-15,  3.92073229e-16],\n",
       "       [-1.25900917e-15, -6.23475383e-01,  1.87877276e-17],\n",
       "       [ 1.59077352e-15,  2.88819870e-16,  9.24446373e-32]])"
      ]
     },
     "execution_count": 2,
     "metadata": {},
     "output_type": "execute_result"
    }
   ],
   "source": [
    "linalg.inv(V).dot(A.dot(V))"
   ]
  },
  {
   "cell_type": "code",
   "execution_count": 3,
   "id": "633b0a62",
   "metadata": {},
   "outputs": [
    {
     "data": {
      "text/plain": [
       "array([-1.,  1.])"
      ]
     },
     "execution_count": 3,
     "metadata": {},
     "output_type": "execute_result"
    }
   ],
   "source": [
    "B = array([[1j, 1j], [-1j, 1j]])\n",
    "Lmd, V = linalg.eigh(B); Lmd"
   ]
  },
  {
   "cell_type": "code",
   "execution_count": 4,
   "id": "7637f2b3",
   "metadata": {},
   "outputs": [
    {
     "data": {
      "text/plain": [
       "array([[-1.+1.j,  0.+0.j],\n",
       "       [ 0.+0.j,  1.+1.j]])"
      ]
     },
     "execution_count": 4,
     "metadata": {},
     "output_type": "execute_result"
    }
   ],
   "source": [
    "V.T.conj().dot(B.dot(V))"
   ]
  },
  {
   "cell_type": "code",
   "execution_count": null,
   "id": "12e9da44",
   "metadata": {},
   "outputs": [],
   "source": []
  }
 ],
 "metadata": {
  "kernelspec": {
   "display_name": "Python 3 (ipykernel)",
   "language": "python",
   "name": "python3"
  },
  "language_info": {
   "codemirror_mode": {
    "name": "ipython",
    "version": 3
   },
   "file_extension": ".py",
   "mimetype": "text/x-python",
   "name": "python",
   "nbconvert_exporter": "python",
   "pygments_lexer": "ipython3",
   "version": "3.10.7"
  }
 },
 "nbformat": 4,
 "nbformat_minor": 5
}
