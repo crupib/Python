{
 "cells": [
  {
   "cell_type": "code",
   "execution_count": 1,
   "id": "990fc724",
   "metadata": {},
   "outputs": [],
   "source": [
    "from sympy import Matrix, Symbol, factor_list, factor\n",
    "from numpy.random import choice, seed\n",
    "\n",
    "seed(2021)\n",
    "D = [-5, -4, -3, -2, -1, 1, 2, 3, 4, 5]\n",
    "\n",
    "def f():\n",
    "    while True:\n",
    "        A = Matrix(choice(D, (3, 3)))\n",
    "        cp = A.charpoly(Symbol('lmd'))\n",
    "        F = factor_list(cp)\n",
    "        if len(F[1]) == 3:\n",
    "            print(f'det(A - lmd*I) = {factor(cp.expr)}\\nA = {A}')\n",
    "            return A"
   ]
  },
  {
   "cell_type": "code",
   "execution_count": 2,
   "id": "ed37624d",
   "metadata": {},
   "outputs": [
    {
     "name": "stdout",
     "output_type": "stream",
     "text": [
      "det(A - lmd*I) = lmd*(lmd - 2)*(lmd + 4)\n",
      "A = Matrix([[5, -5, -1], [3, -2, -2], [4, -1, -5]])\n"
     ]
    },
    {
     "data": {
      "text/latex": [
       "$\\displaystyle \\left[\\begin{matrix}5 & -5 & -1\\\\3 & -2 & -2\\\\4 & -1 & -5\\end{matrix}\\right]$"
      ],
      "text/plain": [
       "Matrix([\n",
       "[5, -5, -1],\n",
       "[3, -2, -2],\n",
       "[4, -1, -5]])"
      ]
     },
     "execution_count": 2,
     "metadata": {},
     "output_type": "execute_result"
    }
   ],
   "source": [
    "f()"
   ]
  },
  {
   "cell_type": "code",
   "execution_count": null,
   "id": "5b01336f",
   "metadata": {},
   "outputs": [],
   "source": []
  }
 ],
 "metadata": {
  "kernelspec": {
   "display_name": "Python 3 (ipykernel)",
   "language": "python",
   "name": "python3"
  },
  "language_info": {
   "codemirror_mode": {
    "name": "ipython",
    "version": 3
   },
   "file_extension": ".py",
   "mimetype": "text/x-python",
   "name": "python",
   "nbconvert_exporter": "python",
   "pygments_lexer": "ipython3",
   "version": "3.9.2"
  }
 },
 "nbformat": 4,
 "nbformat_minor": 5
}
