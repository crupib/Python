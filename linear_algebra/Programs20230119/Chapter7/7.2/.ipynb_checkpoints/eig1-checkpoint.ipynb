{
 "cells": [
  {
   "cell_type": "code",
   "execution_count": 1,
   "id": "60d02c25",
   "metadata": {},
   "outputs": [
    {
     "name": "stdout",
     "output_type": "stream",
     "text": [
      "eigen value: 1\n",
      "multiplicity: 2\n",
      "eigen vector:\n",
      "Matrix([[1], [0]])\n"
     ]
    }
   ],
   "source": [
    "import sympy as sp\n",
    "\n",
    "A = [[1, 1], [0, 1]]\n",
    "a = sp.Matrix(A).eigenvects()\n",
    "print(f'''eigen value: {a[0][0]}\n",
    "multiplicity: {a[0][1]}\n",
    "eigen vector:\n",
    "{a[0][2][0]}''')"
   ]
  },
  {
   "cell_type": "code",
   "execution_count": null,
   "id": "8b8a2868",
   "metadata": {},
   "outputs": [],
   "source": []
  }
 ],
 "metadata": {
  "kernelspec": {
   "display_name": "Python 3 (ipykernel)",
   "language": "python",
   "name": "python3"
  },
  "language_info": {
   "codemirror_mode": {
    "name": "ipython",
    "version": 3
   },
   "file_extension": ".py",
   "mimetype": "text/x-python",
   "name": "python",
   "nbconvert_exporter": "python",
   "pygments_lexer": "ipython3",
   "version": "3.9.2"
  }
 },
 "nbformat": 4,
 "nbformat_minor": 5
}
