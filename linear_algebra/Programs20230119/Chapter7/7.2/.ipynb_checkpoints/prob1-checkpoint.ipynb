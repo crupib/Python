{
 "cells": [
  {
   "cell_type": "code",
   "execution_count": 1,
   "id": "b7ce8ecd",
   "metadata": {},
   "outputs": [],
   "source": [
    "from sympy import Matrix\n",
    "from numpy.random import choice, seed\n",
    "\n",
    "N = [-3, -2, -1, 1, 2, 3]\n",
    "seed(2021)\n",
    "\n",
    "def f(truth):\n",
    "    while True:\n",
    "        A = Matrix(choice(N, (2, 2)))\n",
    "        eigenvals= A.eigenvals()\n",
    "        if len(eigenvals) == 2 and not 0 in eigenvals:\n",
    "            if all([x.is_real for x in eigenvals]) == truth:\n",
    "                print(eigenvals)\n",
    "                return A"
   ]
  },
  {
   "cell_type": "code",
   "execution_count": 2,
   "id": "065abf6e",
   "metadata": {},
   "outputs": [
    {
     "name": "stdout",
     "output_type": "stream",
     "text": [
      "{3 - sqrt(2): 1, sqrt(2) + 3: 1}\n"
     ]
    },
    {
     "data": {
      "text/latex": [
       "$\\displaystyle \\left[\\begin{matrix}3 & 2\\\\1 & 3\\end{matrix}\\right]$"
      ],
      "text/plain": [
       "Matrix([\n",
       "[3, 2],\n",
       "[1, 3]])"
      ]
     },
     "execution_count": 2,
     "metadata": {},
     "output_type": "execute_result"
    }
   ],
   "source": [
    "f(True)"
   ]
  },
  {
   "cell_type": "code",
   "execution_count": 3,
   "id": "435616be",
   "metadata": {},
   "outputs": [
    {
     "name": "stdout",
     "output_type": "stream",
     "text": [
      "{5/2 - sqrt(35)*I/2: 1, 5/2 + sqrt(35)*I/2: 1}\n"
     ]
    },
    {
     "data": {
      "text/latex": [
       "$\\displaystyle \\left[\\begin{matrix}3 & 3\\\\-3 & 2\\end{matrix}\\right]$"
      ],
      "text/plain": [
       "Matrix([\n",
       "[ 3, 3],\n",
       "[-3, 2]])"
      ]
     },
     "execution_count": 3,
     "metadata": {},
     "output_type": "execute_result"
    }
   ],
   "source": [
    "f(False)"
   ]
  },
  {
   "cell_type": "code",
   "execution_count": null,
   "id": "da146a8a",
   "metadata": {},
   "outputs": [],
   "source": []
  }
 ],
 "metadata": {
  "kernelspec": {
   "display_name": "Python 3 (ipykernel)",
   "language": "python",
   "name": "python3"
  },
  "language_info": {
   "codemirror_mode": {
    "name": "ipython",
    "version": 3
   },
   "file_extension": ".py",
   "mimetype": "text/x-python",
   "name": "python",
   "nbconvert_exporter": "python",
   "pygments_lexer": "ipython3",
   "version": "3.9.2"
  }
 },
 "nbformat": 4,
 "nbformat_minor": 5
}
