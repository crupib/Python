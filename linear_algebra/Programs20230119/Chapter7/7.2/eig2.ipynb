{
 "cells": [
  {
   "cell_type": "code",
   "execution_count": 1,
   "id": "3d203c80",
   "metadata": {},
   "outputs": [
    {
     "name": "stdout",
     "output_type": "stream",
     "text": [
      "eigen values: 1.0, 1.0\n",
      "eigen vectors:\n",
      "[1. 0.]\n",
      "[-1.00000000e+00  2.22044605e-16]\n"
     ]
    }
   ],
   "source": [
    "import numpy as np\n",
    "\n",
    "A = [[1, 1], [0, 1]]\n",
    "b = np.linalg.eig(A)\n",
    "print(f'''eigen values: {b[0][0]}, {b[0][1]}\n",
    "eigen vectors:\n",
    "{b[1][:, 0]}\n",
    "{b[1][:, 1]}''')"
   ]
  },
  {
   "cell_type": "code",
   "execution_count": null,
   "id": "9afa2b26",
   "metadata": {},
   "outputs": [],
   "source": []
  }
 ],
 "metadata": {
  "kernelspec": {
   "display_name": "Python 3 (ipykernel)",
   "language": "python",
   "name": "python3"
  },
  "language_info": {
   "codemirror_mode": {
    "name": "ipython",
    "version": 3
   },
   "file_extension": ".py",
   "mimetype": "text/x-python",
   "name": "python",
   "nbconvert_exporter": "python",
   "pygments_lexer": "ipython3",
   "version": "3.10.7"
  }
 },
 "nbformat": 4,
 "nbformat_minor": 5
}
