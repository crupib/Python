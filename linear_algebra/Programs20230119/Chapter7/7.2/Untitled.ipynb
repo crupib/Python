{
 "cells": [
  {
   "cell_type": "code",
   "execution_count": 7,
   "id": "079bf8f2",
   "metadata": {},
   "outputs": [
    {
     "data": {
      "text/latex": [
       "$\\displaystyle - lmd^{3} + 4 lmd^{2} - 5 lmd + 2$"
      ],
      "text/plain": [
       "-lmd**3 + 4*lmd**2 - 5*lmd + 2"
      ]
     },
     "execution_count": 7,
     "metadata": {},
     "output_type": "execute_result"
    }
   ],
   "source": [
    "from sympy import *\n",
    "A = Matrix([[3, -4, 2], [2, -3, 2], [3, -6, 4]])\n",
    "f = det(A - var('lmd') * eye(3)); f"
   ]
  },
  {
   "cell_type": "code",
   "execution_count": 8,
   "id": "52d567e0",
   "metadata": {},
   "outputs": [
    {
     "data": {
      "text/latex": [
       "$\\displaystyle - lmd^{3} + 4 lmd^{2} - 5 lmd + 2$"
      ],
      "text/plain": [
       "-lmd**3 + 4*lmd**2 - 5*lmd + 2"
      ]
     },
     "execution_count": 8,
     "metadata": {},
     "output_type": "execute_result"
    }
   ],
   "source": [
    "expand(f)"
   ]
  },
  {
   "cell_type": "code",
   "execution_count": 9,
   "id": "3ebd5105",
   "metadata": {},
   "outputs": [
    {
     "data": {
      "text/latex": [
       "$\\displaystyle - \\left(lmd - 2\\right) \\left(lmd - 1\\right)^{2}$"
      ],
      "text/plain": [
       "-(lmd - 2)*(lmd - 1)**2"
      ]
     },
     "execution_count": 9,
     "metadata": {},
     "output_type": "execute_result"
    }
   ],
   "source": [
    "factor(f)"
   ]
  },
  {
   "cell_type": "code",
   "execution_count": 10,
   "id": "a0894bb0",
   "metadata": {},
   "outputs": [
    {
     "data": {
      "text/latex": [
       "$\\displaystyle \\left[\\begin{matrix}x\\\\y\\\\z\\end{matrix}\\right]$"
      ],
      "text/plain": [
       "Matrix([\n",
       "[x],\n",
       "[y],\n",
       "[z]])"
      ]
     },
     "execution_count": 10,
     "metadata": {},
     "output_type": "execute_result"
    }
   ],
   "source": [
    "v = Matrix([var('x'), var('y'), var('z')]); v"
   ]
  },
  {
   "cell_type": "code",
   "execution_count": 11,
   "id": "20e4ec7f",
   "metadata": {},
   "outputs": [
    {
     "data": {
      "text/latex": [
       "$\\displaystyle \\left( lmd \\mapsto \\left[\\begin{matrix}x \\left(3 - lmd\\right) - 4 y + 2 z\\\\2 x + y \\left(- lmd - 3\\right) + 2 z\\\\3 x - 6 y + z \\left(4 - lmd\\right)\\end{matrix}\\right] \\right)$"
      ],
      "text/plain": [
       "Lambda(lmd, Matrix([\n",
       "[ x*(3 - lmd) - 4*y + 2*z],\n",
       "[2*x + y*(-lmd - 3) + 2*z],\n",
       "[ 3*x - 6*y + z*(4 - lmd)]]))"
      ]
     },
     "execution_count": 11,
     "metadata": {},
     "output_type": "execute_result"
    }
   ],
   "source": [
    "w = Lambda(lmd, (A - lmd * eye(3)) * v); w"
   ]
  },
  {
   "cell_type": "code",
   "execution_count": 12,
   "id": "801e2e56",
   "metadata": {},
   "outputs": [
    {
     "data": {
      "text/plain": [
       "{x: 2*y - z}"
      ]
     },
     "execution_count": 12,
     "metadata": {},
     "output_type": "execute_result"
    }
   ],
   "source": [
    "ans = solve(w(1)); ans"
   ]
  },
  {
   "cell_type": "code",
   "execution_count": 13,
   "id": "9267713a",
   "metadata": {},
   "outputs": [
    {
     "data": {
      "text/latex": [
       "$\\displaystyle \\left[\\begin{matrix}2 y - z\\\\y\\\\z\\end{matrix}\\right]$"
      ],
      "text/plain": [
       "Matrix([\n",
       "[2*y - z],\n",
       "[      y],\n",
       "[      z]])"
      ]
     },
     "execution_count": 13,
     "metadata": {},
     "output_type": "execute_result"
    }
   ],
   "source": [
    "v.subs(ans)"
   ]
  },
  {
   "cell_type": "code",
   "execution_count": 14,
   "id": "4dbd42ee",
   "metadata": {},
   "outputs": [
    {
     "data": {
      "text/plain": [
       "{x: 2*z/3, y: 2*z/3}"
      ]
     },
     "execution_count": 14,
     "metadata": {},
     "output_type": "execute_result"
    }
   ],
   "source": [
    "ans = solve(w(2)); ans"
   ]
  },
  {
   "cell_type": "code",
   "execution_count": 15,
   "id": "14320349",
   "metadata": {},
   "outputs": [
    {
     "data": {
      "text/plain": [
       "{2: 1, 1: 2}"
      ]
     },
     "execution_count": 15,
     "metadata": {},
     "output_type": "execute_result"
    }
   ],
   "source": [
    "A.eigenvals()"
   ]
  },
  {
   "cell_type": "code",
   "execution_count": 16,
   "id": "5a11bd54",
   "metadata": {},
   "outputs": [
    {
     "data": {
      "text/plain": [
       "[(1,\n",
       "  2,\n",
       "  [Matrix([\n",
       "   [2],\n",
       "   [1],\n",
       "   [0]]),\n",
       "   Matrix([\n",
       "   [-1],\n",
       "   [ 0],\n",
       "   [ 1]])]),\n",
       " (2,\n",
       "  1,\n",
       "  [Matrix([\n",
       "   [2/3],\n",
       "   [2/3],\n",
       "   [  1]])])]"
      ]
     },
     "execution_count": 16,
     "metadata": {},
     "output_type": "execute_result"
    }
   ],
   "source": [
    "A.eigenvects()"
   ]
  },
  {
   "cell_type": "code",
   "execution_count": null,
   "id": "a4dabf15",
   "metadata": {},
   "outputs": [],
   "source": []
  }
 ],
 "metadata": {
  "kernelspec": {
   "display_name": "Python 3 (ipykernel)",
   "language": "python",
   "name": "python3"
  },
  "language_info": {
   "codemirror_mode": {
    "name": "ipython",
    "version": 3
   },
   "file_extension": ".py",
   "mimetype": "text/x-python",
   "name": "python",
   "nbconvert_exporter": "python",
   "pygments_lexer": "ipython3",
   "version": "3.10.7"
  }
 },
 "nbformat": 4,
 "nbformat_minor": 5
}
