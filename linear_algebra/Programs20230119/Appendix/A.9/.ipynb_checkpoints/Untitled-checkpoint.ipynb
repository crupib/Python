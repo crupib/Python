{
 "cells": [
  {
   "cell_type": "code",
   "execution_count": 1,
   "id": "bdea7eef",
   "metadata": {},
   "outputs": [
    {
     "data": {
      "text/plain": [
       "[(-b/(2*a) - sqrt(-4*a*c + b**2)/(2*a),),\n",
       " (-b/(2*a) + sqrt(-4*a*c + b**2)/(2*a),)]"
      ]
     },
     "execution_count": 1,
     "metadata": {},
     "output_type": "execute_result"
    }
   ],
   "source": [
    "from sympy import solve, latex\n",
    "from sympy.abc import a, b, c, x\n",
    "A = solve([a*x**2+b*x+c], [x]); A"
   ]
  },
  {
   "cell_type": "code",
   "execution_count": 2,
   "id": "e8072c7f",
   "metadata": {},
   "outputs": [
    {
     "name": "stdout",
     "output_type": "stream",
     "text": [
      "- \\frac{b}{2 a} - \\frac{\\sqrt{- 4 a c + b^{2}}}{2 a}\n"
     ]
    }
   ],
   "source": [
    "print(latex(A[0][0]))"
   ]
  },
  {
   "cell_type": "markdown",
   "id": "bb54e026",
   "metadata": {},
   "source": [
    "$- \\frac{b}{2 a} - \\frac{\\sqrt{- 4 a c + b^{2}}}{2 a}$"
   ]
  },
  {
   "cell_type": "code",
   "execution_count": null,
   "id": "2960db38",
   "metadata": {},
   "outputs": [],
   "source": []
  }
 ],
 "metadata": {
  "kernelspec": {
   "display_name": "Python 3 (ipykernel)",
   "language": "python",
   "name": "python3"
  },
  "language_info": {
   "codemirror_mode": {
    "name": "ipython",
    "version": 3
   },
   "file_extension": ".py",
   "mimetype": "text/x-python",
   "name": "python",
   "nbconvert_exporter": "python",
   "pygments_lexer": "ipython3",
   "version": "3.9.2"
  }
 },
 "nbformat": 4,
 "nbformat_minor": 5
}
