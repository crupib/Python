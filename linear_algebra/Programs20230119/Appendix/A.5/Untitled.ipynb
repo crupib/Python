{
 "cells": [
  {
   "cell_type": "code",
   "execution_count": 1,
   "id": "b99e50d2",
   "metadata": {},
   "outputs": [
    {
     "data": {
      "text/plain": [
       "-2.0"
      ]
     },
     "execution_count": 1,
     "metadata": {},
     "output_type": "execute_result"
    }
   ],
   "source": [
    "1/2-(2+3)*0.5"
   ]
  },
  {
   "cell_type": "code",
   "execution_count": 2,
   "id": "c13f5ed2",
   "metadata": {},
   "outputs": [
    {
     "data": {
      "text/plain": [
       "579"
      ]
     },
     "execution_count": 2,
     "metadata": {},
     "output_type": "execute_result"
    }
   ],
   "source": [
    "a=123\n",
    "x=456\n",
    "a+x"
   ]
  },
  {
   "cell_type": "code",
   "execution_count": 3,
   "id": "9dc4a9c7",
   "metadata": {},
   "outputs": [
    {
     "name": "stdout",
     "output_type": "stream",
     "text": [
      "-2.0\n",
      "579\n"
     ]
    }
   ],
   "source": [
    "print(1/2 - (2 + 3)*0.5)\n",
    "a, x = 123, 456\n",
    "print(a + x)"
   ]
  },
  {
   "cell_type": "code",
   "execution_count": 4,
   "id": "632930f6",
   "metadata": {},
   "outputs": [
    {
     "data": {
      "text/plain": [
       "(123, 456)"
      ]
     },
     "execution_count": 4,
     "metadata": {},
     "output_type": "execute_result"
    }
   ],
   "source": [
    "a, x"
   ]
  },
  {
   "cell_type": "code",
   "execution_count": null,
   "id": "6ac4daa0",
   "metadata": {},
   "outputs": [],
   "source": []
  }
 ],
 "metadata": {
  "kernelspec": {
   "display_name": "Python 3 (ipykernel)",
   "language": "python",
   "name": "python3"
  },
  "language_info": {
   "codemirror_mode": {
    "name": "ipython",
    "version": 3
   },
   "file_extension": ".py",
   "mimetype": "text/x-python",
   "name": "python",
   "nbconvert_exporter": "python",
   "pygments_lexer": "ipython3",
   "version": "3.10.7"
  }
 },
 "nbformat": 4,
 "nbformat_minor": 5
}
