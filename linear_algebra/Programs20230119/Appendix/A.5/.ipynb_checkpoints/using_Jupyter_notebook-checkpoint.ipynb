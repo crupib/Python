{
 "cells": [
  {
   "cell_type": "markdown",
   "id": "908f8a80",
   "metadata": {},
   "source": [
    "We can use Jupyter Notebook that is a Web application instead of Python's IDE.\n",
    "\n",
    "* **Windows or macOS:**   When Anaconda is installed, launch it from Anaconda Navigator.\n",
    "\n",
    "* **Raspberry Pi 4/400:** Select item \"Jupyter Notebook\" in the menu of \"Programming\"  or \"Education\".\n",
    "\n",
    "[![notebook_rpi.png](./notebook_rpi.png)]()\n",
    "\n",
    "\n",
    "* ***Ubuntu 64-bit Desktop for Raspberry Pi 4/400:**   Select Jupyter Notebook icon in \"Show Applications\" of Dock.\n",
    "\n",
    "[![notebook_ubuntu.png](./notebook_ubuntu.png)]()\n",
    "\n",
    "In all environments we can launch it by executing the following command.\n",
    "\n",
    "```bash\n",
    "jupyter notebook\n",
    "```\n",
    "\n",
    "We may replace the above command by `jupyter-notebook`."
   ]
  },
  {
   "cell_type": "markdown",
   "id": "fcdf3dd1",
   "metadata": {},
   "source": [
    "\n",
    "If we launch it, the Web browser starts up.\n",
    "Move to a suitable directory displayed on the tab if necessary.\n",
    "Next, create a new notebook of Python 3.\n",
    "\n",
    "[![notebook_launch.png](./notebook_launch.png)]()\n",
    "\n",
    "Then another tab called a notebook will open.\n",
    "\n",
    "[![notebook_use.png](./notebook_use.png)]()\n",
    "\n",
    "\n",
    "In the notebook `In[`$n$ `]` is a prompt, where $n$ indicates the order of dialogue with Python.\n",
    "The gray zone is called a *cell*, where we can write a question with Python code.\n",
    "To tell Python a question, hold down the shift key and press enter (Shift+Enter).\n",
    "Pressing only the enter key means a line break.\n",
    "We can write multiple lines of Python code in a cell.\n"
   ]
  },
  {
   "cell_type": "code",
   "execution_count": 1,
   "id": "0561dc7e",
   "metadata": {},
   "outputs": [
    {
     "data": {
      "text/plain": [
       "579"
      ]
     },
     "execution_count": 1,
     "metadata": {},
     "output_type": "execute_result"
    }
   ],
   "source": [
    "a=123\n",
    "x=456\n",
    "a+x"
   ]
  },
  {
   "cell_type": "markdown",
   "id": "5d55ab7e",
   "metadata": {},
   "source": [
    "By Shift+Enter we get the answer.\n",
    "\n",
    "We can also write multiple Python program codes in a cell.\n",
    "If we want to see the line numbers, press the escape key and then the \"L\" key. \n",
    "This operation is toggled."
   ]
  },
  {
   "cell_type": "code",
   "execution_count": 2,
   "id": "c1f3d524",
   "metadata": {},
   "outputs": [
    {
     "data": {
      "text/plain": [
       "-2.0"
      ]
     },
     "execution_count": 2,
     "metadata": {},
     "output_type": "execute_result"
    }
   ],
   "source": [
    "1/2-(2+3)*0.5"
   ]
  },
  {
   "cell_type": "code",
   "execution_count": 3,
   "id": "35ebe515",
   "metadata": {},
   "outputs": [
    {
     "data": {
      "text/plain": [
       "579"
      ]
     },
     "execution_count": 3,
     "metadata": {},
     "output_type": "execute_result"
    }
   ],
   "source": [
    "a=123\n",
    "x=456\n",
    "a+x"
   ]
  },
  {
   "cell_type": "code",
   "execution_count": 4,
   "id": "1e103214",
   "metadata": {},
   "outputs": [
    {
     "name": "stdout",
     "output_type": "stream",
     "text": [
      "-2.0\n",
      "579\n"
     ]
    }
   ],
   "source": [
    "print(1/2 - (2 + 3)*0.5)\n",
    "a, x = 123, 456\n",
    "print(a + x)"
   ]
  },
  {
   "cell_type": "code",
   "execution_count": 5,
   "id": "07a950ef",
   "metadata": {},
   "outputs": [
    {
     "data": {
      "text/plain": [
       "(123, 456)"
      ]
     },
     "execution_count": 5,
     "metadata": {},
     "output_type": "execute_result"
    }
   ],
   "source": [
    "a, x"
   ]
  },
  {
   "cell_type": "markdown",
   "id": "0c681f8f",
   "metadata": {},
   "source": [
    "These interactions are automatically saved in a file with the file extension `.ipynb` on the current directory after a short time.\n",
    "If necessary, we may rename it or save it as another name."
   ]
  },
  {
   "cell_type": "code",
   "execution_count": null,
   "id": "0234ae43",
   "metadata": {},
   "outputs": [],
   "source": []
  }
 ],
 "metadata": {
  "kernelspec": {
   "display_name": "Python 3 (ipykernel)",
   "language": "python",
   "name": "python3"
  },
  "language_info": {
   "codemirror_mode": {
    "name": "ipython",
    "version": 3
   },
   "file_extension": ".py",
   "mimetype": "text/x-python",
   "name": "python",
   "nbconvert_exporter": "python",
   "pygments_lexer": "ipython3",
   "version": "3.10.7"
  }
 },
 "nbformat": 4,
 "nbformat_minor": 5
}
