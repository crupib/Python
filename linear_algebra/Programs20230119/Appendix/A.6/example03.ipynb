{
 "cells": [
  {
   "cell_type": "code",
   "execution_count": 1,
   "id": "5fe92be4",
   "metadata": {},
   "outputs": [
    {
     "name": "stdout",
     "output_type": "stream",
     "text": [
      "{x: -1/3, y: 2/3}\n",
      "[{x: -1/2 - sqrt(3)*I/2}, {x: -1/2 + sqrt(3)*I/2}]\n",
      "[{x: -sqrt(2)/2, y: -sqrt(2)/2}, {x: sqrt(2)/2, y: sqrt(2)/2}]\n"
     ]
    }
   ],
   "source": [
    "import sympy\n",
    "from sympy.abc import x, y\n",
    "\n",
    "ans1 = sympy.solve([x + 2*y - 1, 4*x + 5*y - 2])\n",
    "print(ans1)\n",
    "ans2 = sympy.solve([x**2 + x + 1])\n",
    "print(ans2)\n",
    "ans3 = sympy.solve([x**2 + y**2 - 1, x - y])\n",
    "print(ans3)"
   ]
  },
  {
   "cell_type": "code",
   "execution_count": 2,
   "id": "3f98aae5",
   "metadata": {},
   "outputs": [
    {
     "data": {
      "text/plain": [
       "{x: -1/3, y: 2/3}"
      ]
     },
     "execution_count": 2,
     "metadata": {},
     "output_type": "execute_result"
    }
   ],
   "source": [
    "ans1"
   ]
  },
  {
   "cell_type": "code",
   "execution_count": null,
   "id": "2681f5ce",
   "metadata": {},
   "outputs": [],
   "source": []
  }
 ],
 "metadata": {
  "kernelspec": {
   "display_name": "Python 3 (ipykernel)",
   "language": "python",
   "name": "python3"
  },
  "language_info": {
   "codemirror_mode": {
    "name": "ipython",
    "version": 3
   },
   "file_extension": ".py",
   "mimetype": "text/x-python",
   "name": "python",
   "nbconvert_exporter": "python",
   "pygments_lexer": "ipython3",
   "version": "3.10.7"
  }
 },
 "nbformat": 4,
 "nbformat_minor": 5
}
