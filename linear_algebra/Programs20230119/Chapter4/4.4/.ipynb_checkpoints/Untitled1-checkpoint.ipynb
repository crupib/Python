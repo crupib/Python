{
 "cells": [
  {
   "cell_type": "code",
   "execution_count": 1,
   "id": "e4c0854a",
   "metadata": {},
   "outputs": [
    {
     "data": {
      "text/latex": [
       "$\\displaystyle \\left[\\begin{matrix}- \\frac{1}{3} & \\frac{2}{3}\\\\\\frac{2}{3} & - \\frac{1}{3}\\end{matrix}\\right]$"
      ],
      "text/plain": [
       "Matrix([\n",
       "[-1/3,  2/3],\n",
       "[ 2/3, -1/3]])"
      ]
     },
     "execution_count": 1,
     "metadata": {},
     "output_type": "execute_result"
    }
   ],
   "source": [
    "from sympy import Matrix, S\n",
    "Matrix([[1, 2], [2, 1]]) ** (-1)"
   ]
  },
  {
   "cell_type": "code",
   "execution_count": 2,
   "id": "7f06294f",
   "metadata": {},
   "outputs": [
    {
     "data": {
      "text/latex": [
       "$\\displaystyle \\left[\\begin{matrix}\\frac{d}{a d - b c} & - \\frac{b}{a d - b c}\\\\- \\frac{c}{a d - b c} & \\frac{a}{a d - b c}\\end{matrix}\\right]$"
      ],
      "text/plain": [
       "Matrix([\n",
       "[ d/(a*d - b*c), -b/(a*d - b*c)],\n",
       "[-c/(a*d - b*c),  a/(a*d - b*c)]])"
      ]
     },
     "execution_count": 2,
     "metadata": {},
     "output_type": "execute_result"
    }
   ],
   "source": [
    "A = Matrix([[S('a'), S('b')], [S('c'), S('d')]])\n",
    "A**(-1)"
   ]
  },
  {
   "cell_type": "code",
   "execution_count": 3,
   "id": "4b3ec226",
   "metadata": {},
   "outputs": [
    {
     "data": {
      "text/latex": [
       "$\\displaystyle \\left[\\begin{matrix}a^{2} + b c & a b + b d\\\\a c + c d & b c + d^{2}\\end{matrix}\\right]$"
      ],
      "text/plain": [
       "Matrix([\n",
       "[a**2 + b*c,  a*b + b*d],\n",
       "[ a*c + c*d, b*c + d**2]])"
      ]
     },
     "execution_count": 3,
     "metadata": {},
     "output_type": "execute_result"
    }
   ],
   "source": [
    "A**2"
   ]
  },
  {
   "cell_type": "code",
   "execution_count": null,
   "id": "25d695c0",
   "metadata": {},
   "outputs": [],
   "source": []
  }
 ],
 "metadata": {
  "kernelspec": {
   "display_name": "Python 3 (ipykernel)",
   "language": "python",
   "name": "python3"
  },
  "language_info": {
   "codemirror_mode": {
    "name": "ipython",
    "version": 3
   },
   "file_extension": ".py",
   "mimetype": "text/x-python",
   "name": "python",
   "nbconvert_exporter": "python",
   "pygments_lexer": "ipython3",
   "version": "3.9.2"
  }
 },
 "nbformat": 4,
 "nbformat_minor": 5
}
