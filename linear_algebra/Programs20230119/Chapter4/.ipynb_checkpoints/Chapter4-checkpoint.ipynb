{
 "cells": [
  {
   "cell_type": "markdown",
   "id": "46851d4e",
   "metadata": {},
   "source": [
    "# Chapter 4. Matrix\n",
    "\n",
    "## 4.1. Matrix operations\n",
    "\n",
    "[Untitled.ipynb](./4.1/Untitled.ipynb)"
   ]
  },
  {
   "cell_type": "code",
   "execution_count": 1,
   "id": "bbffdd3f",
   "metadata": {},
   "outputs": [
    {
     "data": {
      "text/plain": [
       "[[1, 2, 3], [4, 5, 6]]"
      ]
     },
     "execution_count": 1,
     "metadata": {},
     "output_type": "execute_result"
    }
   ],
   "source": [
    "from numpy import array\n",
    "A = [[1, 2, 3], [4, 5, 6]]; A"
   ]
  },
  {
   "cell_type": "code",
   "execution_count": 2,
   "id": "8528b7cf",
   "metadata": {},
   "outputs": [
    {
     "data": {
      "text/plain": [
       "array([[1, 2, 3],\n",
       "       [4, 5, 6]])"
      ]
     },
     "execution_count": 2,
     "metadata": {},
     "output_type": "execute_result"
    }
   ],
   "source": [
    "A = array(A); A"
   ]
  },
  {
   "cell_type": "code",
   "execution_count": 3,
   "id": "0aee0133",
   "metadata": {},
   "outputs": [
    {
     "name": "stdout",
     "output_type": "stream",
     "text": [
      "[[1 2 3]\n",
      " [4 5 6]]\n"
     ]
    }
   ],
   "source": [
    "print(A)"
   ]
  },
  {
   "cell_type": "code",
   "execution_count": 4,
   "id": "242cf399",
   "metadata": {},
   "outputs": [
    {
     "data": {
      "text/plain": [
       "[[1, 2, 3], [4, 5, 6]]"
      ]
     },
     "execution_count": 4,
     "metadata": {},
     "output_type": "execute_result"
    }
   ],
   "source": [
    "L = A.tolist(); L"
   ]
  },
  {
   "cell_type": "code",
   "execution_count": 5,
   "id": "c5f36d4a",
   "metadata": {},
   "outputs": [
    {
     "data": {
      "text/plain": [
       "array([[1, 2, 3],\n",
       "       [4, 5, 6]])"
      ]
     },
     "execution_count": 5,
     "metadata": {},
     "output_type": "execute_result"
    }
   ],
   "source": [
    "B = A.copy(); B"
   ]
  },
  {
   "cell_type": "code",
   "execution_count": 6,
   "id": "48252877",
   "metadata": {},
   "outputs": [
    {
     "data": {
      "text/plain": [
       "array([[ True,  True,  True],\n",
       "       [ True,  True,  True]])"
      ]
     },
     "execution_count": 6,
     "metadata": {},
     "output_type": "execute_result"
    }
   ],
   "source": [
    "A == B"
   ]
  },
  {
   "cell_type": "code",
   "execution_count": 7,
   "id": "e845537c",
   "metadata": {},
   "outputs": [
    {
     "data": {
      "text/plain": [
       "True"
      ]
     },
     "execution_count": 7,
     "metadata": {},
     "output_type": "execute_result"
    }
   ],
   "source": [
    "(A == B).all()"
   ]
  },
  {
   "cell_type": "code",
   "execution_count": 8,
   "id": "222f0677",
   "metadata": {},
   "outputs": [
    {
     "data": {
      "text/plain": [
       "False"
      ]
     },
     "execution_count": 8,
     "metadata": {},
     "output_type": "execute_result"
    }
   ],
   "source": [
    "B[0, 1] = 1\n",
    "(A == B).all()"
   ]
  },
  {
   "cell_type": "code",
   "execution_count": 9,
   "id": "bb68bcaa",
   "metadata": {},
   "outputs": [
    {
     "data": {
      "text/plain": [
       "True"
      ]
     },
     "execution_count": 9,
     "metadata": {},
     "output_type": "execute_result"
    }
   ],
   "source": [
    "(A == B).any()"
   ]
  },
  {
   "cell_type": "markdown",
   "id": "3f344285",
   "metadata": {},
   "source": [
    "---\n",
    "[Untitled1.ipynb](./4.1/Untitled1.ipynb)"
   ]
  },
  {
   "cell_type": "code",
   "execution_count": 1,
   "id": "b4826f36",
   "metadata": {},
   "outputs": [
    {
     "data": {
      "text/plain": [
       "array([1, 2, 3])"
      ]
     },
     "execution_count": 1,
     "metadata": {},
     "output_type": "execute_result"
    }
   ],
   "source": [
    "from numpy import array\n",
    "A = array([1, 2, 3]); A"
   ]
  },
  {
   "cell_type": "code",
   "execution_count": 2,
   "id": "a5f1e3ba",
   "metadata": {},
   "outputs": [
    {
     "data": {
      "text/plain": [
       "array([[1, 2, 3]])"
      ]
     },
     "execution_count": 2,
     "metadata": {},
     "output_type": "execute_result"
    }
   ],
   "source": [
    "B = A.reshape((1, 3)); B"
   ]
  },
  {
   "cell_type": "code",
   "execution_count": 3,
   "id": "bc5aff0f",
   "metadata": {},
   "outputs": [
    {
     "data": {
      "text/plain": [
       "array([[1],\n",
       "       [2],\n",
       "       [3]])"
      ]
     },
     "execution_count": 3,
     "metadata": {},
     "output_type": "execute_result"
    }
   ],
   "source": [
    "C = B.reshape((3, 1)); C"
   ]
  },
  {
   "cell_type": "code",
   "execution_count": 4,
   "id": "406abdb1",
   "metadata": {},
   "outputs": [
    {
     "data": {
      "text/plain": [
       "array([1, 2, 3])"
      ]
     },
     "execution_count": 4,
     "metadata": {},
     "output_type": "execute_result"
    }
   ],
   "source": [
    "D = C.reshape((3,)); D"
   ]
  },
  {
   "cell_type": "code",
   "execution_count": 5,
   "id": "aa5096d2",
   "metadata": {},
   "outputs": [
    {
     "data": {
      "text/plain": [
       "array([0, 2, 3])"
      ]
     },
     "execution_count": 5,
     "metadata": {},
     "output_type": "execute_result"
    }
   ],
   "source": [
    "A[0] = 0; A"
   ]
  },
  {
   "cell_type": "code",
   "execution_count": 6,
   "id": "fae19932",
   "metadata": {},
   "outputs": [
    {
     "data": {
      "text/plain": [
       "(0, 0, 0)"
      ]
     },
     "execution_count": 6,
     "metadata": {},
     "output_type": "execute_result"
    }
   ],
   "source": [
    "B[0, 0], C[0, 0], D[0]"
   ]
  },
  {
   "cell_type": "markdown",
   "id": "000199dc",
   "metadata": {},
   "source": [
    "---\n",
    "[Untitled2.ipynb](./4.1/Untitled2.ipynb)"
   ]
  },
  {
   "cell_type": "code",
   "execution_count": 1,
   "id": "8ae601b7",
   "metadata": {},
   "outputs": [
    {
     "data": {
      "text/plain": [
       "array([[ 2,  5,  8],\n",
       "       [ 6,  9, 12]])"
      ]
     },
     "execution_count": 1,
     "metadata": {},
     "output_type": "execute_result"
    }
   ],
   "source": [
    "from numpy import array\n",
    "A = array([[1, 2, 3], [4, 5, 6]])\n",
    "B = array([[1, 3, 5], [2, 4, 6]])\n",
    "A + B"
   ]
  },
  {
   "cell_type": "code",
   "execution_count": 2,
   "id": "fbedc423",
   "metadata": {},
   "outputs": [
    {
     "data": {
      "text/plain": [
       "array([[ 2,  4,  6],\n",
       "       [ 8, 10, 12]])"
      ]
     },
     "execution_count": 2,
     "metadata": {},
     "output_type": "execute_result"
    }
   ],
   "source": [
    "2 * A"
   ]
  },
  {
   "cell_type": "code",
   "execution_count": 3,
   "id": "851cf8ee",
   "metadata": {},
   "outputs": [
    {
     "data": {
      "text/plain": [
       "array([[0, 0, 0],\n",
       "       [0, 0, 0]])"
      ]
     },
     "execution_count": 3,
     "metadata": {},
     "output_type": "execute_result"
    }
   ],
   "source": [
    "0 * A"
   ]
  },
  {
   "cell_type": "code",
   "execution_count": 4,
   "id": "acccdfc5",
   "metadata": {},
   "outputs": [
    {
     "data": {
      "text/plain": [
       "array([[-1, -2, -3],\n",
       "       [-4, -5, -6]])"
      ]
     },
     "execution_count": 4,
     "metadata": {},
     "output_type": "execute_result"
    }
   ],
   "source": [
    "-1 * A"
   ]
  },
  {
   "cell_type": "markdown",
   "id": "9a83c1d4",
   "metadata": {},
   "source": [
    "---\n",
    "\n",
    "**Program:** [latex1.py](./4.1/latex1.py) / [latex1.ipynb](./4.1/latex1.ipynb)"
   ]
  },
  {
   "cell_type": "code",
   "execution_count": 1,
   "id": "2a426483",
   "metadata": {},
   "outputs": [
    {
     "name": "stdout",
     "output_type": "stream",
     "text": [
      "\\left[\\begin{matrix}-2 & -3 & 3\\\\4 & 4 & 2\\end{matrix}\\right] + \\left[\\begin{matrix}5 & 4 & 1\\\\3 & 3 & 3\\end{matrix}\\right] = \n"
     ]
    }
   ],
   "source": [
    "from numpy.random import seed, randint, choice\n",
    "from sympy import Matrix, latex\n",
    "\n",
    "seed(2021)\n",
    "m, n = randint(2, 4, 2)\n",
    "X = [-3, -2, -1, 1, 2, 3, 4, 5]\n",
    "A = Matrix(choice(X, (m, n)))\n",
    "B = Matrix(choice(X, (m, n)))\n",
    "print(f'{latex(A)} + {latex(B)} = ')"
   ]
  },
  {
   "cell_type": "markdown",
   "id": "6c5b9dd2",
   "metadata": {},
   "source": [
    "$\\left[\\begin{matrix}-2 & -3 & 3\\\\4 & 4 & 2\\end{matrix}\\right] + \\left[\\begin{matrix}5 & 4 & 1\\\\3 & 3 & 3\\end{matrix}\\right] = $"
   ]
  },
  {
   "cell_type": "code",
   "execution_count": 2,
   "id": "f2604a4f",
   "metadata": {},
   "outputs": [
    {
     "data": {
      "text/latex": [
       "$\\displaystyle \\left[\\begin{matrix}3 & 1 & 4\\\\7 & 7 & 5\\end{matrix}\\right]$"
      ],
      "text/plain": [
       "Matrix([\n",
       "[3, 1, 4],\n",
       "[7, 7, 5]])"
      ]
     },
     "execution_count": 2,
     "metadata": {},
     "output_type": "execute_result"
    }
   ],
   "source": [
    "A+B"
   ]
  },
  {
   "cell_type": "markdown",
   "id": "2974c369",
   "metadata": {},
   "source": [
    "[template.tex](./4.1/template.tex)\n",
    "\n",
    "[template.pdf](./4.1/template.pdf)"
   ]
  },
  {
   "cell_type": "markdown",
   "id": "505d5638",
   "metadata": {},
   "source": [
    "## 4.2. Matrix and linear mapping\n",
    "\n",
    "[Untitled.py](./4.2/Untitled.ipynb)"
   ]
  },
  {
   "cell_type": "code",
   "execution_count": 1,
   "id": "e9915573",
   "metadata": {},
   "outputs": [
    {
     "data": {
      "text/plain": [
       "array([17, 39])"
      ]
     },
     "execution_count": 1,
     "metadata": {},
     "output_type": "execute_result"
    }
   ],
   "source": [
    "from numpy import array, dot\n",
    "y = dot([[1, 2], [3, 4]], [5, 6]); y"
   ]
  },
  {
   "cell_type": "code",
   "execution_count": 2,
   "id": "82ae9475",
   "metadata": {},
   "outputs": [
    {
     "data": {
      "text/plain": [
       "array([17, 39])"
      ]
     },
     "execution_count": 2,
     "metadata": {},
     "output_type": "execute_result"
    }
   ],
   "source": [
    "A = array([[1, 2], [3, 4]])\n",
    "A.dot([5, 6])"
   ]
  },
  {
   "cell_type": "code",
   "execution_count": 3,
   "id": "4e2a9f3f",
   "metadata": {},
   "outputs": [
    {
     "data": {
      "text/plain": [
       "array([[17],\n",
       "       [39]])"
      ]
     },
     "execution_count": 3,
     "metadata": {},
     "output_type": "execute_result"
    }
   ],
   "source": [
    "A.dot([[5], [6]])"
   ]
  },
  {
   "cell_type": "markdown",
   "id": "e01fba81",
   "metadata": {},
   "source": [
    "---\n",
    "\n",
    "**Program:** [mypict5.py](./4.2/mypict5.py)"
   ]
  },
  {
   "cell_type": "code",
   "execution_count": 1,
   "id": "6975ef45",
   "metadata": {},
   "outputs": [
    {
     "data": {
      "text/plain": [
       "(-1.3679922752216784,\n",
       " 1.367952868365186,\n",
       " -1.386564726686574,\n",
       " 1.4437046686006383)"
      ]
     },
     "execution_count": 1,
     "metadata": {},
     "output_type": "execute_result"
    },
    {
     "data": {
      "image/png": "[encoded data removed]",
      "text/plain": [
       "<Figure size 640x480 with 1 Axes>"
      ]
     },
     "metadata": {},
     "output_type": "display_data"
    }
   ],
   "source": [
    "from numpy import array, pi, sin, cos\n",
    "import matplotlib.pyplot as plt\n",
    "\n",
    "t = pi / 4\n",
    "A = array([[cos(t), -sin(t)], [sin(t), cos(t)]])\n",
    "\n",
    "with open('mypict1.txt', 'r') as fd:\n",
    "    P = eval(fd.read())\n",
    "\n",
    "Q = [A.dot(p) for p in P]\n",
    "x, y = zip(*Q)\n",
    "plt.scatter(x, y, s=1)\n",
    "plt.axis('equal')"
   ]
  },
  {
   "cell_type": "markdown",
   "id": "ef096800",
   "metadata": {},
   "source": [
    "## 4.3. Composition of linear mappings and product of matrices\n",
    "\n",
    "[Untitled.ipynb](./4.3/Untitled.ipynb)"
   ]
  },
  {
   "cell_type": "code",
   "execution_count": 1,
   "id": "a411ce6c",
   "metadata": {},
   "outputs": [
    {
     "data": {
      "text/plain": [
       "array([[22, 28],\n",
       "       [49, 64]])"
      ]
     },
     "execution_count": 1,
     "metadata": {},
     "output_type": "execute_result"
    }
   ],
   "source": [
    "import numpy as np\n",
    "A = [[1, 2, 3], [4, 5, 6]]\n",
    "B = [[1, 2], [3, 4], [5, 6]]\n",
    "np.dot(A, B)"
   ]
  },
  {
   "cell_type": "code",
   "execution_count": 2,
   "id": "dc59c1e4",
   "metadata": {},
   "outputs": [
    {
     "data": {
      "text/plain": [
       "array([[22, 28],\n",
       "       [49, 64]])"
      ]
     },
     "execution_count": 2,
     "metadata": {},
     "output_type": "execute_result"
    }
   ],
   "source": [
    "np.array(A).dot(B)"
   ]
  },
  {
   "cell_type": "code",
   "execution_count": 3,
   "id": "3f18a11a",
   "metadata": {},
   "outputs": [
    {
     "data": {
      "text/plain": [
       "matrix([[22, 28],\n",
       "        [49, 64]])"
      ]
     },
     "execution_count": 3,
     "metadata": {},
     "output_type": "execute_result"
    }
   ],
   "source": [
    "np.matrix(A) * np.matrix(B)"
   ]
  },
  {
   "cell_type": "markdown",
   "id": "92f4c06d",
   "metadata": {},
   "source": [
    "---\n",
    "\n",
    "**Program:** [problems.py](./4.3/problems.py)"
   ]
  },
  {
   "cell_type": "code",
   "execution_count": 1,
   "id": "dfcf585e",
   "metadata": {},
   "outputs": [
    {
     "name": "stdout",
     "output_type": "stream",
     "text": [
      "[[1 2]\n",
      " [3 4]]\n",
      "[[1 2]\n",
      " [3 4]]\n",
      "= [[ 7 10]\n",
      " [15 22]]\n",
      "\n",
      "[[1 2]\n",
      " [3 4]]\n",
      "[[1 2 3]\n",
      " [4 5 6]]\n",
      "= [[ 9 12 15]\n",
      " [19 26 33]]\n",
      "\n",
      "[[1 2 3]\n",
      " [4 5 6]]\n",
      "[[1 2]\n",
      " [3 4]\n",
      " [5 6]]\n",
      "= [[22 28]\n",
      " [49 64]]\n",
      "\n",
      "[[1 2 3]\n",
      " [4 5 6]]\n",
      "[[1 2 3]\n",
      " [4 5 6]\n",
      " [7 8 9]]\n",
      "= [[30 36 42]\n",
      " [66 81 96]]\n",
      "\n",
      "[[1 2]\n",
      " [3 4]\n",
      " [5 6]]\n",
      "[[1 2]\n",
      " [3 4]]\n",
      "= [[ 7 10]\n",
      " [15 22]\n",
      " [23 34]]\n",
      "\n",
      "[[1 2]\n",
      " [3 4]\n",
      " [5 6]]\n",
      "[[1 2 3]\n",
      " [4 5 6]]\n",
      "= [[ 9 12 15]\n",
      " [19 26 33]\n",
      " [29 40 51]]\n",
      "\n",
      "[[1 2 3]\n",
      " [4 5 6]\n",
      " [7 8 9]]\n",
      "[[1 2]\n",
      " [3 4]\n",
      " [5 6]]\n",
      "= [[ 22  28]\n",
      " [ 49  64]\n",
      " [ 76 100]]\n",
      "\n",
      "[[1 2 3]\n",
      " [4 5 6]\n",
      " [7 8 9]]\n",
      "[[1 2 3]\n",
      " [4 5 6]\n",
      " [7 8 9]]\n",
      "= [[ 30  36  42]\n",
      " [ 66  81  96]\n",
      " [102 126 150]]\n",
      "\n"
     ]
    }
   ],
   "source": [
    "from numpy import array\n",
    "\n",
    "A = array([[1, 2], [3, 4]])\n",
    "B = array([[1, 2, 3], [4, 5, 6]])\n",
    "C = array([[1, 2], [3, 4], [5, 6]])\n",
    "D = array([[1, 2, 3], [4, 5, 6], [7, 8, 9]])\n",
    "\n",
    "for X in (A, B, C, D):\n",
    "    for Y in (A, B, C, D):\n",
    "        if X.shape[1] == Y.shape[0]:\n",
    "            print(f'{X}\\n{Y}\\n= {X.dot(Y)}\\n')"
   ]
  },
  {
   "cell_type": "markdown",
   "id": "cd5df302",
   "metadata": {},
   "source": [
    "---\n",
    "[Untitled1.ipynb](./4.3/Untitled1.ipynb)"
   ]
  },
  {
   "cell_type": "code",
   "execution_count": 1,
   "id": "956e70c9",
   "metadata": {},
   "outputs": [
    {
     "data": {
      "text/latex": [
       "$\\displaystyle \\left[\\begin{matrix}\\frac{1}{2} & 1\\\\\\frac{3}{2} & 2\\end{matrix}\\right]$"
      ],
      "text/plain": [
       "Matrix([\n",
       "[1/2, 1],\n",
       "[3/2, 2]])"
      ]
     },
     "execution_count": 1,
     "metadata": {},
     "output_type": "execute_result"
    }
   ],
   "source": [
    "from sympy import Matrix\n",
    "from sympy.abc import a, b, c, d\n",
    "A = Matrix([[1, 2], [3, 4]])\n",
    "A/2"
   ]
  },
  {
   "cell_type": "code",
   "execution_count": 2,
   "id": "2a8c9fd8",
   "metadata": {},
   "outputs": [
    {
     "data": {
      "text/latex": [
       "$\\displaystyle \\left[\\begin{matrix}\\frac{a}{2} & \\frac{b}{2}\\\\\\frac{c}{2} & \\frac{d}{2}\\end{matrix}\\right]$"
      ],
      "text/plain": [
       "Matrix([\n",
       "[a/2, b/2],\n",
       "[c/2, d/2]])"
      ]
     },
     "execution_count": 2,
     "metadata": {},
     "output_type": "execute_result"
    }
   ],
   "source": [
    "B = Matrix([[a, b], [c, d]])\n",
    "B/2"
   ]
  },
  {
   "cell_type": "code",
   "execution_count": 3,
   "id": "ccf1cce6",
   "metadata": {},
   "outputs": [
    {
     "data": {
      "text/latex": [
       "$\\displaystyle \\left[\\begin{matrix}a + 1 & b + 2\\\\c + 3 & d + 4\\end{matrix}\\right]$"
      ],
      "text/plain": [
       "Matrix([\n",
       "[a + 1, b + 2],\n",
       "[c + 3, d + 4]])"
      ]
     },
     "execution_count": 3,
     "metadata": {},
     "output_type": "execute_result"
    }
   ],
   "source": [
    "A + B"
   ]
  },
  {
   "cell_type": "code",
   "execution_count": 4,
   "id": "c1a038e8",
   "metadata": {},
   "outputs": [
    {
     "data": {
      "text/latex": [
       "$\\displaystyle \\left[\\begin{matrix}a + 2 c & b + 2 d\\\\3 a + 4 c & 3 b + 4 d\\end{matrix}\\right]$"
      ],
      "text/plain": [
       "Matrix([\n",
       "[  a + 2*c,   b + 2*d],\n",
       "[3*a + 4*c, 3*b + 4*d]])"
      ]
     },
     "execution_count": 4,
     "metadata": {},
     "output_type": "execute_result"
    }
   ],
   "source": [
    "A * B"
   ]
  },
  {
   "cell_type": "markdown",
   "id": "9a061672",
   "metadata": {},
   "source": [
    "---\n",
    "[Untitled2.ipynb](./4.3/Untitled2.ipynb)"
   ]
  },
  {
   "cell_type": "code",
   "execution_count": 1,
   "id": "b1f470df",
   "metadata": {},
   "outputs": [
    {
     "data": {
      "text/plain": [
       "0.6666666666666666"
      ]
     },
     "execution_count": 1,
     "metadata": {},
     "output_type": "execute_result"
    }
   ],
   "source": [
    "from sympy import Integer, Rational\n",
    "2 / 3"
   ]
  },
  {
   "cell_type": "code",
   "execution_count": 2,
   "id": "3c2f0198",
   "metadata": {},
   "outputs": [
    {
     "data": {
      "text/latex": [
       "$\\displaystyle \\frac{2}{3}$"
      ],
      "text/plain": [
       "2/3"
      ]
     },
     "execution_count": 2,
     "metadata": {},
     "output_type": "execute_result"
    }
   ],
   "source": [
    "Integer(2) / 3"
   ]
  },
  {
   "cell_type": "code",
   "execution_count": 3,
   "id": "910f82cd",
   "metadata": {},
   "outputs": [
    {
     "data": {
      "text/latex": [
       "$\\displaystyle \\frac{2}{3}$"
      ],
      "text/plain": [
       "2/3"
      ]
     },
     "execution_count": 3,
     "metadata": {},
     "output_type": "execute_result"
    }
   ],
   "source": [
    "Rational(2, 3)"
   ]
  },
  {
   "cell_type": "markdown",
   "id": "58d3cc3d",
   "metadata": {},
   "source": [
    "---\n",
    "[Untitled3.ipynb](./4.3/Untitled3.ipynb)"
   ]
  },
  {
   "cell_type": "code",
   "execution_count": 1,
   "id": "359b0508",
   "metadata": {},
   "outputs": [
    {
     "data": {
      "text/plain": [
       "array([[0., 0., 0.],\n",
       "       [0., 0., 0.]])"
      ]
     },
     "execution_count": 1,
     "metadata": {},
     "output_type": "execute_result"
    }
   ],
   "source": [
    "import numpy as np\n",
    "import sympy as sp\n",
    "np.zeros((2,3))"
   ]
  },
  {
   "cell_type": "code",
   "execution_count": 2,
   "id": "57e40083",
   "metadata": {},
   "outputs": [
    {
     "data": {
      "text/latex": [
       "$\\displaystyle \\left[\\begin{matrix}0 & 0 & 0\\\\0 & 0 & 0\\end{matrix}\\right]$"
      ],
      "text/plain": [
       "Matrix([\n",
       "[0, 0, 0],\n",
       "[0, 0, 0]])"
      ]
     },
     "execution_count": 2,
     "metadata": {},
     "output_type": "execute_result"
    }
   ],
   "source": [
    "sp.zeros(2,3)"
   ]
  },
  {
   "cell_type": "code",
   "execution_count": 3,
   "id": "0f30d5be",
   "metadata": {},
   "outputs": [
    {
     "data": {
      "text/plain": [
       "array([[1., 0., 0.],\n",
       "       [0., 1., 0.],\n",
       "       [0., 0., 1.]])"
      ]
     },
     "execution_count": 3,
     "metadata": {},
     "output_type": "execute_result"
    }
   ],
   "source": [
    "np.eye(3)"
   ]
  },
  {
   "cell_type": "code",
   "execution_count": 4,
   "id": "7cdb9743",
   "metadata": {},
   "outputs": [
    {
     "data": {
      "text/latex": [
       "$\\displaystyle \\left[\\begin{matrix}1 & 0 & 0\\\\0 & 1 & 0\\\\0 & 0 & 1\\end{matrix}\\right]$"
      ],
      "text/plain": [
       "Matrix([\n",
       "[1, 0, 0],\n",
       "[0, 1, 0],\n",
       "[0, 0, 1]])"
      ]
     },
     "execution_count": 4,
     "metadata": {},
     "output_type": "execute_result"
    }
   ],
   "source": [
    "sp.eye(3)"
   ]
  },
  {
   "cell_type": "markdown",
   "id": "8928efb6",
   "metadata": {},
   "source": [
    "---\n",
    "\n",
    "**Program:** [mat_product1.py](./4.3/mat_product1.py)"
   ]
  },
  {
   "cell_type": "code",
   "execution_count": 1,
   "id": "3954e175",
   "metadata": {},
   "outputs": [
    {
     "name": "stdout",
     "output_type": "stream",
     "text": [
      "D = Matrix([[-sin(theta)**2 + cos(theta)**2, 2*sin(theta)*cos(theta)], [2*sin(theta)*cos(theta), sin(theta)**2 - cos(theta)**2]])\n",
      "E = Matrix([[-sin(theta)**2/2 + cos(theta)**2/2 + 1/2, sin(theta)*cos(theta)], [sin(theta)*cos(theta), sin(theta)**2/2 - cos(theta)**2/2 + 1/2]])\n"
     ]
    }
   ],
   "source": [
    "from sympy import Matrix, sin, cos, eye\n",
    "from sympy.abc import theta\n",
    "\n",
    "A = Matrix([[cos(theta), sin(theta)],\n",
    "            [-sin(theta), cos(theta)]])\n",
    "B = Matrix([[1,  0],\n",
    "            [0, -1]])\n",
    "C = Matrix([[cos(theta), -sin(theta)],\n",
    "            [sin(theta), cos(theta)]])\n",
    "D = C * B * A\n",
    "E = (eye(2)+D) / 2\n",
    "print(f'D = {D}')\n",
    "print(f'E = {E}')"
   ]
  },
  {
   "cell_type": "markdown",
   "id": "8cb06f47",
   "metadata": {},
   "source": [
    "---\n",
    "\n",
    "**Program:** [mat_product2.py](./4.3/mat_product2.py)"
   ]
  },
  {
   "cell_type": "code",
   "execution_count": 1,
   "id": "78c5f3be",
   "metadata": {},
   "outputs": [
    {
     "data": {
      "text/plain": [
       "((-0.5, 10.5, -0.28867513459481287, 6.06217782649107), (0.0, 10.0), (0.0, 6.0))"
      ]
     },
     "execution_count": 1,
     "metadata": {},
     "output_type": "execute_result"
    },
    {
     "data": {
      "image/png": "[encoded data removed]",
      "text/plain": [
       "<Figure size 640x480 with 1 Axes>"
      ]
     },
     "metadata": {},
     "output_type": "display_data"
    }
   ],
   "source": [
    "from numpy import matrix, sin, cos, tan, pi, eye\n",
    "import matplotlib.pyplot as plt\n",
    "\n",
    "t = pi / 6\n",
    "A = matrix([[cos(t), sin(t)], [-sin(t), cos(t)]])\n",
    "B = matrix([[1, 0], [0, -1]])\n",
    "C = matrix([[cos(t), -sin(t)], [sin(t), cos(t)]])\n",
    "D = C * B * A\n",
    "E = (eye(2)+D) / 2\n",
    "x = matrix([[5], [5]])\n",
    "y = D * x\n",
    "z = E * x\n",
    "\n",
    "plt.plot([0, 10], [0, 10 * tan(t)])\n",
    "plt.plot([x[0, 0], y[0, 0]], [x[1, 0], y[1, 0]])\n",
    "plt.plot([x[0, 0], z[0, 0]], [x[1, 0], z[1, 0]])\n",
    "plt.text(x[0, 0], x[1, 0], 'x',  fontsize=18)\n",
    "plt.text(y[0, 0], y[1, 0], 'y',  fontsize=18)\n",
    "plt.text(z[0, 0], z[1, 0], 'z',  fontsize=18)\n",
    "plt.axis('scaled'), plt.xlim(0, 10), plt.ylim(0, 6)"
   ]
  },
  {
   "cell_type": "markdown",
   "id": "eb18ac52",
   "metadata": {},
   "source": [
    "---\n",
    "\n",
    "**Program:** [latex2.py](./4.3/latex2.py)"
   ]
  },
  {
   "cell_type": "code",
   "execution_count": 1,
   "id": "6957e2a2",
   "metadata": {},
   "outputs": [
    {
     "name": "stdout",
     "output_type": "stream",
     "text": [
      "\n",
      "\\begin{array}{ll}\n",
      "(1) &\\left[\\begin{matrix}-3 & 3 & 4\\\\4 & 2 & 5\\end{matrix}\\right]\\left[\\begin{matrix}4 & 1 & 3\\\\3 & 3 & -3\\\\2 & 4 & 4\\end{matrix}\\right] =\\\\[0.5cm]\n",
      "(2) &\\left[\\begin{matrix}3 & 5\\\\-2 & 4\\end{matrix}\\right]\\left[\\begin{matrix}-2 & 2 & 3\\\\-1 & -1 & -3\\end{matrix}\\right] =\\\\[0.5cm]\n",
      "(3) &\\left[\\begin{matrix}-3 & -1 & 4\\\\1 & 2 & 3\\\\-3 & 3 & -2\\end{matrix}\\right]\\left[\\begin{matrix}4 & -1 & 4\\\\5 & 3 & 4\\\\-2 & 3 & 4\\end{matrix}\\right] =\\\\[0.5cm]\n",
      "(4) &\\left[\\begin{matrix}2 & 3\\\\-1 & 1\\\\-2 & -1\\end{matrix}\\right]\\left[\\begin{matrix}-1 & 5\\\\-3 & -1\\end{matrix}\\right] =\\\\[0.5cm]\n",
      "(5) &\\left[\\begin{matrix}1 & -2 & 4\\\\-2 & -2 & -1\\end{matrix}\\right]\\left[\\begin{matrix}5 & 3 & 1\\\\1 & 2 & 5\\\\5 & 1 & -2\\end{matrix}\\right] =\\\\\n",
      "\\end{array}\n",
      "\n"
     ]
    }
   ],
   "source": [
    "from numpy.random import seed, choice\n",
    "from sympy import Matrix, latex\n",
    "\n",
    "seed(2021)\n",
    "template = r'''\n",
    "\\begin{array}{ll}\n",
    "(1) &%s%s =\\\\[0.5cm]\n",
    "(2) &%s%s =\\\\[0.5cm]\n",
    "(3) &%s%s =\\\\[0.5cm]\n",
    "(4) &%s%s =\\\\[0.5cm]\n",
    "(5) &%s%s =\\\\\n",
    "\\end{array}\n",
    "'''\n",
    "\n",
    "matrices= ()\n",
    "for no in range(5):\n",
    "    m, el, n = choice([2, 3], 3)\n",
    "    X = [-3, -2, -1, 1, 2, 3, 4, 5]\n",
    "    A = Matrix(choice(X, (m, el)))\n",
    "    B = Matrix(choice(X, (el, n)))\n",
    "    matrices += (latex(A), latex(B))\n",
    "print(template % matrices)"
   ]
  },
  {
   "cell_type": "markdown",
   "id": "8a32b6d5",
   "metadata": {},
   "source": [
    "[template.tex](./4.3/template.tex)\n",
    "\n",
    "[template.pdf](./4.3/template.pdf)\n",
    "$$\n",
    "\\begin{array}{ll}\n",
    "(1) &\\left[\\begin{matrix}-3 & 3 & 4\\\\4 & 2 & 5\\end{matrix}\\right]\\left[\\begin{matrix}4 & 1 & 3\\\\3 & 3 & -3\\\\2 & 4 & 4\\end{matrix}\\right] =\\\\[0.5cm]\n",
    "(2) &\\left[\\begin{matrix}3 & 5\\\\-2 & 4\\end{matrix}\\right]\\left[\\begin{matrix}-2 & 2 & 3\\\\-1 & -1 & -3\\end{matrix}\\right] =\\\\[0.5cm]\n",
    "(3) &\\left[\\begin{matrix}-3 & -1 & 4\\\\1 & 2 & 3\\\\-3 & 3 & -2\\end{matrix}\\right]\\left[\\begin{matrix}4 & -1 & 4\\\\5 & 3 & 4\\\\-2 & 3 & 4\\end{matrix}\\right] =\\\\[0.5cm]\n",
    "(4) &\\left[\\begin{matrix}2 & 3\\\\-1 & 1\\\\-2 & -1\\end{matrix}\\right]\\left[\\begin{matrix}-1 & 5\\\\-3 & -1\\end{matrix}\\right] =\\\\[0.5cm]\n",
    "(5) &\\left[\\begin{matrix}1 & -2 & 4\\\\-2 & -2 & -1\\end{matrix}\\right]\\left[\\begin{matrix}5 & 3 & 1\\\\1 & 2 & 5\\\\5 & 1 & -2\\end{matrix}\\right] =\\\\\n",
    "\\end{array}$$"
   ]
  },
  {
   "cell_type": "markdown",
   "id": "b10572c2",
   "metadata": {},
   "source": [
    "## 4.4. Inverse matrix, basis change and similarity of matrices\n",
    "\n",
    "**Program:**[mat_product3.py](./4.4/mat_product3.py)"
   ]
  },
  {
   "cell_type": "code",
   "execution_count": 1,
   "id": "e91ef052",
   "metadata": {},
   "outputs": [
    {
     "name": "stdout",
     "output_type": "stream",
     "text": [
      "{a: e - 3, c: 2 - 2*e, b: f + 2, d: -2*f - 1}\n"
     ]
    }
   ],
   "source": [
    "from sympy import Matrix, solve, eye\n",
    "from sympy.abc import a, b, c, d, e, f\n",
    "\n",
    "A = Matrix([[1, 2, 3], [2, 3, 4]])\n",
    "B = Matrix([[a, b], [c, d], [e, f]])\n",
    "ans = solve(A*B - eye(2), [a, b, c, d, e, f])\n",
    "print(ans)"
   ]
  },
  {
   "cell_type": "code",
   "execution_count": 2,
   "id": "e5285a6f",
   "metadata": {},
   "outputs": [
    {
     "data": {
      "text/latex": [
       "$\\displaystyle \\left[\\begin{matrix}e - 3 & f + 2\\\\2 - 2 e & - 2 f - 1\\\\e & f\\end{matrix}\\right]$"
      ],
      "text/plain": [
       "Matrix([\n",
       "[  e - 3,    f + 2],\n",
       "[2 - 2*e, -2*f - 1],\n",
       "[      e,        f]])"
      ]
     },
     "execution_count": 2,
     "metadata": {},
     "output_type": "execute_result"
    }
   ],
   "source": [
    "C = B.subs(ans); C"
   ]
  },
  {
   "cell_type": "code",
   "execution_count": 3,
   "id": "f07e8798",
   "metadata": {},
   "outputs": [
    {
     "data": {
      "text/latex": [
       "$\\displaystyle \\left[\\begin{matrix}1 & 0\\\\0 & 1\\end{matrix}\\right]$"
      ],
      "text/plain": [
       "Matrix([\n",
       "[1, 0],\n",
       "[0, 1]])"
      ]
     },
     "execution_count": 3,
     "metadata": {},
     "output_type": "execute_result"
    }
   ],
   "source": [
    "A * C"
   ]
  },
  {
   "cell_type": "markdown",
   "id": "2b20cacb",
   "metadata": {},
   "source": [
    "---\n",
    "[Untitled.ipynb](./4.4/Untitled.ipynb)"
   ]
  },
  {
   "cell_type": "markdown",
   "id": "dd749f88",
   "metadata": {},
   "source": [
    "A = [[1, 2], [2, 1]]\n",
    "from numpy.linalg import inv\n",
    "inv(A)"
   ]
  },
  {
   "cell_type": "code",
   "execution_count": 2,
   "id": "58ce607e",
   "metadata": {},
   "outputs": [
    {
     "data": {
      "text/plain": [
       "matrix([[-0.33333333,  0.66666667],\n",
       "        [ 0.66666667, -0.33333333]])"
      ]
     },
     "execution_count": 2,
     "metadata": {},
     "output_type": "execute_result"
    }
   ],
   "source": [
    "from numpy import matrix\n",
    "matrix(A)**(-1)"
   ]
  },
  {
   "cell_type": "code",
   "execution_count": 3,
   "id": "0fdf0fc7",
   "metadata": {},
   "outputs": [
    {
     "data": {
      "text/plain": [
       "matrix([[5, 4],\n",
       "        [4, 5]])"
      ]
     },
     "execution_count": 3,
     "metadata": {},
     "output_type": "execute_result"
    }
   ],
   "source": [
    "matrix(A)**2"
   ]
  },
  {
   "cell_type": "markdown",
   "id": "70b78e70",
   "metadata": {},
   "source": [
    "---\n",
    "[Untitled1.ipynb](./4.4/Untitled1.ipynb)"
   ]
  },
  {
   "cell_type": "code",
   "execution_count": 1,
   "id": "d6c65d31",
   "metadata": {},
   "outputs": [
    {
     "data": {
      "text/latex": [
       "$\\displaystyle \\left[\\begin{matrix}- \\frac{1}{3} & \\frac{2}{3}\\\\\\frac{2}{3} & - \\frac{1}{3}\\end{matrix}\\right]$"
      ],
      "text/plain": [
       "Matrix([\n",
       "[-1/3,  2/3],\n",
       "[ 2/3, -1/3]])"
      ]
     },
     "execution_count": 1,
     "metadata": {},
     "output_type": "execute_result"
    }
   ],
   "source": [
    "from sympy import Matrix, S\n",
    "Matrix([[1, 2], [2, 1]]) ** (-1)"
   ]
  },
  {
   "cell_type": "code",
   "execution_count": 2,
   "id": "fda85709",
   "metadata": {},
   "outputs": [
    {
     "data": {
      "text/latex": [
       "$\\displaystyle \\left[\\begin{matrix}\\frac{d}{a d - b c} & - \\frac{b}{a d - b c}\\\\- \\frac{c}{a d - b c} & \\frac{a}{a d - b c}\\end{matrix}\\right]$"
      ],
      "text/plain": [
       "Matrix([\n",
       "[ d/(a*d - b*c), -b/(a*d - b*c)],\n",
       "[-c/(a*d - b*c),  a/(a*d - b*c)]])"
      ]
     },
     "execution_count": 2,
     "metadata": {},
     "output_type": "execute_result"
    }
   ],
   "source": [
    "A = Matrix([[S('a'), S('b')], [S('c'), S('d')]])\n",
    "A**(-1)"
   ]
  },
  {
   "cell_type": "code",
   "execution_count": 3,
   "id": "86ae4399",
   "metadata": {},
   "outputs": [
    {
     "data": {
      "text/latex": [
       "$\\displaystyle \\left[\\begin{matrix}a^{2} + b c & a b + b d\\\\a c + c d & b c + d^{2}\\end{matrix}\\right]$"
      ],
      "text/plain": [
       "Matrix([\n",
       "[a**2 + b*c,  a*b + b*d],\n",
       "[ a*c + c*d, b*c + d**2]])"
      ]
     },
     "execution_count": 3,
     "metadata": {},
     "output_type": "execute_result"
    }
   ],
   "source": [
    "A**2"
   ]
  },
  {
   "cell_type": "markdown",
   "id": "b9457d91",
   "metadata": {},
   "source": [
    "## 4.5. Adjoint matrix\n",
    "\n",
    "[Untitled.ipynb](./4.5/Untitled.ipynb)"
   ]
  },
  {
   "cell_type": "code",
   "execution_count": 1,
   "id": "d2533e32",
   "metadata": {},
   "outputs": [
    {
     "data": {
      "text/plain": [
       "array([[1.+2.j, 2.+3.j],\n",
       "       [2.+3.j, 3.+4.j],\n",
       "       [3.+4.j, 4.+5.j]])"
      ]
     },
     "execution_count": 1,
     "metadata": {},
     "output_type": "execute_result"
    }
   ],
   "source": [
    "from numpy import *\n",
    "A = array([[1 + 2j, 2 + 3j, 3 + 4j],\n",
    "           [2 + 3j, 3 + 4j, 4 + 5j]])\n",
    "A.T"
   ]
  },
  {
   "cell_type": "code",
   "execution_count": 2,
   "id": "a77fa0e9",
   "metadata": {},
   "outputs": [
    {
     "data": {
      "text/plain": [
       "array([[1.-2.j, 2.-3.j, 3.-4.j],\n",
       "       [2.-3.j, 3.-4.j, 4.-5.j]])"
      ]
     },
     "execution_count": 2,
     "metadata": {},
     "output_type": "execute_result"
    }
   ],
   "source": [
    "A.conj()"
   ]
  },
  {
   "cell_type": "code",
   "execution_count": 3,
   "id": "67bdba1b",
   "metadata": {},
   "outputs": [
    {
     "data": {
      "text/plain": [
       "matrix([[1.+2.j, 2.+3.j, 3.+4.j],\n",
       "        [2.+3.j, 3.+4.j, 4.+5.j]])"
      ]
     },
     "execution_count": 3,
     "metadata": {},
     "output_type": "execute_result"
    }
   ],
   "source": [
    "A = matrix(A); A"
   ]
  },
  {
   "cell_type": "code",
   "execution_count": 4,
   "id": "b1afc09b",
   "metadata": {},
   "outputs": [
    {
     "data": {
      "text/plain": [
       "matrix([[1.-2.j, 2.-3.j],\n",
       "        [2.-3.j, 3.-4.j],\n",
       "        [3.-4.j, 4.-5.j]])"
      ]
     },
     "execution_count": 4,
     "metadata": {},
     "output_type": "execute_result"
    }
   ],
   "source": [
    "A.H"
   ]
  },
  {
   "cell_type": "markdown",
   "id": "3518a3eb",
   "metadata": {},
   "source": [
    "---\n",
    "[Untitled1.ipynb](./4.5/Untitled1.ipynb)"
   ]
  },
  {
   "cell_type": "code",
   "execution_count": 1,
   "id": "b0416c8b",
   "metadata": {},
   "outputs": [
    {
     "data": {
      "text/latex": [
       "$\\displaystyle \\left[\\begin{matrix}1.0 + 2.0 i & 2.0 + 3.0 i & 3.0 + 4.0 i\\\\2.0 + 3.0 i & 3.0 + 4.0 i & 4.0 + 5.0 i\\end{matrix}\\right]$"
      ],
      "text/plain": [
       "Matrix([\n",
       "[1.0 + 2.0*I, 2.0 + 3.0*I, 3.0 + 4.0*I],\n",
       "[2.0 + 3.0*I, 3.0 + 4.0*I, 4.0 + 5.0*I]])"
      ]
     },
     "execution_count": 1,
     "metadata": {},
     "output_type": "execute_result"
    }
   ],
   "source": [
    "from sympy import Matrix\n",
    "A = Matrix([[1 + 2j, 2 + 3j, 3 + 4j],\n",
    "            [2 + 3j, 3 + 4j, 4 + 5j]]); A"
   ]
  },
  {
   "cell_type": "code",
   "execution_count": 2,
   "id": "993e8868",
   "metadata": {},
   "outputs": [
    {
     "data": {
      "text/latex": [
       "$\\displaystyle \\left[\\begin{matrix}1.0 + 2.0 i & 2.0 + 3.0 i\\\\2.0 + 3.0 i & 3.0 + 4.0 i\\\\3.0 + 4.0 i & 4.0 + 5.0 i\\end{matrix}\\right]$"
      ],
      "text/plain": [
       "Matrix([\n",
       "[1.0 + 2.0*I, 2.0 + 3.0*I],\n",
       "[2.0 + 3.0*I, 3.0 + 4.0*I],\n",
       "[3.0 + 4.0*I, 4.0 + 5.0*I]])"
      ]
     },
     "execution_count": 2,
     "metadata": {},
     "output_type": "execute_result"
    }
   ],
   "source": [
    "A.T"
   ]
  },
  {
   "cell_type": "code",
   "execution_count": 3,
   "id": "656290c6",
   "metadata": {},
   "outputs": [
    {
     "data": {
      "text/latex": [
       "$\\displaystyle \\left[\\begin{matrix}1.0 - 2.0 i & 2.0 - 3.0 i & 3.0 - 4.0 i\\\\2.0 - 3.0 i & 3.0 - 4.0 i & 4.0 - 5.0 i\\end{matrix}\\right]$"
      ],
      "text/plain": [
       "Matrix([\n",
       "[1.0 - 2.0*I, 2.0 - 3.0*I, 3.0 - 4.0*I],\n",
       "[2.0 - 3.0*I, 3.0 - 4.0*I, 4.0 - 5.0*I]])"
      ]
     },
     "execution_count": 3,
     "metadata": {},
     "output_type": "execute_result"
    }
   ],
   "source": [
    "A.C"
   ]
  },
  {
   "cell_type": "code",
   "execution_count": 4,
   "id": "ade20f8e",
   "metadata": {},
   "outputs": [
    {
     "data": {
      "text/latex": [
       "$\\displaystyle \\left[\\begin{matrix}1.0 - 2.0 i & 2.0 - 3.0 i\\\\2.0 - 3.0 i & 3.0 - 4.0 i\\\\3.0 - 4.0 i & 4.0 - 5.0 i\\end{matrix}\\right]$"
      ],
      "text/plain": [
       "Matrix([\n",
       "[1.0 - 2.0*I, 2.0 - 3.0*I],\n",
       "[2.0 - 3.0*I, 3.0 - 4.0*I],\n",
       "[3.0 - 4.0*I, 4.0 - 5.0*I]])"
      ]
     },
     "execution_count": 4,
     "metadata": {},
     "output_type": "execute_result"
    }
   ],
   "source": [
    "A.H"
   ]
  },
  {
   "cell_type": "markdown",
   "id": "0fc6eba7",
   "metadata": {},
   "source": [
    "## 4.6. Measuring matrix computation time\n",
    "\n",
    "**Program:** [mat_product4.py](./4.6/mat_product4.py)"
   ]
  },
  {
   "cell_type": "code",
   "execution_count": 1,
   "id": "e15624f9",
   "metadata": {},
   "outputs": [
    {
     "name": "stdout",
     "output_type": "stream",
     "text": [
      "10, 20, 30, 40, 50, 60, 70, 80, 90, 100, 110, 120, 130, 140, 150, 160, 170, 180, 190, 200, "
     ]
    },
    {
     "data": {
      "image/png": "[encoded data removed]",
      "text/plain": [
       "<Figure size 640x480 with 1 Axes>"
      ]
     },
     "metadata": {},
     "output_type": "display_data"
    }
   ],
   "source": [
    "def matrix_multiply(A, B):\n",
    "    m, el, n = len(A), len(A[0]), len(B[0])\n",
    "    C = [[sum([A[i][k] * B[k][j] for k in range(el)])\n",
    "          for j in range(n)] for i in range(m)]\n",
    "    return C\n",
    "\n",
    "if __name__ == '__main__':\n",
    "    from numpy.random import normal\n",
    "    import matplotlib.pyplot as plt\n",
    "    from time import time\n",
    "\n",
    "    N = range(10, 210, 10)\n",
    "    T = []\n",
    "    for n in N:\n",
    "        A = normal(0, 1, (n, n)).tolist()\n",
    "        t0 = time()\n",
    "        matrix_multiply(A, A)\n",
    "        t1 = time()\n",
    "        print(n, end=', ')\n",
    "        T.append(t1 - t0)\n",
    "    plt.plot(N, T)"
   ]
  },
  {
   "cell_type": "markdown",
   "id": "0d4c1ff6",
   "metadata": {},
   "source": [
    "---\n",
    "\n",
    "**Program:** [mat_product5.py](./4.6/mat_product5.py)"
   ]
  },
  {
   "cell_type": "code",
   "execution_count": 1,
   "id": "ac77e879",
   "metadata": {},
   "outputs": [
    {
     "name": "stdout",
     "output_type": "stream",
     "text": [
      "100, 200, 300, 400, 500, 600, 700, 800, 900, 1000, 1100, 1200, 1300, 1400, 1500, 1600, 1700, 1800, 1900, 2000, "
     ]
    },
    {
     "data": {
      "image/png": "[encoded data removed]",
      "text/plain": [
       "<Figure size 640x480 with 1 Axes>"
      ]
     },
     "metadata": {},
     "output_type": "display_data"
    }
   ],
   "source": [
    "from numpy.random import normal\n",
    "from numpy.linalg import inv\n",
    "import matplotlib.pyplot as plt\n",
    "from time import time\n",
    "\n",
    "N = range(100, 2100, 100)\n",
    "T = [[], [], []]\n",
    "\n",
    "for n in N:\n",
    "    t0 = time()\n",
    "    A = normal(0, 1, (n, n))\n",
    "    t1 = time()\n",
    "    A.dot(A)\n",
    "    t2 = time()\n",
    "    inv(A)\n",
    "    t3 = time()\n",
    "    print(n, end=', ')\n",
    "    t = (t0, t1, t2, t3)\n",
    "    for i in range(3):\n",
    "        T[i].append(t[i + 1] - t[i])\n",
    "\n",
    "label = ['f(x)', 'g(x)', 'h(x)']\n",
    "for i in range(3):\n",
    "    plt.plot(N, T[i])\n",
    "    plt.text(N[-1], T[i][-1], label[i],  fontsize=18)"
   ]
  },
  {
   "cell_type": "code",
   "execution_count": null,
   "id": "e2b7a1d7",
   "metadata": {},
   "outputs": [],
   "source": []
  }
 ],
 "metadata": {
  "kernelspec": {
   "display_name": "Python 3 (ipykernel)",
   "language": "python",
   "name": "python3"
  },
  "language_info": {
   "codemirror_mode": {
    "name": "ipython",
    "version": 3
   },
   "file_extension": ".py",
   "mimetype": "text/x-python",
   "name": "python",
   "nbconvert_exporter": "python",
   "pygments_lexer": "ipython3",
   "version": "3.10.7"
  }
 },
 "nbformat": 4,
 "nbformat_minor": 5
}
