{
 "cells": [
  {
   "cell_type": "code",
   "execution_count": 1,
   "id": "1a16fc15",
   "metadata": {},
   "outputs": [
    {
     "name": "stdout",
     "output_type": "stream",
     "text": [
      "\\left[\\begin{matrix}-2 & -3 & 3\\\\4 & 4 & 2\\end{matrix}\\right] + \\left[\\begin{matrix}5 & 4 & 1\\\\3 & 3 & 3\\end{matrix}\\right] = \n"
     ]
    }
   ],
   "source": [
    "from numpy.random import seed, randint, choice\n",
    "from sympy import Matrix, latex\n",
    "\n",
    "seed(2021)\n",
    "m, n = randint(2, 4, 2)\n",
    "X = [-3, -2, -1, 1, 2, 3, 4, 5]\n",
    "A = Matrix(choice(X, (m, n)))\n",
    "B = Matrix(choice(X, (m, n)))\n",
    "print(f'{latex(A)} + {latex(B)} = ')"
   ]
  },
  {
   "cell_type": "markdown",
   "id": "d8dda06e",
   "metadata": {},
   "source": [
    "$\\left[\\begin{matrix}-2 & -3 & 3\\\\4 & 4 & 2\\end{matrix}\\right] + \\left[\\begin{matrix}5 & 4 & 1\\\\3 & 3 & 3\\end{matrix}\\right] = $"
   ]
  },
  {
   "cell_type": "code",
   "execution_count": 2,
   "id": "04fd232d",
   "metadata": {},
   "outputs": [
    {
     "data": {
      "text/latex": [
       "$\\displaystyle \\left[\\begin{matrix}3 & 1 & 4\\\\7 & 7 & 5\\end{matrix}\\right]$"
      ],
      "text/plain": [
       "Matrix([\n",
       "[3, 1, 4],\n",
       "[7, 7, 5]])"
      ]
     },
     "execution_count": 2,
     "metadata": {},
     "output_type": "execute_result"
    }
   ],
   "source": [
    "A+B"
   ]
  },
  {
   "cell_type": "code",
   "execution_count": null,
   "id": "775cc555",
   "metadata": {},
   "outputs": [],
   "source": []
  }
 ],
 "metadata": {
  "kernelspec": {
   "display_name": "Python 3 (ipykernel)",
   "language": "python",
   "name": "python3"
  },
  "language_info": {
   "codemirror_mode": {
    "name": "ipython",
    "version": 3
   },
   "file_extension": ".py",
   "mimetype": "text/x-python",
   "name": "python",
   "nbconvert_exporter": "python",
   "pygments_lexer": "ipython3",
   "version": "3.10.7"
  }
 },
 "nbformat": 4,
 "nbformat_minor": 5
}
