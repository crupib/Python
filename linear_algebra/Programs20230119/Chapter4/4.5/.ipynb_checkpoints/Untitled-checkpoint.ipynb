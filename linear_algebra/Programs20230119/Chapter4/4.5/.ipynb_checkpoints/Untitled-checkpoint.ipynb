{
 "cells": [
  {
   "cell_type": "code",
   "execution_count": 1,
   "id": "46f5f1f1",
   "metadata": {},
   "outputs": [
    {
     "data": {
      "text/plain": [
       "array([[1.+2.j, 2.+3.j],\n",
       "       [2.+3.j, 3.+4.j],\n",
       "       [3.+4.j, 4.+5.j]])"
      ]
     },
     "execution_count": 1,
     "metadata": {},
     "output_type": "execute_result"
    }
   ],
   "source": [
    "from numpy import *\n",
    "A = array([[1 + 2j, 2 + 3j, 3 + 4j],\n",
    "           [2 + 3j, 3 + 4j, 4 + 5j]])\n",
    "A.T"
   ]
  },
  {
   "cell_type": "code",
   "execution_count": 2,
   "id": "0706e2c8",
   "metadata": {},
   "outputs": [
    {
     "data": {
      "text/plain": [
       "array([[1.-2.j, 2.-3.j, 3.-4.j],\n",
       "       [2.-3.j, 3.-4.j, 4.-5.j]])"
      ]
     },
     "execution_count": 2,
     "metadata": {},
     "output_type": "execute_result"
    }
   ],
   "source": [
    "A.conj()"
   ]
  },
  {
   "cell_type": "code",
   "execution_count": 3,
   "id": "5c0b3e19",
   "metadata": {},
   "outputs": [
    {
     "data": {
      "text/plain": [
       "matrix([[1.+2.j, 2.+3.j, 3.+4.j],\n",
       "        [2.+3.j, 3.+4.j, 4.+5.j]])"
      ]
     },
     "execution_count": 3,
     "metadata": {},
     "output_type": "execute_result"
    }
   ],
   "source": [
    "A = matrix(A); A"
   ]
  },
  {
   "cell_type": "code",
   "execution_count": 4,
   "id": "2e4be450",
   "metadata": {},
   "outputs": [
    {
     "data": {
      "text/plain": [
       "matrix([[1.-2.j, 2.-3.j],\n",
       "        [2.-3.j, 3.-4.j],\n",
       "        [3.-4.j, 4.-5.j]])"
      ]
     },
     "execution_count": 4,
     "metadata": {},
     "output_type": "execute_result"
    }
   ],
   "source": [
    "A.H"
   ]
  },
  {
   "cell_type": "code",
   "execution_count": null,
   "id": "c6171e58",
   "metadata": {},
   "outputs": [],
   "source": []
  }
 ],
 "metadata": {
  "kernelspec": {
   "display_name": "Python 3 (ipykernel)",
   "language": "python",
   "name": "python3"
  },
  "language_info": {
   "codemirror_mode": {
    "name": "ipython",
    "version": 3
   },
   "file_extension": ".py",
   "mimetype": "text/x-python",
   "name": "python",
   "nbconvert_exporter": "python",
   "pygments_lexer": "ipython3",
   "version": "3.9.2"
  }
 },
 "nbformat": 4,
 "nbformat_minor": 5
}
