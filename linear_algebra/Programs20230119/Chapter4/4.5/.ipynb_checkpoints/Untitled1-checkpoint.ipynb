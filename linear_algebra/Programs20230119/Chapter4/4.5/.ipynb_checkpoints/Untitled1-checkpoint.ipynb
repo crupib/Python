{
 "cells": [
  {
   "cell_type": "code",
   "execution_count": 1,
   "id": "68607723",
   "metadata": {},
   "outputs": [
    {
     "data": {
      "text/latex": [
       "$\\displaystyle \\left[\\begin{matrix}1.0 + 2.0 i & 2.0 + 3.0 i & 3.0 + 4.0 i\\\\2.0 + 3.0 i & 3.0 + 4.0 i & 4.0 + 5.0 i\\end{matrix}\\right]$"
      ],
      "text/plain": [
       "Matrix([\n",
       "[1.0 + 2.0*I, 2.0 + 3.0*I, 3.0 + 4.0*I],\n",
       "[2.0 + 3.0*I, 3.0 + 4.0*I, 4.0 + 5.0*I]])"
      ]
     },
     "execution_count": 1,
     "metadata": {},
     "output_type": "execute_result"
    }
   ],
   "source": [
    "from sympy import Matrix\n",
    "A = Matrix([[1 + 2j, 2 + 3j, 3 + 4j],\n",
    "            [2 + 3j, 3 + 4j, 4 + 5j]]); A"
   ]
  },
  {
   "cell_type": "code",
   "execution_count": 2,
   "id": "35b775d7",
   "metadata": {},
   "outputs": [
    {
     "data": {
      "text/latex": [
       "$\\displaystyle \\left[\\begin{matrix}1.0 + 2.0 i & 2.0 + 3.0 i\\\\2.0 + 3.0 i & 3.0 + 4.0 i\\\\3.0 + 4.0 i & 4.0 + 5.0 i\\end{matrix}\\right]$"
      ],
      "text/plain": [
       "Matrix([\n",
       "[1.0 + 2.0*I, 2.0 + 3.0*I],\n",
       "[2.0 + 3.0*I, 3.0 + 4.0*I],\n",
       "[3.0 + 4.0*I, 4.0 + 5.0*I]])"
      ]
     },
     "execution_count": 2,
     "metadata": {},
     "output_type": "execute_result"
    }
   ],
   "source": [
    "A.T"
   ]
  },
  {
   "cell_type": "code",
   "execution_count": 3,
   "id": "8852fbd8",
   "metadata": {},
   "outputs": [
    {
     "data": {
      "text/latex": [
       "$\\displaystyle \\left[\\begin{matrix}1.0 - 2.0 i & 2.0 - 3.0 i & 3.0 - 4.0 i\\\\2.0 - 3.0 i & 3.0 - 4.0 i & 4.0 - 5.0 i\\end{matrix}\\right]$"
      ],
      "text/plain": [
       "Matrix([\n",
       "[1.0 - 2.0*I, 2.0 - 3.0*I, 3.0 - 4.0*I],\n",
       "[2.0 - 3.0*I, 3.0 - 4.0*I, 4.0 - 5.0*I]])"
      ]
     },
     "execution_count": 3,
     "metadata": {},
     "output_type": "execute_result"
    }
   ],
   "source": [
    "A.C"
   ]
  },
  {
   "cell_type": "code",
   "execution_count": 4,
   "id": "ae69b358",
   "metadata": {},
   "outputs": [
    {
     "data": {
      "text/latex": [
       "$\\displaystyle \\left[\\begin{matrix}1.0 - 2.0 i & 2.0 - 3.0 i\\\\2.0 - 3.0 i & 3.0 - 4.0 i\\\\3.0 - 4.0 i & 4.0 - 5.0 i\\end{matrix}\\right]$"
      ],
      "text/plain": [
       "Matrix([\n",
       "[1.0 - 2.0*I, 2.0 - 3.0*I],\n",
       "[2.0 - 3.0*I, 3.0 - 4.0*I],\n",
       "[3.0 - 4.0*I, 4.0 - 5.0*I]])"
      ]
     },
     "execution_count": 4,
     "metadata": {},
     "output_type": "execute_result"
    }
   ],
   "source": [
    "A.H"
   ]
  },
  {
   "cell_type": "code",
   "execution_count": null,
   "id": "aa7f00d5",
   "metadata": {},
   "outputs": [],
   "source": []
  }
 ],
 "metadata": {
  "kernelspec": {
   "display_name": "Python 3 (ipykernel)",
   "language": "python",
   "name": "python3"
  },
  "language_info": {
   "codemirror_mode": {
    "name": "ipython",
    "version": 3
   },
   "file_extension": ".py",
   "mimetype": "text/x-python",
   "name": "python",
   "nbconvert_exporter": "python",
   "pygments_lexer": "ipython3",
   "version": "3.9.2"
  }
 },
 "nbformat": 4,
 "nbformat_minor": 5
}
