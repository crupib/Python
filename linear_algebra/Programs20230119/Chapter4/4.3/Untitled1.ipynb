{
 "cells": [
  {
   "cell_type": "code",
   "execution_count": 1,
   "id": "f0e4c4be",
   "metadata": {},
   "outputs": [
    {
     "data": {
      "text/latex": [
       "$\\displaystyle \\left[\\begin{matrix}\\frac{1}{2} & 1\\\\\\frac{3}{2} & 2\\end{matrix}\\right]$"
      ],
      "text/plain": [
       "Matrix([\n",
       "[1/2, 1],\n",
       "[3/2, 2]])"
      ]
     },
     "execution_count": 1,
     "metadata": {},
     "output_type": "execute_result"
    }
   ],
   "source": [
    "from sympy import Matrix\n",
    "from sympy.abc import a, b, c, d\n",
    "A = Matrix([[1, 2], [3, 4]])\n",
    "A/2"
   ]
  },
  {
   "cell_type": "code",
   "execution_count": 2,
   "id": "cdf5418e",
   "metadata": {},
   "outputs": [
    {
     "data": {
      "text/latex": [
       "$\\displaystyle \\left[\\begin{matrix}\\frac{a}{2} & \\frac{b}{2}\\\\\\frac{c}{2} & \\frac{d}{2}\\end{matrix}\\right]$"
      ],
      "text/plain": [
       "Matrix([\n",
       "[a/2, b/2],\n",
       "[c/2, d/2]])"
      ]
     },
     "execution_count": 2,
     "metadata": {},
     "output_type": "execute_result"
    }
   ],
   "source": [
    "B = Matrix([[a, b], [c, d]])\n",
    "B/2"
   ]
  },
  {
   "cell_type": "code",
   "execution_count": 3,
   "id": "2ea626c9",
   "metadata": {},
   "outputs": [
    {
     "data": {
      "text/latex": [
       "$\\displaystyle \\left[\\begin{matrix}a + 1 & b + 2\\\\c + 3 & d + 4\\end{matrix}\\right]$"
      ],
      "text/plain": [
       "Matrix([\n",
       "[a + 1, b + 2],\n",
       "[c + 3, d + 4]])"
      ]
     },
     "execution_count": 3,
     "metadata": {},
     "output_type": "execute_result"
    }
   ],
   "source": [
    "A + B"
   ]
  },
  {
   "cell_type": "code",
   "execution_count": 4,
   "id": "54ffe451",
   "metadata": {},
   "outputs": [
    {
     "data": {
      "text/latex": [
       "$\\displaystyle \\left[\\begin{matrix}a + 2 c & b + 2 d\\\\3 a + 4 c & 3 b + 4 d\\end{matrix}\\right]$"
      ],
      "text/plain": [
       "Matrix([\n",
       "[  a + 2*c,   b + 2*d],\n",
       "[3*a + 4*c, 3*b + 4*d]])"
      ]
     },
     "execution_count": 4,
     "metadata": {},
     "output_type": "execute_result"
    }
   ],
   "source": [
    "A * B"
   ]
  },
  {
   "cell_type": "code",
   "execution_count": null,
   "id": "6450107a",
   "metadata": {},
   "outputs": [],
   "source": []
  }
 ],
 "metadata": {
  "kernelspec": {
   "display_name": "Python 3 (ipykernel)",
   "language": "python",
   "name": "python3"
  },
  "language_info": {
   "codemirror_mode": {
    "name": "ipython",
    "version": 3
   },
   "file_extension": ".py",
   "mimetype": "text/x-python",
   "name": "python",
   "nbconvert_exporter": "python",
   "pygments_lexer": "ipython3",
   "version": "3.10.7"
  }
 },
 "nbformat": 4,
 "nbformat_minor": 5
}
