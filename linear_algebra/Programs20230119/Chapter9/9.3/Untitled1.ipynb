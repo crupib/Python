{
 "cells": [
  {
   "cell_type": "code",
   "execution_count": 1,
   "id": "5e214166",
   "metadata": {},
   "outputs": [
    {
     "data": {
      "text/latex": [
       "$\\displaystyle \\left[\\begin{matrix}\\frac{1}{2 e} + \\frac{e^{3}}{2} & - \\frac{1}{2 e} + \\frac{e^{3}}{2}\\\\- \\frac{1}{2 e} + \\frac{e^{3}}{2} & \\frac{1}{2 e} + \\frac{e^{3}}{2}\\end{matrix}\\right]$"
      ],
      "text/plain": [
       "Matrix([\n",
       "[ exp(-1)/2 + exp(3)/2, -exp(-1)/2 + exp(3)/2],\n",
       "[-exp(-1)/2 + exp(3)/2,  exp(-1)/2 + exp(3)/2]])"
      ]
     },
     "execution_count": 1,
     "metadata": {},
     "output_type": "execute_result"
    }
   ],
   "source": [
    "import sympy as sp\n",
    "import numpy as np\n",
    "A = [[1, 2], [2, 1]]\n",
    "sp.exp(sp.Matrix(A))"
   ]
  },
  {
   "cell_type": "code",
   "execution_count": 2,
   "id": "726bc09b",
   "metadata": {},
   "outputs": [
    {
     "data": {
      "text/latex": [
       "$\\displaystyle \\left[\\begin{matrix}10.2267081821796 & 9.85882874100811\\\\9.85882874100811 & 10.2267081821796\\end{matrix}\\right]$"
      ],
      "text/plain": [
       "Matrix([\n",
       "[10.2267081821796, 9.85882874100811],\n",
       "[9.85882874100811, 10.2267081821796]])"
      ]
     },
     "execution_count": 2,
     "metadata": {},
     "output_type": "execute_result"
    }
   ],
   "source": [
    "sp.exp(sp.Matrix(A)).evalf()"
   ]
  },
  {
   "cell_type": "code",
   "execution_count": 3,
   "id": "8e22d704",
   "metadata": {},
   "outputs": [
    {
     "data": {
      "text/plain": [
       "matrix([[2.71828183, 7.3890561 ],\n",
       "        [7.3890561 , 2.71828183]])"
      ]
     },
     "execution_count": 3,
     "metadata": {},
     "output_type": "execute_result"
    }
   ],
   "source": [
    "np.exp(np.matrix(A))"
   ]
  },
  {
   "cell_type": "code",
   "execution_count": 4,
   "id": "9a76e216",
   "metadata": {},
   "outputs": [
    {
     "data": {
      "text/latex": [
       "$\\displaystyle \\left[\\begin{matrix}5 & 4\\\\4 & 5\\end{matrix}\\right]$"
      ],
      "text/plain": [
       "Matrix([\n",
       "[5, 4],\n",
       "[4, 5]])"
      ]
     },
     "execution_count": 4,
     "metadata": {},
     "output_type": "execute_result"
    }
   ],
   "source": [
    "sp.Matrix(A)**2"
   ]
  },
  {
   "cell_type": "code",
   "execution_count": 5,
   "id": "bf29cf20",
   "metadata": {},
   "outputs": [
    {
     "data": {
      "text/latex": [
       "$\\displaystyle \\left[\\begin{matrix}5 & 4\\\\4 & 5\\end{matrix}\\right]$"
      ],
      "text/plain": [
       "Matrix([\n",
       "[5, 4],\n",
       "[4, 5]])"
      ]
     },
     "execution_count": 5,
     "metadata": {},
     "output_type": "execute_result"
    }
   ],
   "source": [
    "sp.Matrix(A)**2"
   ]
  },
  {
   "cell_type": "code",
   "execution_count": null,
   "id": "ad6eb481",
   "metadata": {},
   "outputs": [],
   "source": []
  }
 ],
 "metadata": {
  "kernelspec": {
   "display_name": "Python 3 (ipykernel)",
   "language": "python",
   "name": "python3"
  },
  "language_info": {
   "codemirror_mode": {
    "name": "ipython",
    "version": 3
   },
   "file_extension": ".py",
   "mimetype": "text/x-python",
   "name": "python",
   "nbconvert_exporter": "python",
   "pygments_lexer": "ipython3",
   "version": "3.10.7"
  }
 },
 "nbformat": 4,
 "nbformat_minor": 5
}
