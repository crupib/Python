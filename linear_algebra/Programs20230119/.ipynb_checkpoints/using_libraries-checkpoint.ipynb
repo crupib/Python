{
 "cells": [
  {
   "cell_type": "markdown",
   "id": "08108a8b",
   "metadata": {},
   "source": [
    "We will explain the above interactions line by line in the following Jupyter Notebook style."
   ]
  },
  {
   "cell_type": "code",
   "execution_count": 1,
   "id": "7071e9e0",
   "metadata": {},
   "outputs": [],
   "source": [
    "from math import pi, sin, cos"
   ]
  },
  {
   "cell_type": "markdown",
   "id": "0e965a30",
   "metadata": {},
   "source": [
    "This is called an `import statement`, and\n",
    "allows us to use the names `pi`, `sin`, and `cos` defined in the libraries `math`, which represent $\\pi$, $\\sin$, and $\\cos$ in mathematics, respectively."
   ]
  },
  {
   "cell_type": "code",
   "execution_count": 2,
   "id": "a29e71cd",
   "metadata": {},
   "outputs": [
    {
     "data": {
      "text/plain": [
       "3.141592653589793"
      ]
     },
     "execution_count": 2,
     "metadata": {},
     "output_type": "execute_result"
    }
   ],
   "source": [
    "pi"
   ]
  },
  {
   "cell_type": "markdown",
   "id": "1aaf0067",
   "metadata": {},
   "source": [
    "The displayed value of $\\pi$ is rounded to the specified number of effective digits after the decimal point because it continues infinitely without repetition."
   ]
  },
  {
   "cell_type": "code",
   "execution_count": 3,
   "id": "38556ba9",
   "metadata": {},
   "outputs": [
    {
     "data": {
      "text/plain": [
       "1.2246467991473532e-16"
      ]
     },
     "execution_count": 3,
     "metadata": {},
     "output_type": "execute_result"
    }
   ],
   "source": [
    "sin(pi)"
   ]
  },
  {
   "cell_type": "markdown",
   "id": "ec0e2b43",
   "metadata": {},
   "source": [
    "The calculated answer of $\\sin(\\pi)$ is not exactly 0 because `pi` is rounded and contains error.\n",
    "`1.2246467991473532e-16` means $1.2246467991473532\\times 10^{-16}$."
   ]
  },
  {
   "cell_type": "code",
   "execution_count": 4,
   "id": "f390048a",
   "metadata": {},
   "outputs": [
    {
     "data": {
      "text/plain": [
       "1.0"
      ]
     },
     "execution_count": 4,
     "metadata": {},
     "output_type": "execute_result"
    }
   ],
   "source": [
    "sin(pi/2)"
   ]
  },
  {
   "cell_type": "markdown",
   "id": "3056bb05",
   "metadata": {},
   "source": [
    "Calculate $\\sin(\\pi/2)=1$, which is actually rounded to 1."
   ]
  },
  {
   "cell_type": "code",
   "execution_count": 5,
   "id": "9d51ccff",
   "metadata": {},
   "outputs": [
    {
     "data": {
      "text/plain": [
       "0.5000000000000001"
      ]
     },
     "execution_count": 5,
     "metadata": {},
     "output_type": "execute_result"
    }
   ],
   "source": [
    "cos(pi/4)**2"
   ]
  },
  {
   "cell_type": "markdown",
   "id": "aa392a16",
   "metadata": {},
   "source": [
    "Calculate $\\cos(\\pi/4)^2=0.5$ (`**` means the power operation in Python), in which we can see some error.\n",
    "\n",
    "If the number `n` of the prompt `In[n]` starts with 1 as `In[1]`,  it means that we restart the shell of IDLE (select \"Shell > Restart Shell (Ctrl+F6)\" from the menu bar) or restart the kernel of the Jupyter Notebook (click the $\\faRotateRight$ icon on the menu bar).   \n",
    "If we run codes continuously in the same shell/kernel,  `n` increases in order."
   ]
  },
  {
   "cell_type": "code",
   "execution_count": null,
   "id": "b5736e61",
   "metadata": {},
   "outputs": [],
   "source": []
  }
 ],
 "metadata": {
  "kernelspec": {
   "display_name": "Python 3 (ipykernel)",
   "language": "python",
   "name": "python3"
  },
  "language_info": {
   "codemirror_mode": {
    "name": "ipython",
    "version": 3
   },
   "file_extension": ".py",
   "mimetype": "text/x-python",
   "name": "python",
   "nbconvert_exporter": "python",
   "pygments_lexer": "ipython3",
   "version": "3.10.7"
  }
 },
 "nbformat": 4,
 "nbformat_minor": 5
}
