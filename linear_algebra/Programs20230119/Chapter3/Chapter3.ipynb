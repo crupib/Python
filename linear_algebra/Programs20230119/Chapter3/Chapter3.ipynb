{
 "cells": [
  {
   "cell_type": "markdown",
   "id": "4969678a",
   "metadata": {},
   "source": [
    "# Chapter 3. Basis and Dimension\n",
    "\n",
    "## 3.1. Finite dimensional linear space\n",
    "\n",
    "**Program:** [lincombi.py](./3.1/lincombi.py)"
   ]
  },
  {
   "cell_type": "code",
   "execution_count": 1,
   "id": "943ace62",
   "metadata": {},
   "outputs": [
    {
     "data": {
      "text/html": [
       "<div id=\"glowscript\" class=\"glowscript\"></div>"
      ],
      "text/plain": [
       "<IPython.core.display.HTML object>"
      ]
     },
     "metadata": {},
     "output_type": "display_data"
    },
    {
     "data": {
      "application/javascript": [
       "if (typeof Jupyter !== \"undefined\") { window.__context = { glowscript_container: $(\"#glowscript\").removeAttr(\"id\")};}else{ element.textContent = ' ';}"
      ],
      "text/plain": [
       "<IPython.core.display.Javascript object>"
      ]
     },
     "metadata": {},
     "output_type": "display_data"
    }
   ],
   "source": [
    "from vpython import vec, arrow, color, points\n",
    "from numpy.random import normal\n",
    "\n",
    "x = vec(*normal(0, 1, 3))\n",
    "arrow(pos=vec(0, 0, 0), axis=x, color=color.red)\n",
    "y = vec(*normal(0, 1, 3))\n",
    "arrow(pos=vec(0, 0, 0), axis=y, color=color.red)\n",
    "W = [a * x + b * y for (a, b) in normal(0, 1, (1000, 2))]\n",
    "points(pos=W, radius=2)"
   ]
  },
  {
   "cell_type": "markdown",
   "id": "26909710",
   "metadata": {},
   "source": [
    "![lincombi.png](./3.1/lincombi.png)"
   ]
  },
  {
   "cell_type": "markdown",
   "id": "daf4232a",
   "metadata": {},
   "source": [
    "**fig. 3.11  Vector sum**\n",
    "\n",
    "[fig3-1.py](./3.1/fig3-1.py)\n",
    "\n",
    "![fig3-1.png](./3.1/fig3-1.png)\n",
    "\n",
    "\n",
    "---\n",
    "\n",
    "**Program:** [eqn1.py](./3.1/eqn1.py) / [eqn1.ipynb](./3.1/eqn1.ipynb)"
   ]
  },
  {
   "cell_type": "code",
   "execution_count": 1,
   "id": "727480c3",
   "metadata": {},
   "outputs": [
    {
     "name": "stdout",
     "output_type": "stream",
     "text": [
      "{a: -3*x + 2*y, b: 2*x - y}\n"
     ]
    }
   ],
   "source": [
    "from sympy import solve\n",
    "from sympy.abc import a, b, x, y\n",
    "\n",
    "ans = solve([a + 2*b - x, 2*a + 3*b - y], [a, b])\n",
    "print(ans)"
   ]
  },
  {
   "cell_type": "code",
   "execution_count": 2,
   "id": "b8653101",
   "metadata": {},
   "outputs": [
    {
     "data": {
      "text/latex": [
       "$\\displaystyle - 3 x + 2 y$"
      ],
      "text/plain": [
       "-3*x + 2*y"
      ]
     },
     "execution_count": 2,
     "metadata": {},
     "output_type": "execute_result"
    }
   ],
   "source": [
    "ans[a]"
   ]
  },
  {
   "cell_type": "code",
   "execution_count": 3,
   "id": "0f27e2c0",
   "metadata": {},
   "outputs": [
    {
     "data": {
      "text/latex": [
       "$\\displaystyle 2 x - y$"
      ],
      "text/plain": [
       "2*x - y"
      ]
     },
     "execution_count": 3,
     "metadata": {},
     "output_type": "execute_result"
    }
   ],
   "source": [
    "ans[b]"
   ]
  },
  {
   "cell_type": "markdown",
   "id": "94575028",
   "metadata": {},
   "source": [
    "---\n",
    "**Program:** [eqn2.py](./3.1/eqn2.py) / [eqn2.ipynb](./3.1/eqn2.ipynb)"
   ]
  },
  {
   "cell_type": "code",
   "execution_count": 1,
   "id": "da8f1143",
   "metadata": {},
   "outputs": [
    {
     "name": "stdout",
     "output_type": "stream",
     "text": [
      "[]\n"
     ]
    }
   ],
   "source": [
    "from sympy import solve\n",
    "from sympy.abc import a, b, x, y, z\n",
    "\n",
    "ans = solve([a + 2*b - x, 2*a + 3*b - y, 3*a + 4*b - z], [a, b])\n",
    "print(ans)"
   ]
  },
  {
   "cell_type": "code",
   "execution_count": 2,
   "id": "bae7f927",
   "metadata": {},
   "outputs": [],
   "source": [
    "ans = solve([a + 2*b - x, 2*a + 3*b - y, 3*a + 4*b - z], [a, b, x])"
   ]
  },
  {
   "cell_type": "code",
   "execution_count": 3,
   "id": "c65febb8",
   "metadata": {},
   "outputs": [
    {
     "data": {
      "text/plain": [
       "{a: -4*y + 3*z, b: 3*y - 2*z, x: 2*y - z}"
      ]
     },
     "execution_count": 3,
     "metadata": {},
     "output_type": "execute_result"
    }
   ],
   "source": [
    "ans"
   ]
  },
  {
   "cell_type": "markdown",
   "id": "c8a0b312",
   "metadata": {},
   "source": [
    "---\n",
    "**Program:** [eqn3.py](./3.1/eqn3.py) / [eqn3.ipynb](./3.1/eqn3.ipynb)"
   ]
  },
  {
   "cell_type": "code",
   "execution_count": 1,
   "id": "5d241e71",
   "metadata": {},
   "outputs": [
    {
     "name": "stdout",
     "output_type": "stream",
     "text": [
      "{a: -2*x/3 - 8*y/3 + 7*z/3, b: x/3 + 7*y/3 - 5*z/3, c: x/3 - 2*y/3 + z/3}\n"
     ]
    }
   ],
   "source": [
    "from sympy import solve\n",
    "from sympy.abc import a, b, c, x, y, z\n",
    "\n",
    "ans = solve([a + 2*b + 3*c - x, 2*a + 3*b + c - y,\n",
    "             3*a + 4*b + 2*c - z], [a, b, c])\n",
    "\n",
    "print(ans)"
   ]
  },
  {
   "cell_type": "code",
   "execution_count": 2,
   "id": "a8d6ecbb",
   "metadata": {},
   "outputs": [
    {
     "data": {
      "text/plain": [
       "[7/3, -2/3, 1/3]"
      ]
     },
     "execution_count": 2,
     "metadata": {},
     "output_type": "execute_result"
    }
   ],
   "source": [
    "N = [ans[k].subs([[x, 2], [y, 3], [z, 5]]) for k in [a, b, c]]; N"
   ]
  },
  {
   "cell_type": "code",
   "execution_count": 3,
   "id": "ad2a32cc",
   "metadata": {},
   "outputs": [
    {
     "data": {
      "text/plain": [
       "[2.3, -0.67, 0.33]"
      ]
     },
     "execution_count": 3,
     "metadata": {},
     "output_type": "execute_result"
    }
   ],
   "source": [
    "[n.evalf(2) for n in N]"
   ]
  },
  {
   "cell_type": "markdown",
   "id": "fbcdfef1",
   "metadata": {},
   "source": [
    "## 3.2. Linear dependence and linear independence\n",
    "\n",
    "**Program:** [eqn4.py](./3.2/eqn4.py) / [eqn4.ipynb](./3.2/eqn4.ipynb)"
   ]
  },
  {
   "cell_type": "code",
   "execution_count": 1,
   "id": "8c3121ce",
   "metadata": {},
   "outputs": [
    {
     "name": "stdout",
     "output_type": "stream",
     "text": [
      "{x: 0, y: 0}\n"
     ]
    }
   ],
   "source": [
    "from sympy import solve\n",
    "from sympy.abc import x, y\n",
    "\n",
    "ans = solve([x + 2*y, 2*x + 3*y], [x, y])\n",
    "print(ans)"
   ]
  },
  {
   "cell_type": "markdown",
   "id": "f8544d1a",
   "metadata": {},
   "source": [
    "---\n",
    "**Program:** [eqn5.py](./3.2/eqn5.py) / [eqn5.ipynb](./3.2/eqn5.ipynb)"
   ]
  },
  {
   "cell_type": "code",
   "execution_count": 1,
   "id": "74649d14",
   "metadata": {},
   "outputs": [
    {
     "name": "stdout",
     "output_type": "stream",
     "text": [
      "{x: -2*y}\n"
     ]
    }
   ],
   "source": [
    "from sympy import solve\n",
    "from sympy.abc import x, y\n",
    "\n",
    "ans = solve([x + 2*y, 2*x + 4*y], [x, y])\n",
    "print(ans)"
   ]
  },
  {
   "cell_type": "markdown",
   "id": "0daf82d4",
   "metadata": {},
   "source": [
    "---\n",
    "**Program:** [arrow2d.py](./3.2/arrow2d.py) / [arrow2d.ipynb](./3.2/arrow2d.ipynb)"
   ]
  },
  {
   "cell_type": "code",
   "execution_count": 1,
   "id": "08b4cc62",
   "metadata": {},
   "outputs": [
    {
     "data": {
      "image/png": "[encoded data removed]",
      "text/plain": [
       "<Figure size 640x480 with 1 Axes>"
      ]
     },
     "metadata": {},
     "output_type": "display_data"
    }
   ],
   "source": [
    "import matplotlib.pyplot as plt\n",
    "\n",
    "o, a, b, c = (0, 0), (1, 2), (2, 3), (2, 4)\n",
    "arrows = [[o, a, 'r', 0.1], [o, b, 'g', 0.05], [o, c, 'b', 0.05]]\n",
    "plt.axis('scaled'), plt.xlim(0, 5), plt.ylim(0, 5)\n",
    "for p, v, c, w in arrows:\n",
    "    plt.quiver(p[0], p[1], v[0], v[1],\n",
    "               units='xy', scale=1, color=c, width=w)"
   ]
  },
  {
   "cell_type": "markdown",
   "id": "b6810895",
   "metadata": {},
   "source": [
    "---\n",
    "**Program:** [eqn6.py](./3.2/eqn6.py) / [eqn6.ipynb](./3.2/eqn6.ipynb)"
   ]
  },
  {
   "cell_type": "code",
   "execution_count": 1,
   "id": "827dfd3b",
   "metadata": {},
   "outputs": [
    {
     "name": "stdout",
     "output_type": "stream",
     "text": [
      "{x: z, y: -2*z}\n",
      "{x: 0, y: 0, z: 0}\n"
     ]
    }
   ],
   "source": [
    "from sympy import solve\n",
    "from sympy.abc import x, y, z\n",
    "\n",
    "ans1 = solve([x + 2*y + 3*z, 2*x + 3*y + 4*z, 3*x + 4*y + 5*z],\n",
    "             [x, y, z])\n",
    "print(ans1)\n",
    "\n",
    "ans2 = solve([x + 2*y + 3*z, 2*x + 3*y + z, 3*x + y + 2*z],\n",
    "             [x, y, z])\n",
    "print(ans2)"
   ]
  },
  {
   "cell_type": "markdown",
   "id": "335e09c9",
   "metadata": {},
   "source": [
    "---\n",
    "**Program:** [arrow3d.py](./3.2/arrow3d.py) / [arrow3d.ipynb](./3.2/arrow3d.ipynb)"
   ]
  },
  {
   "cell_type": "code",
   "execution_count": 1,
   "id": "71bc2389",
   "metadata": {},
   "outputs": [
    {
     "data": {
      "text/html": [
       "<div id=\"glowscript\" class=\"glowscript\"></div>"
      ],
      "text/plain": [
       "<IPython.core.display.HTML object>"
      ]
     },
     "metadata": {},
     "output_type": "display_data"
    },
    {
     "data": {
      "application/javascript": [
       "if (typeof Jupyter !== \"undefined\") { window.__context = { glowscript_container: $(\"#glowscript\").removeAttr(\"id\")};}else{ element.textContent = ' ';}"
      ],
      "text/plain": [
       "<IPython.core.display.Javascript object>"
      ]
     },
     "metadata": {},
     "output_type": "display_data"
    }
   ],
   "source": [
    "from vpython import vec, arrow, mag\n",
    "\n",
    "o = vec(0, 0, 0)\n",
    "for p in [(1, 2, 3), (2, 3, 4), (3, 4, 5), (3, 1, 2)]:\n",
    "    v = vec(*p)\n",
    "    arrow(pos=o, axis=v, color=v, shaftwidth=mag(v) * 0.02)"
   ]
  },
  {
   "cell_type": "markdown",
   "id": "9f998675",
   "metadata": {},
   "source": [
    "![arrow3d](./3.2/arrow3d.png)"
   ]
  },
  {
   "cell_type": "markdown",
   "id": "79034c79",
   "metadata": {},
   "source": [
    "## 3.3. Basis and representation\n",
    "\n",
    "**Program:** [mypict4.py](./3.3/mypict4.py)"
   ]
  },
  {
   "cell_type": "code",
   "execution_count": 1,
   "id": "602cb8ef",
   "metadata": {},
   "outputs": [
    {
     "data": {
      "text/html": [
       "<div id=\"glowscript\" class=\"glowscript\"></div>"
      ],
      "text/plain": [
       "<IPython.core.display.HTML object>"
      ]
     },
     "metadata": {},
     "output_type": "display_data"
    },
    {
     "data": {
      "application/javascript": [
       "if (typeof Jupyter !== \"undefined\") { window.__context = { glowscript_container: $(\"#glowscript\").removeAttr(\"id\")};}else{ element.textContent = ' ';}"
      ],
      "text/plain": [
       "<IPython.core.display.Javascript object>"
      ]
     },
     "metadata": {},
     "output_type": "display_data"
    }
   ],
   "source": [
    "from vpython import canvas, vec, curve, arrow, color, points\n",
    "from numpy import array, linspace, sin, cos, pi, random\n",
    "\n",
    "canvas(background=color.white, foreground=color.black)\n",
    "for v in [vec(1, 0, 0), vec(0, 1, 0), vec(0, 0, 1)]:\n",
    "    curve(pos=[-v, v], color=v)\n",
    "\n",
    "with open('mypict1.txt', 'r') as fd:\n",
    "    XY = eval(fd.read())\n",
    "\n",
    "random.seed(123)\n",
    "a = vec(*random.normal(0, 1, 3))\n",
    "arrow(pos=vec(0, 0, 0), axis=a, shaftwidth=0.1)\n",
    "b = vec(*random.normal(0, 1, 3))\n",
    "arrow(pos=vec(0, 0, 0), axis=b, shaftwidth=0.1)\n",
    "P = [x * a + y * b for (x, y) in XY]\n",
    "Q = [cos(t) * a + sin(t) * b for t in linspace(0, 2 * pi, 101)]\n",
    "points(pos=P, radius=2, color=color.cyan)\n",
    "curve(pos=Q, color=color.magenta)"
   ]
  },
  {
   "cell_type": "markdown",
   "id": "fbd7745c",
   "metadata": {},
   "source": [
    "![mypict4.png](./3.3/mypict4.png)\n",
    "\n",
    "Below is a view from a direction orthogonal to the projection plane.\n",
    "\n",
    "![mypict40.png](./3.3/mypict40.png)\n",
    "[mypict40.py](./3.3/mypict40.py)"
   ]
  },
  {
   "cell_type": "markdown",
   "id": "3b323f5c",
   "metadata": {},
   "source": [
    "## 3.4. Dimension and Rank\n",
    "\n",
    "**Program:** [rank.py](./3.4/rank.py)"
   ]
  },
  {
   "cell_type": "code",
   "execution_count": 1,
   "id": "c2ce1ab8",
   "metadata": {},
   "outputs": [
    {
     "name": "stdout",
     "output_type": "stream",
     "text": [
      "2 2 1 2\n",
      "2 2 3 3\n"
     ]
    }
   ],
   "source": [
    "from numpy.linalg import matrix_rank\n",
    "\n",
    "def f(*x): return matrix_rank(x)\n",
    "\n",
    "a, b, c = (1, 2), (2, 3), (2, 4)\n",
    "print(f(a, b), f(b, c), f(a, c), f(a, b, c))\n",
    "a, b, c, d = (1, 2, 3), (2, 3, 4), (3, 4, 5), (3, 4, 4)\n",
    "print(f(a, b), f(a, b, c), f(a, b, d), f(a, b, c, d))"
   ]
  },
  {
   "cell_type": "markdown",
   "id": "00b5282f",
   "metadata": {},
   "source": [
    "## 3.5. Direct sum\n",
    "\n",
    "[Untitled.ipynb](./3.5/Untitled.ipynb)"
   ]
  },
  {
   "cell_type": "code",
   "execution_count": 1,
   "id": "a7500e6b",
   "metadata": {},
   "outputs": [
    {
     "data": {
      "text/plain": [
       "[1, 2, 3, 4, 5]"
      ]
     },
     "execution_count": 1,
     "metadata": {},
     "output_type": "execute_result"
    }
   ],
   "source": [
    "[1, 2] + [3, 4, 5]"
   ]
  },
  {
   "cell_type": "code",
   "execution_count": 2,
   "id": "2e1f70bb",
   "metadata": {},
   "outputs": [
    {
     "data": {
      "text/plain": [
       "array([1, 2, 3, 4, 5])"
      ]
     },
     "execution_count": 2,
     "metadata": {},
     "output_type": "execute_result"
    }
   ],
   "source": [
    "from numpy import array, concatenate\n",
    "concatenate([array([1, 2]), array([3, 4, 5])])"
   ]
  },
  {
   "cell_type": "code",
   "execution_count": 3,
   "id": "5d068ef6",
   "metadata": {},
   "outputs": [
    {
     "data": {
      "text/latex": [
       "$\\displaystyle \\left[\\begin{matrix}1\\\\2\\\\3\\\\4\\\\5\\end{matrix}\\right]$"
      ],
      "text/plain": [
       "Matrix([\n",
       "[1],\n",
       "[2],\n",
       "[3],\n",
       "[4],\n",
       "[5]])"
      ]
     },
     "execution_count": 3,
     "metadata": {},
     "output_type": "execute_result"
    }
   ],
   "source": [
    "from sympy import Matrix\n",
    "Matrix([1, 2]).col_join(Matrix([3, 4, 5]))"
   ]
  },
  {
   "cell_type": "code",
   "execution_count": 4,
   "id": "f6c662db",
   "metadata": {},
   "outputs": [
    {
     "data": {
      "text/latex": [
       "$\\displaystyle \\left[\\begin{matrix}1 & 2 & 3 & 4 & 5\\end{matrix}\\right]$"
      ],
      "text/plain": [
       "Matrix([[1, 2, 3, 4, 5]])"
      ]
     },
     "execution_count": 4,
     "metadata": {},
     "output_type": "execute_result"
    }
   ],
   "source": [
    "Matrix([[1, 2]]).row_join(Matrix([[3, 4, 5]]))"
   ]
  },
  {
   "cell_type": "markdown",
   "id": "50467f1e",
   "metadata": {},
   "source": [
    "## 3.6. Remark on dimension\n",
    "\n",
    "**Program:** [dim.py](./3.6/dim.py)"
   ]
  },
  {
   "cell_type": "code",
   "execution_count": 1,
   "id": "84ec70fb",
   "metadata": {},
   "outputs": [
    {
     "name": "stdout",
     "output_type": "stream",
     "text": [
      "A=[1 2 3]\n",
      "B=[[1 2 3]\n",
      " [4 5 6]]\n",
      "C=[[[1 2]\n",
      "  [3 4]]\n",
      "\n",
      " [[5 6]\n",
      "  [7 8]]]\n"
     ]
    }
   ],
   "source": [
    "from numpy import array\n",
    "\n",
    "A = array([1, 2, 3])\n",
    "B = array([[1, 2, 3], [4, 5, 6]])\n",
    "C = array([[[1, 2], [3, 4]], [[5, 6], [7, 8]]])\n",
    "print(f'A={A}')\n",
    "print(f'B={B}')\n",
    "print(f'C={C}')"
   ]
  },
  {
   "cell_type": "markdown",
   "id": "145fccf0",
   "metadata": {},
   "source": [
    "---\n",
    "\n",
    "**Program:** [random2d.py](./3.6/random2d.py)"
   ]
  },
  {
   "cell_type": "code",
   "execution_count": 1,
   "id": "ed737fca",
   "metadata": {},
   "outputs": [
    {
     "data": {
      "text/plain": [
       "(-3.660189033869834,\n",
       " 3.5410746858760254,\n",
       " -3.1456133818414185,\n",
       " 4.345107626666322)"
      ]
     },
     "execution_count": 1,
     "metadata": {},
     "output_type": "execute_result"
    },
    {
     "data": {
      "image/png": "[encoded data removed]",
      "text/plain": [
       "<Figure size 640x480 with 1 Axes>"
      ]
     },
     "metadata": {},
     "output_type": "display_data"
    }
   ],
   "source": [
    "import matplotlib.pyplot as plt\n",
    "from numpy.random import normal\n",
    "\n",
    "P = normal(0, 1, (1000, 2))\n",
    "plt.scatter(P[:, 0], P[:, 1], s=4)\n",
    "plt.axis('equal')"
   ]
  },
  {
   "cell_type": "markdown",
   "id": "53d36f45",
   "metadata": {},
   "source": [
    "---\n",
    "\n",
    "**Program:** [random3d.py](./3.6/random3d.py)"
   ]
  },
  {
   "cell_type": "code",
   "execution_count": 1,
   "id": "0eb4c178",
   "metadata": {
    "scrolled": true
   },
   "outputs": [
    {
     "data": {
      "text/html": [
       "<div id=\"glowscript\" class=\"glowscript\"></div>"
      ],
      "text/plain": [
       "<IPython.core.display.HTML object>"
      ]
     },
     "metadata": {},
     "output_type": "display_data"
    },
    {
     "data": {
      "application/javascript": [
       "if (typeof Jupyter !== \"undefined\") { window.__context = { glowscript_container: $(\"#glowscript\").removeAttr(\"id\")};}else{ element.textContent = ' ';}"
      ],
      "text/plain": [
       "<IPython.core.display.Javascript object>"
      ]
     },
     "metadata": {},
     "output_type": "display_data"
    }
   ],
   "source": [
    "from vpython import canvas, color, vec, curve, points\n",
    "from numpy.random import normal\n",
    "\n",
    "canvas(background=color.white, foreground=color.black)\n",
    "for v in [vec(5, 0, 0), vec(0, 5, 0), vec(0, 0, 5)]:\n",
    "    curve(pos=[-v, v], color=v)\n",
    "P = normal(0, 1, (1000, 3))\n",
    "points(pos=[vec(*p) for p in P], radius=4)"
   ]
  },
  {
   "cell_type": "markdown",
   "id": "5f9292c7",
   "metadata": {},
   "source": [
    "![random3d.png](./3.6/random3d.png)"
   ]
  },
  {
   "cell_type": "code",
   "execution_count": null,
   "id": "4b5440a8",
   "metadata": {},
   "outputs": [],
   "source": []
  }
 ],
 "metadata": {
  "kernelspec": {
   "display_name": "Python 3 (ipykernel)",
   "language": "python",
   "name": "python3"
  },
  "language_info": {
   "codemirror_mode": {
    "name": "ipython",
    "version": 3
   },
   "file_extension": ".py",
   "mimetype": "text/x-python",
   "name": "python",
   "nbconvert_exporter": "python",
   "pygments_lexer": "ipython3",
   "version": "3.11.1"
  }
 },
 "nbformat": 4,
 "nbformat_minor": 5
}
