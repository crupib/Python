{
 "cells": [
  {
   "cell_type": "code",
   "execution_count": 1,
   "id": "27658031",
   "metadata": {},
   "outputs": [
    {
     "data": {
      "image/png": "[encoded data removed]",
      "text/plain": [
       "<Figure size 432x288 with 1 Axes>"
      ]
     },
     "metadata": {
      "needs_background": "light"
     },
     "output_type": "display_data"
    }
   ],
   "source": [
    "import matplotlib.pyplot as plt\n",
    "\n",
    "o, a, b, c = (0, 0), (1, 2), (2, 3), (2, 4)\n",
    "arrows = [[o, a, 'r', 0.1], [o, b, 'g', 0.05], [o, c, 'b', 0.05]]\n",
    "plt.axis('scaled'), plt.xlim(0, 5), plt.ylim(0, 5)\n",
    "for p, v, c, w in arrows:\n",
    "    plt.quiver(p[0], p[1], v[0], v[1],\n",
    "               units='xy', scale=1, color=c, width=w)\n",
    "plt.show()"
   ]
  },
  {
   "cell_type": "code",
   "execution_count": null,
   "id": "5ff616fd",
   "metadata": {},
   "outputs": [],
   "source": []
  }
 ],
 "metadata": {
  "kernelspec": {
   "display_name": "Python 3 (ipykernel)",
   "language": "python",
   "name": "python3"
  },
  "language_info": {
   "codemirror_mode": {
    "name": "ipython",
    "version": 3
   },
   "file_extension": ".py",
   "mimetype": "text/x-python",
   "name": "python",
   "nbconvert_exporter": "python",
   "pygments_lexer": "ipython3",
   "version": "3.10.7"
  }
 },
 "nbformat": 4,
 "nbformat_minor": 5
}
