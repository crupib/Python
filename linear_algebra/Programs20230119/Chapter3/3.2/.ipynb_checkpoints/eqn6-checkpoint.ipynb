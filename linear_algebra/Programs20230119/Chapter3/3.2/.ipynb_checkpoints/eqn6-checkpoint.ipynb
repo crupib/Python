{
 "cells": [
  {
   "cell_type": "code",
   "execution_count": 1,
   "id": "f9ab5357",
   "metadata": {},
   "outputs": [
    {
     "name": "stdout",
     "output_type": "stream",
     "text": [
      "{x: z, y: -2*z}\n",
      "{x: 0, y: 0, z: 0}\n"
     ]
    }
   ],
   "source": [
    "from sympy import solve\n",
    "from sympy.abc import x, y, z\n",
    "\n",
    "ans1 = solve([x + 2*y + 3*z, 2*x + 3*y + 4*z, 3*x + 4*y + 5*z],\n",
    "             [x, y, z])\n",
    "print(ans1)\n",
    "\n",
    "ans2 = solve([x + 2*y + 3*z, 2*x + 3*y + z, 3*x + y + 2*z],\n",
    "             [x, y, z])\n",
    "print(ans2)"
   ]
  },
  {
   "cell_type": "code",
   "execution_count": null,
   "id": "6e9ad63c",
   "metadata": {},
   "outputs": [],
   "source": []
  }
 ],
 "metadata": {
  "kernelspec": {
   "display_name": "Python 3 (ipykernel)",
   "language": "python",
   "name": "python3"
  },
  "language_info": {
   "codemirror_mode": {
    "name": "ipython",
    "version": 3
   },
   "file_extension": ".py",
   "mimetype": "text/x-python",
   "name": "python",
   "nbconvert_exporter": "python",
   "pygments_lexer": "ipython3",
   "version": "3.9.2"
  }
 },
 "nbformat": 4,
 "nbformat_minor": 5
}
