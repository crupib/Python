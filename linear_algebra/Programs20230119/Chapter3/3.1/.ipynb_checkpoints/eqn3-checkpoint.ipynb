{
 "cells": [
  {
   "cell_type": "code",
   "execution_count": 1,
   "id": "5c59f18a",
   "metadata": {},
   "outputs": [
    {
     "name": "stdout",
     "output_type": "stream",
     "text": [
      "{a: -2*x/3 - 8*y/3 + 7*z/3, b: x/3 + 7*y/3 - 5*z/3, c: x/3 - 2*y/3 + z/3}\n"
     ]
    }
   ],
   "source": [
    "from sympy import solve\n",
    "from sympy.abc import a, b, c, x, y, z\n",
    "\n",
    "ans = solve([a + 2*b + 3*c - x, 2*a + 3*b + c - y,\n",
    "             3*a + 4*b + 2*c - z], [a, b, c])\n",
    "\n",
    "print(ans)"
   ]
  },
  {
   "cell_type": "code",
   "execution_count": 2,
   "id": "0e58f651",
   "metadata": {},
   "outputs": [
    {
     "data": {
      "text/plain": [
       "[7/3, -2/3, 1/3]"
      ]
     },
     "execution_count": 2,
     "metadata": {},
     "output_type": "execute_result"
    }
   ],
   "source": [
    "N = [ans[k].subs([[x, 2], [y, 3], [z, 5]]) for k in [a, b, c]]; N"
   ]
  },
  {
   "cell_type": "code",
   "execution_count": 3,
   "id": "f1985ea5",
   "metadata": {},
   "outputs": [
    {
     "data": {
      "text/plain": [
       "[2.3, -0.67, 0.33]"
      ]
     },
     "execution_count": 3,
     "metadata": {},
     "output_type": "execute_result"
    }
   ],
   "source": [
    "[n.evalf(2) for n in N]"
   ]
  },
  {
   "cell_type": "code",
   "execution_count": null,
   "id": "ab0267c9",
   "metadata": {},
   "outputs": [],
   "source": []
  }
 ],
 "metadata": {
  "kernelspec": {
   "display_name": "Python 3 (ipykernel)",
   "language": "python",
   "name": "python3"
  },
  "language_info": {
   "codemirror_mode": {
    "name": "ipython",
    "version": 3
   },
   "file_extension": ".py",
   "mimetype": "text/x-python",
   "name": "python",
   "nbconvert_exporter": "python",
   "pygments_lexer": "ipython3",
   "version": "3.9.2"
  }
 },
 "nbformat": 4,
 "nbformat_minor": 5
}
