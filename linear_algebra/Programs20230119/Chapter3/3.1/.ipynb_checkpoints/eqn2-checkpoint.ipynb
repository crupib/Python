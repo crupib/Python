{
 "cells": [
  {
   "cell_type": "code",
   "execution_count": 1,
   "id": "6c1bc80d",
   "metadata": {},
   "outputs": [
    {
     "name": "stdout",
     "output_type": "stream",
     "text": [
      "[]\n"
     ]
    }
   ],
   "source": [
    "from sympy import solve\n",
    "from sympy.abc import a, b, x, y, z\n",
    "\n",
    "ans = solve([a + 2*b - x, 2*a + 3*b - y, 3*a + 4*b - z], [a, b])\n",
    "print(ans)"
   ]
  },
  {
   "cell_type": "code",
   "execution_count": 2,
   "id": "0a6dcec1",
   "metadata": {},
   "outputs": [],
   "source": [
    "ans = solve([a + 2*b - x, 2*a + 3*b - y, 3*a + 4*b - z], [a, b, x])"
   ]
  },
  {
   "cell_type": "code",
   "execution_count": 3,
   "id": "1c975a61",
   "metadata": {},
   "outputs": [
    {
     "data": {
      "text/plain": [
       "{a: -4*y + 3*z, b: 3*y - 2*z, x: 2*y - z}"
      ]
     },
     "execution_count": 3,
     "metadata": {},
     "output_type": "execute_result"
    }
   ],
   "source": [
    "ans"
   ]
  },
  {
   "cell_type": "code",
   "execution_count": null,
   "id": "56de5d0d",
   "metadata": {},
   "outputs": [],
   "source": []
  }
 ],
 "metadata": {
  "kernelspec": {
   "display_name": "Python 3 (ipykernel)",
   "language": "python",
   "name": "python3"
  },
  "language_info": {
   "codemirror_mode": {
    "name": "ipython",
    "version": 3
   },
   "file_extension": ".py",
   "mimetype": "text/x-python",
   "name": "python",
   "nbconvert_exporter": "python",
   "pygments_lexer": "ipython3",
   "version": "3.9.2"
  }
 },
 "nbformat": 4,
 "nbformat_minor": 5
}
