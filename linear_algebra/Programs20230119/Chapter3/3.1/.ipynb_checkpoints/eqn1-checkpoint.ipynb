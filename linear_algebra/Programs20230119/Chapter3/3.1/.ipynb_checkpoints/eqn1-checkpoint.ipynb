{
 "cells": [
  {
   "cell_type": "code",
   "execution_count": 1,
   "id": "891684d2",
   "metadata": {},
   "outputs": [
    {
     "name": "stdout",
     "output_type": "stream",
     "text": [
      "{a: -3*x + 2*y, b: 2*x - y}\n"
     ]
    }
   ],
   "source": [
    "from sympy import solve\n",
    "from sympy.abc import a, b, x, y\n",
    "\n",
    "ans = solve([a + 2*b - x, 2*a + 3*b - y], [a, b])\n",
    "print(ans)"
   ]
  },
  {
   "cell_type": "code",
   "execution_count": 2,
   "id": "8ed0a133",
   "metadata": {},
   "outputs": [
    {
     "data": {
      "text/latex": [
       "$\\displaystyle - 3 x + 2 y$"
      ],
      "text/plain": [
       "-3*x + 2*y"
      ]
     },
     "execution_count": 2,
     "metadata": {},
     "output_type": "execute_result"
    }
   ],
   "source": [
    "ans[a]"
   ]
  },
  {
   "cell_type": "code",
   "execution_count": 3,
   "id": "eaee0f99",
   "metadata": {},
   "outputs": [
    {
     "data": {
      "text/latex": [
       "$\\displaystyle 2 x - y$"
      ],
      "text/plain": [
       "2*x - y"
      ]
     },
     "execution_count": 3,
     "metadata": {},
     "output_type": "execute_result"
    }
   ],
   "source": [
    "ans[b]"
   ]
  },
  {
   "cell_type": "code",
   "execution_count": null,
   "id": "33802b16",
   "metadata": {},
   "outputs": [],
   "source": []
  }
 ],
 "metadata": {
  "kernelspec": {
   "display_name": "Python 3 (ipykernel)",
   "language": "python",
   "name": "python3"
  },
  "language_info": {
   "codemirror_mode": {
    "name": "ipython",
    "version": 3
   },
   "file_extension": ".py",
   "mimetype": "text/x-python",
   "name": "python",
   "nbconvert_exporter": "python",
   "pygments_lexer": "ipython3",
   "version": "3.9.2"
  }
 },
 "nbformat": 4,
 "nbformat_minor": 5
}
