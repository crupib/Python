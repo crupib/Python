{
 "cells": [
  {
   "cell_type": "code",
   "execution_count": 1,
   "id": "05088c25",
   "metadata": {},
   "outputs": [
    {
     "data": {
      "text/html": [
       "<div id=\"glowscript\" class=\"glowscript\"></div>"
      ],
      "text/plain": [
       "<IPython.core.display.HTML object>"
      ]
     },
     "metadata": {},
     "output_type": "display_data"
    },
    {
     "data": {
      "application/javascript": [
       "if (typeof Jupyter !== \"undefined\") { window.__context = { glowscript_container: $(\"#glowscript\").removeAttr(\"id\")};}else{ element.textContent = ' ';}"
      ],
      "text/plain": [
       "<IPython.core.display.Javascript object>"
      ]
     },
     "metadata": {},
     "output_type": "display_data"
    },
    {
     "data": {
      "text/html": [
       "<div id=\"glowscript\" class=\"glowscript\"></div>"
      ],
      "text/plain": [
       "<IPython.core.display.HTML object>"
      ]
     },
     "metadata": {},
     "output_type": "display_data"
    },
    {
     "data": {
      "application/javascript": [
       "if (typeof Jupyter !== \"undefined\") { window.__context = { glowscript_container: $(\"#glowscript\").removeAttr(\"id\")};}else{ element.textContent = ' ';}"
      ],
      "text/plain": [
       "<IPython.core.display.Javascript object>"
      ]
     },
     "metadata": {},
     "output_type": "display_data"
    },
    {
     "data": {
      "application/javascript": [
       "if (typeof Jupyter !== \"undefined\") {require.undef(\"nbextensions/vpython_libraries/glow.min\");}else{element.textContent = ' ';}"
      ],
      "text/plain": [
       "<IPython.core.display.Javascript object>"
      ]
     },
     "metadata": {},
     "output_type": "display_data"
    },
    {
     "data": {
      "application/javascript": [
       "if (typeof Jupyter !== \"undefined\") {require.undef(\"nbextensions/vpython_libraries/glowcomm\");}else{element.textContent = ' ';}"
      ],
      "text/plain": [
       "<IPython.core.display.Javascript object>"
      ]
     },
     "metadata": {},
     "output_type": "display_data"
    },
    {
     "data": {
      "application/javascript": [
       "if (typeof Jupyter !== \"undefined\") {require.undef(\"nbextensions/vpython_libraries/jquery-ui.custom.min\");}else{element.textContent = ' ';}"
      ],
      "text/plain": [
       "<IPython.core.display.Javascript object>"
      ]
     },
     "metadata": {},
     "output_type": "display_data"
    },
    {
     "data": {
      "application/javascript": [
       "if (typeof Jupyter !== \"undefined\") {require([\"nbextensions/vpython_libraries/glow.min\"], function(){console.log(\"GLOW LOADED\");});}else{element.textContent = ' ';}"
      ],
      "text/plain": [
       "<IPython.core.display.Javascript object>"
      ]
     },
     "metadata": {},
     "output_type": "display_data"
    },
    {
     "data": {
      "application/javascript": [
       "if (typeof Jupyter !== \"undefined\") {require([\"nbextensions/vpython_libraries/glowcomm\"], function(){console.log(\"GLOWCOMM LOADED\");});}else{element.textContent = ' ';}"
      ],
      "text/plain": [
       "<IPython.core.display.Javascript object>"
      ]
     },
     "metadata": {},
     "output_type": "display_data"
    },
    {
     "data": {
      "application/javascript": [
       "if (typeof Jupyter !== \"undefined\") {require([\"nbextensions/vpython_libraries/jquery-ui.custom.min\"], function(){console.log(\"JQUERY LOADED\");});}else{element.textContent = ' ';}"
      ],
      "text/plain": [
       "<IPython.core.display.Javascript object>"
      ]
     },
     "metadata": {},
     "output_type": "display_data"
    }
   ],
   "source": [
    "from vpython import canvas, vec, curve, arrow, color, points\n",
    "from numpy import array, linspace, sin, cos, pi, random\n",
    "\n",
    "canvas(background=color.white, foreground=color.black)\n",
    "for v in [vec(1, 0, 0), vec(0, 1, 0), vec(0, 0, 1)]:\n",
    "    curve(pos=[-v, v], color=v)\n",
    "\n",
    "with open('mypict1.txt', 'r') as fd:\n",
    "    XY = eval(fd.read())\n",
    "\n",
    "random.seed(123)\n",
    "a = vec(*random.normal(0, 1, 3))\n",
    "arrow(pos=vec(0, 0, 0), axis=a, shaftwidth=0.1)\n",
    "b = vec(*random.normal(0, 1, 3))\n",
    "arrow(pos=vec(0, 0, 0), axis=b, shaftwidth=0.1)\n",
    "P = [x * a + y * b for (x, y) in XY]\n",
    "Q = [cos(t) * a + sin(t) * b for t in linspace(0, 2 * pi, 101)]\n",
    "points(pos=P, radius=2, color=color.cyan)\n",
    "curve(pos=Q, color=color.magenta)"
   ]
  },
  {
   "cell_type": "code",
   "execution_count": 3,
   "id": "4bb08265",
   "metadata": {
    "scrolled": true
   },
   "outputs": [
    {
     "data": {
      "text/html": [
       "<div id=\"glowscript\" class=\"glowscript\"></div>"
      ],
      "text/plain": [
       "<IPython.core.display.HTML object>"
      ]
     },
     "metadata": {},
     "output_type": "display_data"
    },
    {
     "data": {
      "application/javascript": [
       "if (typeof Jupyter !== \"undefined\") { window.__context = { glowscript_container: $(\"#glowscript\").removeAttr(\"id\")};}else{ element.textContent = ' ';}"
      ],
      "text/plain": [
       "<IPython.core.display.Javascript object>"
      ]
     },
     "metadata": {},
     "output_type": "display_data"
    }
   ],
   "source": [
    "from vpython import canvas, vec, curve, arrow, color, points, cross\n",
    "from numpy import array, linspace, sin, cos, pi, random\n",
    "\n",
    "scene = canvas(background=color.white, foreground=color.black)\n",
    "for v in [vec(1, 0, 0), vec(0, 1, 0), vec(0, 0, 1)]:\n",
    "    curve(pos=[-v, v], color=v)\n",
    "\n",
    "with open('mypict1.txt', 'r') as fd:\n",
    "    XY = eval(fd.read())\n",
    "\n",
    "random.seed(123)\n",
    "a = vec(*random.normal(0, 1, 3))\n",
    "arrow(pos=vec(0, 0, 0), axis=a, shaftwidth=0.1)\n",
    "b = vec(*random.normal(0, 1, 3))\n",
    "arrow(pos=vec(0, 0, 0), axis=b, shaftwidth=0.1)\n",
    "P = [x * a + y * b for (x, y) in XY]\n",
    "Q = [cos(t) * a + sin(t) * b for t in linspace(0, 2 * pi, 101)]\n",
    "points(pos=P, radius=2, color=color.cyan)\n",
    "curve(pos=Q, color=color.magenta)\n",
    "c = cross(a, b)\n",
    "arrow(pos=vec(0, 0, 0), axis=c, shaftwidth=0.1)\n",
    "scene.forward = -c\n",
    "scene.up = b\n",
    "#scene.capture('mypict40')"
   ]
  },
  {
   "cell_type": "code",
   "execution_count": null,
   "id": "90b0ea6b",
   "metadata": {},
   "outputs": [],
   "source": []
  },
  {
   "cell_type": "code",
   "execution_count": null,
   "id": "cf9dc883",
   "metadata": {},
   "outputs": [],
   "source": []
  },
  {
   "cell_type": "code",
   "execution_count": null,
   "id": "23ebea34",
   "metadata": {},
   "outputs": [],
   "source": []
  }
 ],
 "metadata": {
  "kernelspec": {
   "display_name": "Python 3 (ipykernel)",
   "language": "python",
   "name": "python3"
  },
  "language_info": {
   "codemirror_mode": {
    "name": "ipython",
    "version": 3
   },
   "file_extension": ".py",
   "mimetype": "text/x-python",
   "name": "python",
   "nbconvert_exporter": "python",
   "pygments_lexer": "ipython3",
   "version": "3.10.7"
  }
 },
 "nbformat": 4,
 "nbformat_minor": 5
}
