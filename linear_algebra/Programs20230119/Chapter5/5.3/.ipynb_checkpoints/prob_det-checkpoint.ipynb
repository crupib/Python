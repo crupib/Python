{
 "cells": [
  {
   "cell_type": "code",
   "execution_count": 1,
   "id": "7dd5e515",
   "metadata": {},
   "outputs": [
    {
     "name": "stdout",
     "output_type": "stream",
     "text": [
      "Matrix([[3, -2, -3], [3, 2, 1], [3, 3, 3]])\n",
      "Matrix([[1, -2, 1], [-2, -2, 1], [1, -2, 1]])\n"
     ]
    }
   ],
   "source": [
    "from numpy.random import seed, choice, permutation\n",
    "from sympy import Matrix\n",
    "\n",
    "def f(P, m, p):\n",
    "    while True:\n",
    "        A = Matrix(choice(P, (m, m)))\n",
    "        if p == 0:\n",
    "            if A.det() == 0:\n",
    "                return A\n",
    "        elif A.det() != 0:\n",
    "            return A\n",
    "\n",
    "m = 3\n",
    "seed(2021)\n",
    "for p in permutation(2):\n",
    "    print(f([-3, -2, -1, 1, 2, 3], m, p))"
   ]
  },
  {
   "cell_type": "code",
   "execution_count": null,
   "id": "00b1663f",
   "metadata": {},
   "outputs": [],
   "source": []
  }
 ],
 "metadata": {
  "kernelspec": {
   "display_name": "Python 3 (ipykernel)",
   "language": "python",
   "name": "python3"
  },
  "language_info": {
   "codemirror_mode": {
    "name": "ipython",
    "version": 3
   },
   "file_extension": ".py",
   "mimetype": "text/x-python",
   "name": "python",
   "nbconvert_exporter": "python",
   "pygments_lexer": "ipython3",
   "version": "3.9.2"
  }
 },
 "nbformat": 4,
 "nbformat_minor": 5
}
