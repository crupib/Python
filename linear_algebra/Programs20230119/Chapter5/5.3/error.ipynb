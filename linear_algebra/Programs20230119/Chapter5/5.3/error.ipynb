{
 "cells": [
  {
   "cell_type": "code",
   "execution_count": 4,
   "id": "e85a1899",
   "metadata": {},
   "outputs": [
    {
     "name": "stdout",
     "output_type": "stream",
     "text": [
      "shape = (20, 20)\n",
      "det = 23.147833157995517\n",
      "rank = 19\n"
     ]
    }
   ],
   "source": [
    "from numpy.linalg import det, matrix_rank\n",
    "from numpy.random import seed, normal\n",
    "\n",
    "seed(123)\n",
    "n = 20\n",
    "F =normal(0, 1, (n, n-1))\n",
    "G = F.dot(F.T)\n",
    "print(f'shape = {G.shape}')\n",
    "print(f'det = {det(G)}')\n",
    "print(f'rank = {matrix_rank(G)}')"
   ]
  },
  {
   "cell_type": "code",
   "execution_count": null,
   "id": "7962e4e5",
   "metadata": {},
   "outputs": [],
   "source": []
  }
 ],
 "metadata": {
  "kernelspec": {
   "display_name": "Python 3 (ipykernel)",
   "language": "python",
   "name": "python3"
  },
  "language_info": {
   "codemirror_mode": {
    "name": "ipython",
    "version": 3
   },
   "file_extension": ".py",
   "mimetype": "text/x-python",
   "name": "python",
   "nbconvert_exporter": "python",
   "pygments_lexer": "ipython3",
   "version": "3.10.7"
  }
 },
 "nbformat": 4,
 "nbformat_minor": 5
}
