{
 "cells": [
  {
   "cell_type": "code",
   "execution_count": 1,
   "id": "06805b5e",
   "metadata": {},
   "outputs": [
    {
     "name": "stdout",
     "output_type": "stream",
     "text": [
      "-1 0 0 -18\n"
     ]
    }
   ],
   "source": [
    "from functools import reduce\n",
    "\n",
    "def P(n):\n",
    "    if n == 1:\n",
    "        return [([0], 1)]\n",
    "    else:\n",
    "        Q = []\n",
    "        for p, s in P(n-1):\n",
    "            Q.append((p + [n-1], s))\n",
    "            for i in range(n-1):\n",
    "                q = p + [n-1]\n",
    "                q[i], q[-1] = q[-1], q[i]\n",
    "                Q.append((q, -1*s))\n",
    "        return Q\n",
    "\n",
    "def prod(L): return reduce(lambda x, y: x*y, L)\n",
    "\n",
    "def det(A):\n",
    "    n = len(A)\n",
    "    a = sum([s * prod([A[i][p[i]] for i in range(n)])\n",
    "             for p, s in P(n)])\n",
    "    return a\n",
    "\n",
    "if __name__ == '__main__':\n",
    "    A = [[1, 2], [2, 3]]\n",
    "    B = [[1, 2], [2, 4]]\n",
    "    C = [[1, 2, 3], [2, 3, 4], [3, 4, 5]]\n",
    "    D = [[1, 2, 3], [2, 3, 1], [3, 1, 2]]\n",
    "    print(det(A), det(B), det(C), det(D))"
   ]
  },
  {
   "cell_type": "code",
   "execution_count": null,
   "id": "b0816dd8",
   "metadata": {},
   "outputs": [],
   "source": []
  }
 ],
 "metadata": {
  "kernelspec": {
   "display_name": "Python 3 (ipykernel)",
   "language": "python",
   "name": "python3"
  },
  "language_info": {
   "codemirror_mode": {
    "name": "ipython",
    "version": 3
   },
   "file_extension": ".py",
   "mimetype": "text/x-python",
   "name": "python",
   "nbconvert_exporter": "python",
   "pygments_lexer": "ipython3",
   "version": "3.10.7"
  }
 },
 "nbformat": 4,
 "nbformat_minor": 5
}
