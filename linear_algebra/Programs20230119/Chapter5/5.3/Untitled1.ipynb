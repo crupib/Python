{
 "cells": [
  {
   "cell_type": "code",
   "execution_count": 1,
   "id": "52ff1400",
   "metadata": {},
   "outputs": [
    {
     "data": {
      "text/plain": [
       "(-1, 0, 0, -18)"
      ]
     },
     "execution_count": 1,
     "metadata": {},
     "output_type": "execute_result"
    }
   ],
   "source": [
    "from sympy import Matrix, symbols\n",
    "A = Matrix([[1, 2], [2, 3]])\n",
    "B = Matrix([[1, 2], [2, 4]])\n",
    "C = Matrix([[1, 2, 3], [2, 3, 4], [3, 4, 5]])\n",
    "D = Matrix([[1, 2, 3], [2, 3, 1], [3, 1, 2]])\n",
    "A.det(), B.det(), C.det(), D.det()"
   ]
  },
  {
   "cell_type": "code",
   "execution_count": 2,
   "id": "1552cafd",
   "metadata": {},
   "outputs": [
    {
     "data": {
      "text/latex": [
       "$\\displaystyle a_{11} a_{22} - a_{12} a_{21}$"
      ],
      "text/plain": [
       "a11*a22 - a12*a21"
      ]
     },
     "execution_count": 2,
     "metadata": {},
     "output_type": "execute_result"
    }
   ],
   "source": [
    "a11, a12, a13 = symbols('a11, a12, a13')\n",
    "a21, a22, a23 = symbols('a21, a22, a23')\n",
    "a31, a32, a33 = symbols('a31, a32, a33')\n",
    "E = Matrix([[a11,a12], [a21,a22]])\n",
    "F = Matrix([[a11,a12,a13], [a21,a22,a23], [a31,a32,a33]])\n",
    "E.det()"
   ]
  },
  {
   "cell_type": "code",
   "execution_count": 3,
   "id": "5601aff4",
   "metadata": {},
   "outputs": [
    {
     "data": {
      "text/latex": [
       "$\\displaystyle a_{11} a_{22} a_{33} - a_{11} a_{23} a_{32} - a_{12} a_{21} a_{33} + a_{12} a_{23} a_{31} + a_{13} a_{21} a_{32} - a_{13} a_{22} a_{31}$"
      ],
      "text/plain": [
       "a11*a22*a33 - a11*a23*a32 - a12*a21*a33 + a12*a23*a31 + a13*a21*a32 - a13*a22*a31"
      ]
     },
     "execution_count": 3,
     "metadata": {},
     "output_type": "execute_result"
    }
   ],
   "source": [
    "F.det()"
   ]
  },
  {
   "cell_type": "code",
   "execution_count": null,
   "id": "3eea160b",
   "metadata": {},
   "outputs": [],
   "source": []
  }
 ],
 "metadata": {
  "kernelspec": {
   "display_name": "Python 3 (ipykernel)",
   "language": "python",
   "name": "python3"
  },
  "language_info": {
   "codemirror_mode": {
    "name": "ipython",
    "version": 3
   },
   "file_extension": ".py",
   "mimetype": "text/x-python",
   "name": "python",
   "nbconvert_exporter": "python",
   "pygments_lexer": "ipython3",
   "version": "3.10.7"
  }
 },
 "nbformat": 4,
 "nbformat_minor": 5
}
