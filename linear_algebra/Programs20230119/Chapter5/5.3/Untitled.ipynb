{
 "cells": [
  {
   "cell_type": "code",
   "execution_count": 1,
   "id": "57a8e96d",
   "metadata": {},
   "outputs": [
    {
     "data": {
      "text/plain": [
       "(-1.0, 0.0, -7.401486830834414e-17, -18.000000000000004)"
      ]
     },
     "execution_count": 1,
     "metadata": {},
     "output_type": "execute_result"
    }
   ],
   "source": [
    "from numpy.linalg import det\n",
    "A = [[1, 2], [2, 3]]\n",
    "B = [[1, 2], [2, 4]]\n",
    "C = [[1, 2, 3], [2, 3, 4], [3, 4, 5]]\n",
    "D = [[1, 2, 3], [2, 3, 1], [3, 1, 2]]\n",
    "det(A), det(B), det(C), det(D)"
   ]
  },
  {
   "cell_type": "code",
   "execution_count": null,
   "id": "611d5c80",
   "metadata": {},
   "outputs": [],
   "source": []
  }
 ],
 "metadata": {
  "kernelspec": {
   "display_name": "Python 3 (ipykernel)",
   "language": "python",
   "name": "python3"
  },
  "language_info": {
   "codemirror_mode": {
    "name": "ipython",
    "version": 3
   },
   "file_extension": ".py",
   "mimetype": "text/x-python",
   "name": "python",
   "nbconvert_exporter": "python",
   "pygments_lexer": "ipython3",
   "version": "3.10.7"
  }
 },
 "nbformat": 4,
 "nbformat_minor": 5
}
