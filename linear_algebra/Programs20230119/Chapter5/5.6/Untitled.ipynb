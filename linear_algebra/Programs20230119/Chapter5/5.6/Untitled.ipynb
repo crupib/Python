{
 "cells": [
  {
   "cell_type": "code",
   "execution_count": 1,
   "id": "1ea36eeb",
   "metadata": {},
   "outputs": [],
   "source": [
    "from sympy import Matrix\n",
    "A = Matrix([[1, 2, 3, 1, 0, 0],\n",
    "            [2, 3, 1, 0, 1, 0],\n",
    "            [3, 1, 2, 0, 0, 1]])"
   ]
  },
  {
   "cell_type": "code",
   "execution_count": 2,
   "id": "1270da6f",
   "metadata": {},
   "outputs": [
    {
     "data": {
      "text/latex": [
       "$\\displaystyle \\left[\\begin{matrix}1 & 2 & 3 & 1 & 0 & 0\\\\0 & -1 & -5 & -2 & 1 & 0\\\\0 & -5 & -7 & -3 & 0 & 1\\end{matrix}\\right]$"
      ],
      "text/plain": [
       "Matrix([\n",
       "[1,  2,  3,  1, 0, 0],\n",
       "[0, -1, -5, -2, 1, 0],\n",
       "[0, -5, -7, -3, 0, 1]])"
      ]
     },
     "execution_count": 2,
     "metadata": {},
     "output_type": "execute_result"
    }
   ],
   "source": [
    "A[1, :] -= A[0, :] * 2; A[2, :] -= A[0, :] * 3; A"
   ]
  },
  {
   "cell_type": "code",
   "execution_count": 3,
   "id": "03f8d548",
   "metadata": {},
   "outputs": [
    {
     "data": {
      "text/latex": [
       "$\\displaystyle \\left[\\begin{matrix}1 & 2 & 3 & 1 & 0 & 0\\\\0 & 1 & 5 & 2 & -1 & 0\\\\0 & -5 & -7 & -3 & 0 & 1\\end{matrix}\\right]$"
      ],
      "text/plain": [
       "Matrix([\n",
       "[1,  2,  3,  1,  0, 0],\n",
       "[0,  1,  5,  2, -1, 0],\n",
       "[0, -5, -7, -3,  0, 1]])"
      ]
     },
     "execution_count": 3,
     "metadata": {},
     "output_type": "execute_result"
    }
   ],
   "source": [
    "A[1, :] /= -1; A"
   ]
  },
  {
   "cell_type": "code",
   "execution_count": 4,
   "id": "7a272dd3",
   "metadata": {},
   "outputs": [
    {
     "data": {
      "text/latex": [
       "$\\displaystyle \\left[\\begin{matrix}1 & 0 & -7 & -3 & 2 & 0\\\\0 & 1 & 5 & 2 & -1 & 0\\\\0 & 0 & 18 & 7 & -5 & 1\\end{matrix}\\right]$"
      ],
      "text/plain": [
       "Matrix([\n",
       "[1, 0, -7, -3,  2, 0],\n",
       "[0, 1,  5,  2, -1, 0],\n",
       "[0, 0, 18,  7, -5, 1]])"
      ]
     },
     "execution_count": 4,
     "metadata": {},
     "output_type": "execute_result"
    }
   ],
   "source": [
    "A[0, :] -= A[1, :] * 2; A[2, :] += A[1, :] * 5; A"
   ]
  },
  {
   "cell_type": "code",
   "execution_count": 5,
   "id": "496a8b02",
   "metadata": {},
   "outputs": [
    {
     "data": {
      "text/latex": [
       "$\\displaystyle \\left[\\begin{matrix}1 & 0 & -7 & -3 & 2 & 0\\\\0 & 1 & 5 & 2 & -1 & 0\\\\0 & 0 & 1 & \\frac{7}{18} & - \\frac{5}{18} & \\frac{1}{18}\\end{matrix}\\right]$"
      ],
      "text/plain": [
       "Matrix([\n",
       "[1, 0, -7,   -3,     2,    0],\n",
       "[0, 1,  5,    2,    -1,    0],\n",
       "[0, 0,  1, 7/18, -5/18, 1/18]])"
      ]
     },
     "execution_count": 5,
     "metadata": {},
     "output_type": "execute_result"
    }
   ],
   "source": [
    "A[2, :] /= 18; A"
   ]
  },
  {
   "cell_type": "code",
   "execution_count": 6,
   "id": "694bd1c2",
   "metadata": {},
   "outputs": [
    {
     "data": {
      "text/latex": [
       "$\\displaystyle \\left[\\begin{matrix}1 & 0 & 0 & - \\frac{5}{18} & \\frac{1}{18} & \\frac{7}{18}\\\\0 & 1 & 0 & \\frac{1}{18} & \\frac{7}{18} & - \\frac{5}{18}\\\\0 & 0 & 1 & \\frac{7}{18} & - \\frac{5}{18} & \\frac{1}{18}\\end{matrix}\\right]$"
      ],
      "text/plain": [
       "Matrix([\n",
       "[1, 0, 0, -5/18,  1/18,  7/18],\n",
       "[0, 1, 0,  1/18,  7/18, -5/18],\n",
       "[0, 0, 1,  7/18, -5/18,  1/18]])"
      ]
     },
     "execution_count": 6,
     "metadata": {},
     "output_type": "execute_result"
    }
   ],
   "source": [
    "A[0, :] += A[2, :] * 7; A[1, :] -= A[2, :] * 5; A"
   ]
  },
  {
   "cell_type": "code",
   "execution_count": null,
   "id": "7a7a0a34",
   "metadata": {},
   "outputs": [],
   "source": []
  }
 ],
 "metadata": {
  "kernelspec": {
   "display_name": "Python 3 (ipykernel)",
   "language": "python",
   "name": "python3"
  },
  "language_info": {
   "codemirror_mode": {
    "name": "ipython",
    "version": 3
   },
   "file_extension": ".py",
   "mimetype": "text/x-python",
   "name": "python",
   "nbconvert_exporter": "python",
   "pygments_lexer": "ipython3",
   "version": "3.10.7"
  }
 },
 "nbformat": 4,
 "nbformat_minor": 5
}
