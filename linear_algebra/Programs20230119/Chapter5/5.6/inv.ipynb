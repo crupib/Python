{
 "cells": [
  {
   "cell_type": "code",
   "execution_count": 1,
   "id": "8b72525b",
   "metadata": {},
   "outputs": [
    {
     "name": "stdout",
     "output_type": "stream",
     "text": [
      "[[ 1.00000000e+00  2.49800181e-15  2.44249065e-15  1.58900670e-15\n",
      "  -5.10702591e-15]\n",
      " [ 1.11022302e-15  1.00000000e+00  0.00000000e+00  1.33920652e-15\n",
      "  -1.22124533e-14]\n",
      " [ 1.55431223e-15  7.88258347e-15  1.00000000e+00  9.29811783e-16\n",
      "  -1.02140518e-14]\n",
      " [ 1.05471187e-15  1.13797860e-14 -4.44089210e-16  1.00000000e+00\n",
      "  -1.13242749e-14]\n",
      " [ 1.11022302e-15  5.55111512e-15  6.66133815e-16  1.08246745e-15\n",
      "   1.00000000e+00]]\n"
     ]
    }
   ],
   "source": [
    "from numpy import array, linalg, random\n",
    "\n",
    "n = 5\n",
    "A = random.randint(0, 10, (n, n))\n",
    "K = [[j for j in range(n) if j != i] for i in range(n)]\n",
    "B = array([[(-1) ** (i+j) * linalg.det(A[K[i], :][:, K[j]])\n",
    "            for i in range(n)] for j in range(n)])\n",
    "\n",
    "print(A.dot(B/linalg.det(A)))"
   ]
  },
  {
   "cell_type": "code",
   "execution_count": null,
   "id": "e772f684",
   "metadata": {},
   "outputs": [],
   "source": []
  }
 ],
 "metadata": {
  "kernelspec": {
   "display_name": "Python 3 (ipykernel)",
   "language": "python",
   "name": "python3"
  },
  "language_info": {
   "codemirror_mode": {
    "name": "ipython",
    "version": 3
   },
   "file_extension": ".py",
   "mimetype": "text/x-python",
   "name": "python",
   "nbconvert_exporter": "python",
   "pygments_lexer": "ipython3",
   "version": "3.10.7"
  }
 },
 "nbformat": 4,
 "nbformat_minor": 5
}
