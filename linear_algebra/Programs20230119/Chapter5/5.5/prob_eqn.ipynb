{
 "cells": [
  {
   "cell_type": "code",
   "execution_count": 1,
   "id": "6bea9782",
   "metadata": {},
   "outputs": [
    {
     "name": "stdout",
     "output_type": "stream",
     "text": [
      "\\left[\\begin{matrix}3 & 2 & 3\\\\8 & 6 & 2\\\\7 & 5 & 4\\end{matrix}\\right]\\left[\\begin{matrix}x\\\\y\\\\z\\end{matrix}\\right]=\\left[\\begin{matrix}7\\\\2\\\\8\\end{matrix}\\right]\n",
      "{x: 19 - 7*z, y: 9*z - 25}\n"
     ]
    }
   ],
   "source": [
    "from numpy.random import seed, choice, shuffle\n",
    "from sympy import Matrix, latex, solve, zeros\n",
    "from sympy.abc import x, y, z\n",
    "\n",
    "def f(P, m, n):\n",
    "    while True:\n",
    "        A = Matrix(choice(P, (3, 4)))\n",
    "        if A[:, :3].rank() == m and A.rank() == n:\n",
    "            break\n",
    "    A, b = A[:, :3], A[:, 3]\n",
    "    u = Matrix([[x], [y], [z]])\n",
    "    print(f'{latex(A)}{latex(u)}={latex(b)}')\n",
    "    print(solve(A*u - b, [x, y, z]))\n",
    "\n",
    "seed(1234)\n",
    "m, n = 2, 2\n",
    "f(range(2, 10), m, n)"
   ]
  },
  {
   "cell_type": "code",
   "execution_count": null,
   "id": "c7273729",
   "metadata": {},
   "outputs": [],
   "source": []
  }
 ],
 "metadata": {
  "kernelspec": {
   "display_name": "Python 3 (ipykernel)",
   "language": "python",
   "name": "python3"
  },
  "language_info": {
   "codemirror_mode": {
    "name": "ipython",
    "version": 3
   },
   "file_extension": ".py",
   "mimetype": "text/x-python",
   "name": "python",
   "nbconvert_exporter": "python",
   "pygments_lexer": "ipython3",
   "version": "3.10.7"
  }
 },
 "nbformat": 4,
 "nbformat_minor": 5
}
