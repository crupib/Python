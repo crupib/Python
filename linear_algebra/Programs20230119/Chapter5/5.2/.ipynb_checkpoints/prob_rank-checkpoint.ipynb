{
 "cells": [
  {
   "cell_type": "code",
   "execution_count": 1,
   "id": "ebfb9bcb",
   "metadata": {},
   "outputs": [
    {
     "name": "stdout",
     "output_type": "stream",
     "text": [
      "Matrix([[-3, 3, 2, 1], [3, 3, 3, -3], [2, -2, 3, -2]])\n",
      "Matrix([[5, -2, 1, -14], [-5, 2, -9, 4], [-4, 1, -3, 11]])\n",
      "Matrix([[3, -1, -2, 2], [-7, 4, 7, -3], [1, 3, 4, 4]])\n",
      "Matrix([[-2, -1, 3, 1], [4, 2, -6, -2], [4, 2, -6, -2]])\n"
     ]
    }
   ],
   "source": [
    "from numpy.random import seed, choice, permutation\n",
    "from sympy import Matrix\n",
    "\n",
    "def f(P, m1, m2, n):\n",
    "    if n > min(m1, m2):\n",
    "        return Matrix(choice(P, (m1, m2)))\n",
    "    else:\n",
    "        while True:\n",
    "            X, Y = choice(P, (m1, n)), choice(P, (n, m2))\n",
    "            A = Matrix(X.dot(Y))\n",
    "            if A.rank() == n:\n",
    "                return A\n",
    "\n",
    "m1, m2 = 3, 4\n",
    "seed(2021)\n",
    "for i in permutation(max(m1, m2)):\n",
    "    print(f([-3, -2, -1, 1, 2, 3], m1, m2, i+1))"
   ]
  },
  {
   "cell_type": "code",
   "execution_count": null,
   "id": "639fbee6",
   "metadata": {},
   "outputs": [],
   "source": []
  }
 ],
 "metadata": {
  "kernelspec": {
   "display_name": "Python 3 (ipykernel)",
   "language": "python",
   "name": "python3"
  },
  "language_info": {
   "codemirror_mode": {
    "name": "ipython",
    "version": 3
   },
   "file_extension": ".py",
   "mimetype": "text/x-python",
   "name": "python",
   "nbconvert_exporter": "python",
   "pygments_lexer": "ipython3",
   "version": "3.9.2"
  }
 },
 "nbformat": 4,
 "nbformat_minor": 5
}
