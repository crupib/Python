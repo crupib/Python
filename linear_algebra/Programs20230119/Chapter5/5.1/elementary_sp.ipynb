{
 "cells": [
  {
   "cell_type": "code",
   "execution_count": 1,
   "id": "4be653a7",
   "metadata": {},
   "outputs": [],
   "source": [
    "from sympy import Matrix, var\n",
    "\n",
    "var('x y a11 a12 a13 a21 a22 a23 a31 a32 a33')\n",
    "E1 = Matrix([[1, x, 0], [0, 1, 0], [0, 0, 1]])\n",
    "E2 = Matrix([[0, 1, 0], [1, 0, 0], [0, 0, 1]])\n",
    "E3 = Matrix([[1, 0, 0], [0, y, 0], [0, 0, 1]])\n",
    "A = Matrix([[a11, a12, a13], [a21, a22, a23], [a31, a32, a33]])"
   ]
  },
  {
   "cell_type": "code",
   "execution_count": 2,
   "id": "910b40b9",
   "metadata": {},
   "outputs": [
    {
     "data": {
      "text/latex": [
       "$\\displaystyle \\left[\\begin{matrix}a_{11} + a_{21} x & a_{12} + a_{22} x & a_{13} + a_{23} x\\\\a_{21} & a_{22} & a_{23}\\\\a_{31} & a_{32} & a_{33}\\end{matrix}\\right]$"
      ],
      "text/plain": [
       "Matrix([\n",
       "[a11 + a21*x, a12 + a22*x, a13 + a23*x],\n",
       "[        a21,         a22,         a23],\n",
       "[        a31,         a32,         a33]])"
      ]
     },
     "execution_count": 2,
     "metadata": {},
     "output_type": "execute_result"
    }
   ],
   "source": [
    "E1 * A"
   ]
  },
  {
   "cell_type": "code",
   "execution_count": 3,
   "id": "9eea69f4",
   "metadata": {},
   "outputs": [
    {
     "data": {
      "text/latex": [
       "$\\displaystyle \\left[\\begin{matrix}a_{21} & a_{22} & a_{23}\\\\a_{11} & a_{12} & a_{13}\\\\a_{31} & a_{32} & a_{33}\\end{matrix}\\right]$"
      ],
      "text/plain": [
       "Matrix([\n",
       "[a21, a22, a23],\n",
       "[a11, a12, a13],\n",
       "[a31, a32, a33]])"
      ]
     },
     "execution_count": 3,
     "metadata": {},
     "output_type": "execute_result"
    }
   ],
   "source": [
    "E2 * A"
   ]
  },
  {
   "cell_type": "code",
   "execution_count": 4,
   "id": "71681d47",
   "metadata": {},
   "outputs": [
    {
     "data": {
      "text/latex": [
       "$\\displaystyle \\left[\\begin{matrix}a_{11} & a_{12} & a_{13}\\\\a_{21} y & a_{22} y & a_{23} y\\\\a_{31} & a_{32} & a_{33}\\end{matrix}\\right]$"
      ],
      "text/plain": [
       "Matrix([\n",
       "[  a11,   a12,   a13],\n",
       "[a21*y, a22*y, a23*y],\n",
       "[  a31,   a32,   a33]])"
      ]
     },
     "execution_count": 4,
     "metadata": {},
     "output_type": "execute_result"
    }
   ],
   "source": [
    "E3 * A"
   ]
  },
  {
   "cell_type": "code",
   "execution_count": 5,
   "id": "a1dfc6ea",
   "metadata": {},
   "outputs": [
    {
     "data": {
      "text/latex": [
       "$\\displaystyle \\left[\\begin{matrix}a_{11} & a_{11} x + a_{12} & a_{13}\\\\a_{21} & a_{21} x + a_{22} & a_{23}\\\\a_{31} & a_{31} x + a_{32} & a_{33}\\end{matrix}\\right]$"
      ],
      "text/plain": [
       "Matrix([\n",
       "[a11, a11*x + a12, a13],\n",
       "[a21, a21*x + a22, a23],\n",
       "[a31, a31*x + a32, a33]])"
      ]
     },
     "execution_count": 5,
     "metadata": {},
     "output_type": "execute_result"
    }
   ],
   "source": [
    "A * E1"
   ]
  },
  {
   "cell_type": "code",
   "execution_count": 6,
   "id": "2b4f18e6",
   "metadata": {},
   "outputs": [
    {
     "data": {
      "text/latex": [
       "$\\displaystyle \\left[\\begin{matrix}a_{12} & a_{11} & a_{13}\\\\a_{22} & a_{21} & a_{23}\\\\a_{32} & a_{31} & a_{33}\\end{matrix}\\right]$"
      ],
      "text/plain": [
       "Matrix([\n",
       "[a12, a11, a13],\n",
       "[a22, a21, a23],\n",
       "[a32, a31, a33]])"
      ]
     },
     "execution_count": 6,
     "metadata": {},
     "output_type": "execute_result"
    }
   ],
   "source": [
    "A * E2"
   ]
  },
  {
   "cell_type": "code",
   "execution_count": 7,
   "id": "d5cee403",
   "metadata": {},
   "outputs": [
    {
     "data": {
      "text/latex": [
       "$\\displaystyle \\left[\\begin{matrix}a_{11} & a_{12} y & a_{13}\\\\a_{21} & a_{22} y & a_{23}\\\\a_{31} & a_{32} y & a_{33}\\end{matrix}\\right]$"
      ],
      "text/plain": [
       "Matrix([\n",
       "[a11, a12*y, a13],\n",
       "[a21, a22*y, a23],\n",
       "[a31, a32*y, a33]])"
      ]
     },
     "execution_count": 7,
     "metadata": {},
     "output_type": "execute_result"
    }
   ],
   "source": [
    "A * E3"
   ]
  },
  {
   "cell_type": "code",
   "execution_count": 8,
   "id": "8961aa50",
   "metadata": {},
   "outputs": [
    {
     "data": {
      "text/latex": [
       "$\\displaystyle \\left[\\begin{matrix}a_{11} & a_{12} & a_{13}\\\\a_{21} x & a_{22} x & a_{23} x\\\\a_{31} & a_{32} & a_{33}\\end{matrix}\\right]$"
      ],
      "text/plain": [
       "Matrix([\n",
       "[  a11,   a12,   a13],\n",
       "[a21*x, a22*x, a23*x],\n",
       "[  a31,   a32,   a33]])"
      ]
     },
     "execution_count": 8,
     "metadata": {},
     "output_type": "execute_result"
    }
   ],
   "source": [
    "B = A.copy(); B[1,:] *= x; B"
   ]
  },
  {
   "cell_type": "code",
   "execution_count": 9,
   "id": "d9931820",
   "metadata": {},
   "outputs": [
    {
     "data": {
      "text/latex": [
       "$\\displaystyle \\left[\\begin{matrix}a_{11} & a_{12} & a_{13} x\\\\a_{21} & a_{22} & a_{23} x\\\\a_{31} & a_{32} & a_{33} x\\end{matrix}\\right]$"
      ],
      "text/plain": [
       "Matrix([\n",
       "[a11, a12, a13*x],\n",
       "[a21, a22, a23*x],\n",
       "[a31, a32, a33*x]])"
      ]
     },
     "execution_count": 9,
     "metadata": {},
     "output_type": "execute_result"
    }
   ],
   "source": [
    "B = A.copy(); B[:,2] *= x; B"
   ]
  },
  {
   "cell_type": "code",
   "execution_count": 10,
   "id": "fe73d08d",
   "metadata": {},
   "outputs": [
    {
     "data": {
      "text/latex": [
       "$\\displaystyle \\left[\\begin{matrix}a_{21} & a_{22} & a_{23}\\\\a_{11} & a_{12} & a_{13}\\\\a_{31} & a_{32} & a_{33}\\end{matrix}\\right]$"
      ],
      "text/plain": [
       "Matrix([\n",
       "[a21, a22, a23],\n",
       "[a11, a12, a13],\n",
       "[a31, a32, a33]])"
      ]
     },
     "execution_count": 10,
     "metadata": {},
     "output_type": "execute_result"
    }
   ],
   "source": [
    "B = A.copy(); B[0,:], B[1,:] = B[1,:], B[0,:]; B"
   ]
  },
  {
   "cell_type": "code",
   "execution_count": 11,
   "id": "7f0de966",
   "metadata": {},
   "outputs": [
    {
     "data": {
      "text/latex": [
       "$\\displaystyle \\left[\\begin{matrix}a_{11} & a_{13} & a_{12}\\\\a_{21} & a_{23} & a_{22}\\\\a_{31} & a_{33} & a_{32}\\end{matrix}\\right]$"
      ],
      "text/plain": [
       "Matrix([\n",
       "[a11, a13, a12],\n",
       "[a21, a23, a22],\n",
       "[a31, a33, a32]])"
      ]
     },
     "execution_count": 11,
     "metadata": {},
     "output_type": "execute_result"
    }
   ],
   "source": [
    "B = A.copy(); B[:,1], B[:,2] = B[:,2], B[:,1]; B"
   ]
  },
  {
   "cell_type": "code",
   "execution_count": 12,
   "id": "cb76df15",
   "metadata": {},
   "outputs": [
    {
     "data": {
      "text/latex": [
       "$\\displaystyle \\left[\\begin{matrix}a_{11} + a_{21} y & a_{12} + a_{22} y & a_{13} + a_{23} y\\\\a_{21} & a_{22} & a_{23}\\\\a_{31} & a_{32} & a_{33}\\end{matrix}\\right]$"
      ],
      "text/plain": [
       "Matrix([\n",
       "[a11 + a21*y, a12 + a22*y, a13 + a23*y],\n",
       "[        a21,         a22,         a23],\n",
       "[        a31,         a32,         a33]])"
      ]
     },
     "execution_count": 12,
     "metadata": {},
     "output_type": "execute_result"
    }
   ],
   "source": [
    "B = A.copy(); B[0,:] += y * B[1,:]; B"
   ]
  },
  {
   "cell_type": "code",
   "execution_count": 13,
   "id": "2fcf28bf",
   "metadata": {},
   "outputs": [
    {
     "data": {
      "text/latex": [
       "$\\displaystyle \\left[\\begin{matrix}a_{11} & a_{12} + a_{13} y & a_{13}\\\\a_{21} & a_{22} + a_{23} y & a_{23}\\\\a_{31} & a_{32} + a_{33} y & a_{33}\\end{matrix}\\right]$"
      ],
      "text/plain": [
       "Matrix([\n",
       "[a11, a12 + a13*y, a13],\n",
       "[a21, a22 + a23*y, a23],\n",
       "[a31, a32 + a33*y, a33]])"
      ]
     },
     "execution_count": 13,
     "metadata": {},
     "output_type": "execute_result"
    }
   ],
   "source": [
    "B = A.copy(); B[:,1] += y * B[:,2]; B"
   ]
  },
  {
   "cell_type": "code",
   "execution_count": null,
   "id": "f83065e2",
   "metadata": {},
   "outputs": [],
   "source": []
  }
 ],
 "metadata": {
  "kernelspec": {
   "display_name": "Python 3 (ipykernel)",
   "language": "python",
   "name": "python3"
  },
  "language_info": {
   "codemirror_mode": {
    "name": "ipython",
    "version": 3
   },
   "file_extension": ".py",
   "mimetype": "text/x-python",
   "name": "python",
   "nbconvert_exporter": "python",
   "pygments_lexer": "ipython3",
   "version": "3.10.7"
  }
 },
 "nbformat": 4,
 "nbformat_minor": 5
}
