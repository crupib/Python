{
 "cells": [
  {
   "cell_type": "markdown",
   "id": "d1b1a3e1",
   "metadata": {},
   "source": [
    "# Chapter 5. Elementary Operation and Matrix Invariants\n",
    "\n",
    "## 5.1. Elementary matrices and operations\n",
    "\n",
    "**Program:**[elementary_vp.py](./5.1/elementary_vp.py)"
   ]
  },
  {
   "cell_type": "code",
   "execution_count": 1,
   "id": "cf4b2caf",
   "metadata": {},
   "outputs": [
    {
     "data": {
      "text/html": [
       "<div id=\"glowscript\" class=\"glowscript\"></div>"
      ],
      "text/plain": [
       "<IPython.core.display.HTML object>"
      ]
     },
     "metadata": {},
     "output_type": "display_data"
    },
    {
     "data": {
      "application/javascript": [
       "if (typeof Jupyter !== \"undefined\") { window.__context = { glowscript_container: $(\"#glowscript\").removeAttr(\"id\")};}else{ element.textContent = ' ';}"
      ],
      "text/plain": [
       "<IPython.core.display.Javascript object>"
      ]
     },
     "metadata": {},
     "output_type": "display_data"
    }
   ],
   "source": [
    "from vpython import *\n",
    "import numpy as np\n",
    "\n",
    "o = vec(0, 0, 0)\n",
    "x, y, z = vec(1, 0, 0), vec(0, 1, 0), vec(0, 0, 1)\n",
    "yz, zx, xy = [o, y, z, y+z], [o, z, x, z+x], [o, x, y, x+y]\n",
    "\n",
    "def T(A, u): return vec(*np.dot(A, (u.x, u.y, u.z)))\n",
    "\n",
    "E1 = [[1, 2, 0], [0, 1, 0], [0, 0, 1]]\n",
    "E2 = [[0, 1, 0], [1, 0, 0], [0, 0, 1]]\n",
    "E3 = [[2, 0, 0], [0, 1, 0], [0, 0, 1]]\n",
    "\n",
    "def draw(E):\n",
    "    scene = canvas(width=600, height=600)\n",
    "    scene.camera.pos = vec(3, 4, 5)\n",
    "    scene.camera.axis = -vec(3, 4, 5)\n",
    "    box(pos=(x+y+z)/2)\n",
    "    for axis in [x, y, z]:\n",
    "        curve(pos=[-axis, 3*axis], color=axis)\n",
    "    for axis, face in [(x, yz), (y, zx), (z, xy)]:\n",
    "        for side in face:\n",
    "            A = E\n",
    "            curve(pos=[T(A, side), T(A, axis+side)], color=axis)"
   ]
  },
  {
   "cell_type": "code",
   "execution_count": 2,
   "id": "1d31f448",
   "metadata": {},
   "outputs": [],
   "source": [
    "draw(E1)"
   ]
  },
  {
   "cell_type": "markdown",
   "id": "6eb3b986",
   "metadata": {},
   "source": [
    "![E1](./5.1/1.png)"
   ]
  },
  {
   "cell_type": "code",
   "execution_count": 3,
   "id": "e1d91bda",
   "metadata": {},
   "outputs": [],
   "source": [
    "draw(E2)"
   ]
  },
  {
   "cell_type": "markdown",
   "id": "7f803b08",
   "metadata": {},
   "source": [
    "![E2](./5.1/2.png)"
   ]
  },
  {
   "cell_type": "code",
   "execution_count": 4,
   "id": "c38cc461",
   "metadata": {},
   "outputs": [],
   "source": [
    "draw(E3)"
   ]
  },
  {
   "cell_type": "markdown",
   "id": "5b51adfa",
   "metadata": {},
   "source": [
    "![E3](./5.1/3.png)"
   ]
  },
  {
   "cell_type": "markdown",
   "id": "96f03874",
   "metadata": {},
   "source": [
    "---\n",
    "[elementary_sp.ipynb](./5.1/elementary_sp.ipynb)"
   ]
  },
  {
   "cell_type": "code",
   "execution_count": 1,
   "id": "8449e630",
   "metadata": {},
   "outputs": [],
   "source": [
    "from sympy import Matrix, var\n",
    "\n",
    "var('x y a11 a12 a13 a21 a22 a23 a31 a32 a33')\n",
    "E1 = Matrix([[1, x, 0], [0, 1, 0], [0, 0, 1]])\n",
    "E2 = Matrix([[0, 1, 0], [1, 0, 0], [0, 0, 1]])\n",
    "E3 = Matrix([[1, 0, 0], [0, y, 0], [0, 0, 1]])\n",
    "A = Matrix([[a11, a12, a13], [a21, a22, a23], [a31, a32, a33]])"
   ]
  },
  {
   "cell_type": "code",
   "execution_count": 2,
   "id": "d18a78a5",
   "metadata": {},
   "outputs": [
    {
     "data": {
      "text/latex": [
       "$\\displaystyle \\left[\\begin{matrix}a_{11} + a_{21} x & a_{12} + a_{22} x & a_{13} + a_{23} x\\\\a_{21} & a_{22} & a_{23}\\\\a_{31} & a_{32} & a_{33}\\end{matrix}\\right]$"
      ],
      "text/plain": [
       "Matrix([\n",
       "[a11 + a21*x, a12 + a22*x, a13 + a23*x],\n",
       "[        a21,         a22,         a23],\n",
       "[        a31,         a32,         a33]])"
      ]
     },
     "execution_count": 2,
     "metadata": {},
     "output_type": "execute_result"
    }
   ],
   "source": [
    "E1 * A"
   ]
  },
  {
   "cell_type": "code",
   "execution_count": 3,
   "id": "02bf1081",
   "metadata": {},
   "outputs": [
    {
     "data": {
      "text/latex": [
       "$\\displaystyle \\left[\\begin{matrix}a_{21} & a_{22} & a_{23}\\\\a_{11} & a_{12} & a_{13}\\\\a_{31} & a_{32} & a_{33}\\end{matrix}\\right]$"
      ],
      "text/plain": [
       "Matrix([\n",
       "[a21, a22, a23],\n",
       "[a11, a12, a13],\n",
       "[a31, a32, a33]])"
      ]
     },
     "execution_count": 3,
     "metadata": {},
     "output_type": "execute_result"
    }
   ],
   "source": [
    "E2 * A"
   ]
  },
  {
   "cell_type": "code",
   "execution_count": 4,
   "id": "27219321",
   "metadata": {},
   "outputs": [
    {
     "data": {
      "text/latex": [
       "$\\displaystyle \\left[\\begin{matrix}a_{11} & a_{12} & a_{13}\\\\a_{21} y & a_{22} y & a_{23} y\\\\a_{31} & a_{32} & a_{33}\\end{matrix}\\right]$"
      ],
      "text/plain": [
       "Matrix([\n",
       "[  a11,   a12,   a13],\n",
       "[a21*y, a22*y, a23*y],\n",
       "[  a31,   a32,   a33]])"
      ]
     },
     "execution_count": 4,
     "metadata": {},
     "output_type": "execute_result"
    }
   ],
   "source": [
    "E3 * A"
   ]
  },
  {
   "cell_type": "code",
   "execution_count": 5,
   "id": "c0ede857",
   "metadata": {},
   "outputs": [
    {
     "data": {
      "text/latex": [
       "$\\displaystyle \\left[\\begin{matrix}a_{11} & a_{11} x + a_{12} & a_{13}\\\\a_{21} & a_{21} x + a_{22} & a_{23}\\\\a_{31} & a_{31} x + a_{32} & a_{33}\\end{matrix}\\right]$"
      ],
      "text/plain": [
       "Matrix([\n",
       "[a11, a11*x + a12, a13],\n",
       "[a21, a21*x + a22, a23],\n",
       "[a31, a31*x + a32, a33]])"
      ]
     },
     "execution_count": 5,
     "metadata": {},
     "output_type": "execute_result"
    }
   ],
   "source": [
    "A * E1"
   ]
  },
  {
   "cell_type": "code",
   "execution_count": 6,
   "id": "72566a15",
   "metadata": {},
   "outputs": [
    {
     "data": {
      "text/latex": [
       "$\\displaystyle \\left[\\begin{matrix}a_{12} & a_{11} & a_{13}\\\\a_{22} & a_{21} & a_{23}\\\\a_{32} & a_{31} & a_{33}\\end{matrix}\\right]$"
      ],
      "text/plain": [
       "Matrix([\n",
       "[a12, a11, a13],\n",
       "[a22, a21, a23],\n",
       "[a32, a31, a33]])"
      ]
     },
     "execution_count": 6,
     "metadata": {},
     "output_type": "execute_result"
    }
   ],
   "source": [
    "A * E2"
   ]
  },
  {
   "cell_type": "code",
   "execution_count": 7,
   "id": "f603aa24",
   "metadata": {},
   "outputs": [
    {
     "data": {
      "text/latex": [
       "$\\displaystyle \\left[\\begin{matrix}a_{11} & a_{12} y & a_{13}\\\\a_{21} & a_{22} y & a_{23}\\\\a_{31} & a_{32} y & a_{33}\\end{matrix}\\right]$"
      ],
      "text/plain": [
       "Matrix([\n",
       "[a11, a12*y, a13],\n",
       "[a21, a22*y, a23],\n",
       "[a31, a32*y, a33]])"
      ]
     },
     "execution_count": 7,
     "metadata": {},
     "output_type": "execute_result"
    }
   ],
   "source": [
    "A * E3"
   ]
  },
  {
   "cell_type": "code",
   "execution_count": 8,
   "id": "d9f20124",
   "metadata": {},
   "outputs": [
    {
     "data": {
      "text/latex": [
       "$\\displaystyle \\left[\\begin{matrix}a_{11} & a_{12} & a_{13}\\\\a_{21} x & a_{22} x & a_{23} x\\\\a_{31} & a_{32} & a_{33}\\end{matrix}\\right]$"
      ],
      "text/plain": [
       "Matrix([\n",
       "[  a11,   a12,   a13],\n",
       "[a21*x, a22*x, a23*x],\n",
       "[  a31,   a32,   a33]])"
      ]
     },
     "execution_count": 8,
     "metadata": {},
     "output_type": "execute_result"
    }
   ],
   "source": [
    "B = A.copy(); B[1,:] *= x; B"
   ]
  },
  {
   "cell_type": "code",
   "execution_count": 9,
   "id": "83d6a920",
   "metadata": {},
   "outputs": [
    {
     "data": {
      "text/latex": [
       "$\\displaystyle \\left[\\begin{matrix}a_{11} & a_{12} & a_{13} x\\\\a_{21} & a_{22} & a_{23} x\\\\a_{31} & a_{32} & a_{33} x\\end{matrix}\\right]$"
      ],
      "text/plain": [
       "Matrix([\n",
       "[a11, a12, a13*x],\n",
       "[a21, a22, a23*x],\n",
       "[a31, a32, a33*x]])"
      ]
     },
     "execution_count": 9,
     "metadata": {},
     "output_type": "execute_result"
    }
   ],
   "source": [
    "B = A.copy(); B[:,2] *= x; B"
   ]
  },
  {
   "cell_type": "code",
   "execution_count": 10,
   "id": "95b1f600",
   "metadata": {},
   "outputs": [
    {
     "data": {
      "text/latex": [
       "$\\displaystyle \\left[\\begin{matrix}a_{21} & a_{22} & a_{23}\\\\a_{11} & a_{12} & a_{13}\\\\a_{31} & a_{32} & a_{33}\\end{matrix}\\right]$"
      ],
      "text/plain": [
       "Matrix([\n",
       "[a21, a22, a23],\n",
       "[a11, a12, a13],\n",
       "[a31, a32, a33]])"
      ]
     },
     "execution_count": 10,
     "metadata": {},
     "output_type": "execute_result"
    }
   ],
   "source": [
    "B = A.copy(); B[0,:], B[1,:] = B[1,:], B[0,:]; B"
   ]
  },
  {
   "cell_type": "code",
   "execution_count": 11,
   "id": "ad7fc12d",
   "metadata": {},
   "outputs": [
    {
     "data": {
      "text/latex": [
       "$\\displaystyle \\left[\\begin{matrix}a_{11} & a_{13} & a_{12}\\\\a_{21} & a_{23} & a_{22}\\\\a_{31} & a_{33} & a_{32}\\end{matrix}\\right]$"
      ],
      "text/plain": [
       "Matrix([\n",
       "[a11, a13, a12],\n",
       "[a21, a23, a22],\n",
       "[a31, a33, a32]])"
      ]
     },
     "execution_count": 11,
     "metadata": {},
     "output_type": "execute_result"
    }
   ],
   "source": [
    "B = A.copy(); B[:,1], B[:,2] = B[:,2], B[:,1]; B"
   ]
  },
  {
   "cell_type": "code",
   "execution_count": 12,
   "id": "edace31b",
   "metadata": {},
   "outputs": [
    {
     "data": {
      "text/latex": [
       "$\\displaystyle \\left[\\begin{matrix}a_{11} + a_{21} y & a_{12} + a_{22} y & a_{13} + a_{23} y\\\\a_{21} & a_{22} & a_{23}\\\\a_{31} & a_{32} & a_{33}\\end{matrix}\\right]$"
      ],
      "text/plain": [
       "Matrix([\n",
       "[a11 + a21*y, a12 + a22*y, a13 + a23*y],\n",
       "[        a21,         a22,         a23],\n",
       "[        a31,         a32,         a33]])"
      ]
     },
     "execution_count": 12,
     "metadata": {},
     "output_type": "execute_result"
    }
   ],
   "source": [
    "B = A.copy(); B[0,:] += y * B[1,:]; B"
   ]
  },
  {
   "cell_type": "code",
   "execution_count": 13,
   "id": "7b50e4eb",
   "metadata": {},
   "outputs": [
    {
     "data": {
      "text/latex": [
       "$\\displaystyle \\left[\\begin{matrix}a_{11} & a_{12} + a_{13} y & a_{13}\\\\a_{21} & a_{22} + a_{23} y & a_{23}\\\\a_{31} & a_{32} + a_{33} y & a_{33}\\end{matrix}\\right]$"
      ],
      "text/plain": [
       "Matrix([\n",
       "[a11, a12 + a13*y, a13],\n",
       "[a21, a22 + a23*y, a23],\n",
       "[a31, a32 + a33*y, a33]])"
      ]
     },
     "execution_count": 13,
     "metadata": {},
     "output_type": "execute_result"
    }
   ],
   "source": [
    "B = A.copy(); B[:,1] += y * B[:,2]; B"
   ]
  },
  {
   "cell_type": "markdown",
   "id": "ffd63965",
   "metadata": {},
   "source": [
    "---\n",
    "[Untitled.ipynb](./5.1/Untitled.ipynb)"
   ]
  },
  {
   "cell_type": "code",
   "execution_count": 1,
   "id": "001f505d",
   "metadata": {},
   "outputs": [
    {
     "data": {
      "text/plain": [
       "array([[4, 5, 6],\n",
       "       [1, 2, 3],\n",
       "       [7, 8, 9]])"
      ]
     },
     "execution_count": 1,
     "metadata": {},
     "output_type": "execute_result"
    }
   ],
   "source": [
    "from numpy import array\n",
    "A = array([[1, 2, 3], [4, 5, 6], [7, 8, 9]])\n",
    "B = A.copy(); B[[0, 1], :] = B[[1, 0], :]; B"
   ]
  },
  {
   "cell_type": "code",
   "execution_count": 2,
   "id": "3c2826b7",
   "metadata": {},
   "outputs": [
    {
     "data": {
      "text/plain": [
       "array([[1, 3, 2],\n",
       "       [4, 6, 5],\n",
       "       [7, 9, 8]])"
      ]
     },
     "execution_count": 2,
     "metadata": {},
     "output_type": "execute_result"
    }
   ],
   "source": [
    "B = A.copy(); B[:, [1, 2]] = B[:, [2, 1]]; B"
   ]
  },
  {
   "cell_type": "markdown",
   "id": "d76907bb",
   "metadata": {},
   "source": [
    "## 5.2. Rank\n",
    "\n",
    "[Untitled.ipynb](./5.2/Untitled.ipynb)"
   ]
  },
  {
   "cell_type": "code",
   "execution_count": 1,
   "id": "c2fc0981",
   "metadata": {},
   "outputs": [
    {
     "data": {
      "text/plain": [
       "2"
      ]
     },
     "execution_count": 1,
     "metadata": {},
     "output_type": "execute_result"
    }
   ],
   "source": [
    "from numpy import *\n",
    "A = array([[1, 2, 3], [2, 3, 4], [3, 4, 5]])\n",
    "linalg.matrix_rank(A)"
   ]
  },
  {
   "cell_type": "markdown",
   "id": "af136cb3",
   "metadata": {},
   "source": [
    "---\n",
    "[prob_rank.ipynb](./5.2/prob_rank.ipynb)"
   ]
  },
  {
   "cell_type": "code",
   "execution_count": 1,
   "id": "a37cb708",
   "metadata": {},
   "outputs": [
    {
     "name": "stdout",
     "output_type": "stream",
     "text": [
      "Matrix([[-3, 3, 2, 1], [3, 3, 3, -3], [2, -2, 3, -2]])\n",
      "Matrix([[5, -2, 1, -14], [-5, 2, -9, 4], [-4, 1, -3, 11]])\n",
      "Matrix([[3, -1, -2, 2], [-7, 4, 7, -3], [1, 3, 4, 4]])\n",
      "Matrix([[-2, -1, 3, 1], [4, 2, -6, -2], [4, 2, -6, -2]])\n"
     ]
    }
   ],
   "source": [
    "from numpy.random import seed, choice, permutation\n",
    "from sympy import Matrix\n",
    "\n",
    "def f(P, m1, m2, n):\n",
    "    if n > min(m1, m2):\n",
    "        return Matrix(choice(P, (m1, m2)))\n",
    "    else:\n",
    "        while True:\n",
    "            X, Y = choice(P, (m1, n)), choice(P, (n, m2))\n",
    "            A = Matrix(X.dot(Y))\n",
    "            if A.rank() == n:\n",
    "                return A\n",
    "\n",
    "m1, m2 = 3, 4\n",
    "seed(2021)\n",
    "for i in permutation(max(m1, m2)):\n",
    "    print(f([-3, -2, -1, 1, 2, 3], m1, m2, i+1))"
   ]
  },
  {
   "cell_type": "markdown",
   "id": "c23b173b",
   "metadata": {},
   "source": [
    "## 5.3. Determinant\n",
    "\n",
    "\n",
    "**Program:** [determinant.ipynb](./5.3/determinant.ipynb)"
   ]
  },
  {
   "cell_type": "code",
   "execution_count": 1,
   "id": "bbf9c986",
   "metadata": {},
   "outputs": [
    {
     "name": "stdout",
     "output_type": "stream",
     "text": [
      "-1 0 0 -18\n"
     ]
    }
   ],
   "source": [
    "from functools import reduce\n",
    "\n",
    "def P(n):\n",
    "    if n == 1:\n",
    "        return [([0], 1)]\n",
    "    else:\n",
    "        Q = []\n",
    "        for p, s in P(n-1):\n",
    "            Q.append((p + [n-1], s))\n",
    "            for i in range(n-1):\n",
    "                q = p + [n-1]\n",
    "                q[i], q[-1] = q[-1], q[i]\n",
    "                Q.append((q, -1*s))\n",
    "        return Q\n",
    "\n",
    "def prod(L): return reduce(lambda x, y: x*y, L)\n",
    "\n",
    "def det(A):\n",
    "    n = len(A)\n",
    "    a = sum([s * prod([A[i][p[i]] for i in range(n)])\n",
    "             for p, s in P(n)])\n",
    "    return a\n",
    "\n",
    "if __name__ == '__main__':\n",
    "    A = [[1, 2], [2, 3]]\n",
    "    B = [[1, 2], [2, 4]]\n",
    "    C = [[1, 2, 3], [2, 3, 4], [3, 4, 5]]\n",
    "    D = [[1, 2, 3], [2, 3, 1], [3, 1, 2]]\n",
    "    print(det(A), det(B), det(C), det(D))"
   ]
  },
  {
   "cell_type": "markdown",
   "id": "b9d6081b",
   "metadata": {},
   "source": [
    "---\n",
    "[Untitled.ipynb](./5.3/Untitled.ipynb)"
   ]
  },
  {
   "cell_type": "code",
   "execution_count": 1,
   "id": "f3053ea6",
   "metadata": {},
   "outputs": [
    {
     "data": {
      "text/plain": [
       "(-1.0, 0.0, -7.401486830834414e-17, -18.000000000000004)"
      ]
     },
     "execution_count": 1,
     "metadata": {},
     "output_type": "execute_result"
    }
   ],
   "source": [
    "from numpy.linalg import det\n",
    "A = [[1, 2], [2, 3]]\n",
    "B = [[1, 2], [2, 4]]\n",
    "C = [[1, 2, 3], [2, 3, 4], [3, 4, 5]]\n",
    "D = [[1, 2, 3], [2, 3, 1], [3, 1, 2]]\n",
    "det(A), det(B), det(C), det(D)"
   ]
  },
  {
   "cell_type": "markdown",
   "id": "56a62ca6",
   "metadata": {},
   "source": [
    "---\n",
    "\n",
    "**Program:** [error.ipynb](./5.3/error.ipynb)"
   ]
  },
  {
   "cell_type": "code",
   "execution_count": 1,
   "id": "693eab83",
   "metadata": {},
   "outputs": [
    {
     "name": "stdout",
     "output_type": "stream",
     "text": [
      "shape = (20, 20)\n",
      "det = 23.147833157995517\n",
      "rank = 19\n"
     ]
    }
   ],
   "source": [
    "from numpy.linalg import det, matrix_rank\n",
    "from numpy.random import seed, normal\n",
    "\n",
    "seed(123)\n",
    "n = 20\n",
    "F =normal(0, 1, (n, n-1))\n",
    "G = F.dot(F.T)\n",
    "print(f'shape = {G.shape}')\n",
    "print(f'det = {det(G)}')\n",
    "print(f'rank = {matrix_rank(G)}')"
   ]
  },
  {
   "cell_type": "markdown",
   "id": "65eda215",
   "metadata": {},
   "source": [
    "---\n",
    "[Untitled1.ipynb](./5.3/Untitled1.ipynb)"
   ]
  },
  {
   "cell_type": "code",
   "execution_count": 1,
   "id": "d5618ab2",
   "metadata": {},
   "outputs": [
    {
     "data": {
      "text/plain": [
       "(-1, 0, 0, -18)"
      ]
     },
     "execution_count": 1,
     "metadata": {},
     "output_type": "execute_result"
    }
   ],
   "source": [
    "from sympy import Matrix, symbols\n",
    "A = Matrix([[1, 2], [2, 3]])\n",
    "B = Matrix([[1, 2], [2, 4]])\n",
    "C = Matrix([[1, 2, 3], [2, 3, 4], [3, 4, 5]])\n",
    "D = Matrix([[1, 2, 3], [2, 3, 1], [3, 1, 2]])\n",
    "A.det(), B.det(), C.det(), D.det()"
   ]
  },
  {
   "cell_type": "code",
   "execution_count": 2,
   "id": "d17e438c",
   "metadata": {},
   "outputs": [
    {
     "data": {
      "text/latex": [
       "$\\displaystyle a_{11} a_{22} - a_{12} a_{21}$"
      ],
      "text/plain": [
       "a11*a22 - a12*a21"
      ]
     },
     "execution_count": 2,
     "metadata": {},
     "output_type": "execute_result"
    }
   ],
   "source": [
    "a11, a12, a13 = symbols('a11, a12, a13')\n",
    "a21, a22, a23 = symbols('a21, a22, a23')\n",
    "a31, a32, a33 = symbols('a31, a32, a33')\n",
    "E = Matrix([[a11,a12], [a21,a22]])\n",
    "F = Matrix([[a11,a12,a13], [a21,a22,a23], [a31,a32,a33]])\n",
    "E.det()"
   ]
  },
  {
   "cell_type": "code",
   "execution_count": 3,
   "id": "c5cc28cd",
   "metadata": {},
   "outputs": [
    {
     "data": {
      "text/latex": [
       "$\\displaystyle a_{11} a_{22} a_{33} - a_{11} a_{23} a_{32} - a_{12} a_{21} a_{33} + a_{12} a_{23} a_{31} + a_{13} a_{21} a_{32} - a_{13} a_{22} a_{31}$"
      ],
      "text/plain": [
       "a11*a22*a33 - a11*a23*a32 - a12*a21*a33 + a12*a23*a31 + a13*a21*a32 - a13*a22*a31"
      ]
     },
     "execution_count": 3,
     "metadata": {},
     "output_type": "execute_result"
    }
   ],
   "source": [
    "F.det()"
   ]
  },
  {
   "cell_type": "markdown",
   "id": "ee3d0cfb",
   "metadata": {},
   "source": [
    "---\n",
    "**Program:** [prob_det.ipynb](./5.3/prob_det.ipynb)"
   ]
  },
  {
   "cell_type": "code",
   "execution_count": 1,
   "id": "70eab392",
   "metadata": {},
   "outputs": [
    {
     "name": "stdout",
     "output_type": "stream",
     "text": [
      "Matrix([[3, -2, -3], [3, 2, 1], [3, 3, 3]])\n",
      "Matrix([[1, -2, 1], [-2, -2, 1], [1, -2, 1]])\n"
     ]
    }
   ],
   "source": [
    "from numpy.random import seed, choice, permutation\n",
    "from sympy import Matrix\n",
    "\n",
    "def f(P, m, p):\n",
    "    while True:\n",
    "        A = Matrix(choice(P, (m, m)))\n",
    "        if p == 0:\n",
    "            if A.det() == 0:\n",
    "                return A\n",
    "        elif A.det() != 0:\n",
    "            return A\n",
    "\n",
    "m = 3\n",
    "seed(2021)\n",
    "for p in permutation(2):\n",
    "    print(f([-3, -2, -1, 1, 2, 3], m, p))"
   ]
  },
  {
   "cell_type": "markdown",
   "id": "873aab2d",
   "metadata": {},
   "source": [
    "## 5.4. Trace\n",
    "\n",
    "Empty\n"
   ]
  },
  {
   "cell_type": "markdown",
   "id": "3d9f4bd8",
   "metadata": {},
   "source": [
    "## 5.5. Systems of linear equations\n",
    "\n",
    "[Untitled.ipynb](./5.5/Untitled.ipynb)"
   ]
  },
  {
   "cell_type": "code",
   "execution_count": 1,
   "id": "099d93e1",
   "metadata": {},
   "outputs": [
    {
     "data": {
      "text/plain": [
       "array([3.5, 0.5, 0.5])"
      ]
     },
     "execution_count": 1,
     "metadata": {},
     "output_type": "execute_result"
    }
   ],
   "source": [
    "from numpy.linalg import solve\n",
    "solve([[1,2,3],[2,3,1],[3,1,2]],[6,9,12])"
   ]
  },
  {
   "cell_type": "markdown",
   "id": "1e16b26e",
   "metadata": {},
   "source": [
    "---\n",
    "**Program:** [prob_eqn.ipynb](./5.5/prob_eqn.ipynb)"
   ]
  },
  {
   "cell_type": "code",
   "execution_count": 1,
   "id": "3d1b9173",
   "metadata": {},
   "outputs": [
    {
     "name": "stdout",
     "output_type": "stream",
     "text": [
      "\\left[\\begin{matrix}3 & 2 & 3\\\\8 & 6 & 2\\\\7 & 5 & 4\\end{matrix}\\right]\\left[\\begin{matrix}x\\\\y\\\\z\\end{matrix}\\right]=\\left[\\begin{matrix}7\\\\2\\\\8\\end{matrix}\\right]\n",
      "{x: 19 - 7*z, y: 9*z - 25}\n"
     ]
    }
   ],
   "source": [
    "from numpy.random import seed, choice, shuffle\n",
    "from sympy import Matrix, latex, solve, zeros\n",
    "from sympy.abc import x, y, z\n",
    "\n",
    "def f(P, m, n):\n",
    "    while True:\n",
    "        A = Matrix(choice(P, (3, 4)))\n",
    "        if A[:, :3].rank() == m and A.rank() == n:\n",
    "            break\n",
    "    A, b = A[:, :3], A[:, 3]\n",
    "    u = Matrix([[x], [y], [z]])\n",
    "    print(f'{latex(A)}{latex(u)}={latex(b)}')\n",
    "    print(solve(A*u - b, [x, y, z]))\n",
    "\n",
    "seed(1234)\n",
    "m, n = 2, 2\n",
    "f(range(2, 10), m, n)"
   ]
  },
  {
   "cell_type": "markdown",
   "id": "1e19b5a8",
   "metadata": {},
   "source": [
    "$\\left[\\begin{matrix}3 & 2 & 3\\\\8 & 6 & 2\\\\7 & 5 & 4\\end{matrix}\\right]\\left[\\begin{matrix}x\\\\y\\\\z\\end{matrix}\\right]=\\left[\\begin{matrix}7\\\\2\\\\8\\end{matrix}\\right]$"
   ]
  },
  {
   "cell_type": "markdown",
   "id": "0de37f7c",
   "metadata": {},
   "source": [
    "## 5.6. The inverse matrix\n",
    "\n",
    "[Untitled.ipynb](./5.6/Untitled.ipynb)"
   ]
  },
  {
   "cell_type": "code",
   "execution_count": 1,
   "id": "04c9bcbe",
   "metadata": {},
   "outputs": [],
   "source": [
    "from sympy import Matrix\n",
    "A = Matrix([[1, 2, 3, 1, 0, 0],\n",
    "            [2, 3, 1, 0, 1, 0],\n",
    "            [3, 1, 2, 0, 0, 1]])"
   ]
  },
  {
   "cell_type": "code",
   "execution_count": 2,
   "id": "8d866bfd",
   "metadata": {},
   "outputs": [
    {
     "data": {
      "text/latex": [
       "$\\displaystyle \\left[\\begin{matrix}1 & 2 & 3 & 1 & 0 & 0\\\\0 & -1 & -5 & -2 & 1 & 0\\\\0 & -5 & -7 & -3 & 0 & 1\\end{matrix}\\right]$"
      ],
      "text/plain": [
       "Matrix([\n",
       "[1,  2,  3,  1, 0, 0],\n",
       "[0, -1, -5, -2, 1, 0],\n",
       "[0, -5, -7, -3, 0, 1]])"
      ]
     },
     "execution_count": 2,
     "metadata": {},
     "output_type": "execute_result"
    }
   ],
   "source": [
    "A[1, :] -= A[0, :] * 2; A[2, :] -= A[0, :] * 3; A"
   ]
  },
  {
   "cell_type": "code",
   "execution_count": 3,
   "id": "75efce74",
   "metadata": {},
   "outputs": [
    {
     "data": {
      "text/latex": [
       "$\\displaystyle \\left[\\begin{matrix}1 & 2 & 3 & 1 & 0 & 0\\\\0 & 1 & 5 & 2 & -1 & 0\\\\0 & -5 & -7 & -3 & 0 & 1\\end{matrix}\\right]$"
      ],
      "text/plain": [
       "Matrix([\n",
       "[1,  2,  3,  1,  0, 0],\n",
       "[0,  1,  5,  2, -1, 0],\n",
       "[0, -5, -7, -3,  0, 1]])"
      ]
     },
     "execution_count": 3,
     "metadata": {},
     "output_type": "execute_result"
    }
   ],
   "source": [
    "A[1, :] /= -1; A"
   ]
  },
  {
   "cell_type": "code",
   "execution_count": 4,
   "id": "4ae9e1af",
   "metadata": {},
   "outputs": [
    {
     "data": {
      "text/latex": [
       "$\\displaystyle \\left[\\begin{matrix}1 & 0 & -7 & -3 & 2 & 0\\\\0 & 1 & 5 & 2 & -1 & 0\\\\0 & 0 & 18 & 7 & -5 & 1\\end{matrix}\\right]$"
      ],
      "text/plain": [
       "Matrix([\n",
       "[1, 0, -7, -3,  2, 0],\n",
       "[0, 1,  5,  2, -1, 0],\n",
       "[0, 0, 18,  7, -5, 1]])"
      ]
     },
     "execution_count": 4,
     "metadata": {},
     "output_type": "execute_result"
    }
   ],
   "source": [
    "A[0, :] -= A[1, :] * 2; A[2, :] += A[1, :] * 5; A"
   ]
  },
  {
   "cell_type": "code",
   "execution_count": 5,
   "id": "cd5f5e96",
   "metadata": {},
   "outputs": [
    {
     "data": {
      "text/latex": [
       "$\\displaystyle \\left[\\begin{matrix}1 & 0 & -7 & -3 & 2 & 0\\\\0 & 1 & 5 & 2 & -1 & 0\\\\0 & 0 & 1 & \\frac{7}{18} & - \\frac{5}{18} & \\frac{1}{18}\\end{matrix}\\right]$"
      ],
      "text/plain": [
       "Matrix([\n",
       "[1, 0, -7,   -3,     2,    0],\n",
       "[0, 1,  5,    2,    -1,    0],\n",
       "[0, 0,  1, 7/18, -5/18, 1/18]])"
      ]
     },
     "execution_count": 5,
     "metadata": {},
     "output_type": "execute_result"
    }
   ],
   "source": [
    "A[2, :] /= 18; A"
   ]
  },
  {
   "cell_type": "code",
   "execution_count": 6,
   "id": "02621876",
   "metadata": {},
   "outputs": [
    {
     "data": {
      "text/latex": [
       "$\\displaystyle \\left[\\begin{matrix}1 & 0 & 0 & - \\frac{5}{18} & \\frac{1}{18} & \\frac{7}{18}\\\\0 & 1 & 0 & \\frac{1}{18} & \\frac{7}{18} & - \\frac{5}{18}\\\\0 & 0 & 1 & \\frac{7}{18} & - \\frac{5}{18} & \\frac{1}{18}\\end{matrix}\\right]$"
      ],
      "text/plain": [
       "Matrix([\n",
       "[1, 0, 0, -5/18,  1/18,  7/18],\n",
       "[0, 1, 0,  1/18,  7/18, -5/18],\n",
       "[0, 0, 1,  7/18, -5/18,  1/18]])"
      ]
     },
     "execution_count": 6,
     "metadata": {},
     "output_type": "execute_result"
    }
   ],
   "source": [
    "A[0, :] += A[2, :] * 7; A[1, :] -= A[2, :] * 5; A"
   ]
  },
  {
   "cell_type": "markdown",
   "id": "8d2fa916",
   "metadata": {},
   "source": [
    "---\n",
    "**Program:** [inv.ipynb](./5.6/inv.ipynb)"
   ]
  },
  {
   "cell_type": "code",
   "execution_count": 1,
   "id": "f2b88843",
   "metadata": {},
   "outputs": [
    {
     "name": "stdout",
     "output_type": "stream",
     "text": [
      "[[ 1.00000000e+00  4.44089210e-16  7.49400542e-16 -1.83880688e-16\n",
      "   4.85722573e-17]\n",
      " [-3.88578059e-16  1.00000000e+00 -5.55111512e-16 -4.30211422e-16\n",
      "  -1.11022302e-16]\n",
      " [-2.56739074e-16  6.66133815e-16  1.00000000e+00 -2.08166817e-16\n",
      "  -2.77555756e-17]\n",
      " [-4.99600361e-16  1.11022302e-15  7.49400542e-16  1.00000000e+00\n",
      "  -1.73472348e-16]\n",
      " [-4.44089210e-16  7.77156117e-16  4.44089210e-16 -6.24500451e-16\n",
      "   1.00000000e+00]]\n"
     ]
    }
   ],
   "source": [
    "from numpy import array, linalg, random\n",
    "\n",
    "n = 5\n",
    "A = random.randint(0, 10, (n, n))\n",
    "K = [[j for j in range(n) if j != i] for i in range(n)]\n",
    "B = array([[(-1) ** (i+j) * linalg.det(A[K[i], :][:, K[j]])\n",
    "            for i in range(n)] for j in range(n)])\n",
    "\n",
    "print(A.dot(B/linalg.det(A)))"
   ]
  },
  {
   "cell_type": "code",
   "execution_count": null,
   "id": "68f2cf6c",
   "metadata": {},
   "outputs": [],
   "source": []
  }
 ],
 "metadata": {
  "kernelspec": {
   "display_name": "Python 3 (ipykernel)",
   "language": "python",
   "name": "python3"
  },
  "language_info": {
   "codemirror_mode": {
    "name": "ipython",
    "version": 3
   },
   "file_extension": ".py",
   "mimetype": "text/x-python",
   "name": "python",
   "nbconvert_exporter": "python",
   "pygments_lexer": "ipython3",
   "version": "3.10.7"
  }
 },
 "nbformat": 4,
 "nbformat_minor": 5
}
