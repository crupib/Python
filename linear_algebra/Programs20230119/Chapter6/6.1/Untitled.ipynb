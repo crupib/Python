{
 "cells": [
  {
   "cell_type": "code",
   "execution_count": 1,
   "id": "aa54378a",
   "metadata": {},
   "outputs": [
    {
     "data": {
      "text/plain": [
       "(array([1.+2.j, 3.+4.j]), array([4.+3.j, 2.+1.j]))"
      ]
     },
     "execution_count": 1,
     "metadata": {},
     "output_type": "execute_result"
    }
   ],
   "source": [
    "from numpy import array, dot, inner, conj, vdot\n",
    "x, y = array([1+2j, 3+4j]), array([4+3j, 2+1j]); x, y"
   ]
  },
  {
   "cell_type": "code",
   "execution_count": 2,
   "id": "54836b38",
   "metadata": {},
   "outputs": [
    {
     "data": {
      "text/plain": [
       "((20-10j), (20-10j), (20-10j))"
      ]
     },
     "execution_count": 2,
     "metadata": {},
     "output_type": "execute_result"
    }
   ],
   "source": [
    "conj(x).dot(y), dot(x.conj(), y), inner(conj(x), y)"
   ]
  },
  {
   "cell_type": "code",
   "execution_count": 3,
   "id": "fd0bbecf",
   "metadata": {},
   "outputs": [
    {
     "data": {
      "text/plain": [
       "((20-10j), (-10-20j), (10+20j))"
      ]
     },
     "execution_count": 3,
     "metadata": {},
     "output_type": "execute_result"
    }
   ],
   "source": [
    "vdot(x, y), vdot(1j*x, y), vdot(x, 1j*y)"
   ]
  },
  {
   "cell_type": "code",
   "execution_count": 4,
   "id": "f894499c",
   "metadata": {},
   "outputs": [
    {
     "data": {
      "text/plain": [
       "(5.477225575051661, 5.477225575051661)"
      ]
     },
     "execution_count": 4,
     "metadata": {},
     "output_type": "execute_result"
    }
   ],
   "source": [
    "from numpy.linalg import norm\n",
    "norm(x), norm(y)"
   ]
  },
  {
   "cell_type": "code",
   "execution_count": 5,
   "id": "9b493c89",
   "metadata": {},
   "outputs": [
    {
     "data": {
      "text/plain": [
       "6.0"
      ]
     },
     "execution_count": 5,
     "metadata": {},
     "output_type": "execute_result"
    }
   ],
   "source": [
    "norm([1, 2, 3], ord=1)"
   ]
  },
  {
   "cell_type": "code",
   "execution_count": 6,
   "id": "e0108ea2",
   "metadata": {},
   "outputs": [
    {
     "data": {
      "text/plain": [
       "3.7416573867739413"
      ]
     },
     "execution_count": 6,
     "metadata": {},
     "output_type": "execute_result"
    }
   ],
   "source": [
    "norm([1, 2, 3], ord=2)"
   ]
  },
  {
   "cell_type": "code",
   "execution_count": 7,
   "id": "2e9a88b6",
   "metadata": {},
   "outputs": [
    {
     "data": {
      "text/plain": [
       "3.0"
      ]
     },
     "execution_count": 7,
     "metadata": {},
     "output_type": "execute_result"
    }
   ],
   "source": [
    "from numpy import inf\n",
    "norm([1, 2, 3], ord=inf)"
   ]
  },
  {
   "cell_type": "code",
   "execution_count": null,
   "id": "801e469e",
   "metadata": {},
   "outputs": [],
   "source": []
  }
 ],
 "metadata": {
  "kernelspec": {
   "display_name": "Python 3 (ipykernel)",
   "language": "python",
   "name": "python3"
  },
  "language_info": {
   "codemirror_mode": {
    "name": "ipython",
    "version": 3
   },
   "file_extension": ".py",
   "mimetype": "text/x-python",
   "name": "python",
   "nbconvert_exporter": "python",
   "pygments_lexer": "ipython3",
   "version": "3.10.7"
  }
 },
 "nbformat": 4,
 "nbformat_minor": 5
}
