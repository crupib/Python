{
 "cells": [
  {
   "cell_type": "code",
   "execution_count": 1,
   "id": "b74f06df",
   "metadata": {},
   "outputs": [],
   "source": [
    "from sympy import *\n",
    "from numpy.random import seed, permutation\n",
    "from functools import reduce\n",
    "\n",
    "A = diag(1, 2, 2, 2, 2, 3, 3, 3, 3, 3)\n",
    "A[1, 2] = A[3, 4] = A[5, 6] = A[7, 8] = A[8, 9] = 1\n",
    "\n",
    "seed(123)\n",
    "for n in range(10):\n",
    "    P = permutation(10)\n",
    "    for i, j in [(P[2 * k], P[2 * k + 1]) for k in range(5)]:\n",
    "        A[:, j] += A[:, i]\n",
    "        A[i, :] -= A[j, :]\n",
    "\n",
    "B = Lambda(S('lmd'), A - S('lmd') * eye(10))\n",
    "x = Matrix(var('x0, x1, x2, x3, x4, x5, x6, x7, x8, x9'))\n",
    "y = Matrix(var('y0, y1, y2, y3, y4, y5, y6, y7, y8, y9'))\n",
    "z = Matrix(var('z0, z1, z2, z3, z4, z5, z6, z7, z8, z9'))"
   ]
  },
  {
   "cell_type": "code",
   "execution_count": 2,
   "id": "78d51161",
   "metadata": {},
   "outputs": [
    {
     "data": {
      "text/latex": [
       "$\\displaystyle \\left[\\begin{matrix}35 & 28 & 24 & 6 & 26 & 16 & -6 & 14 & 26 & 42\\\\-5 & -8 & -9 & -24 & -21 & -2 & -5 & -3 & -5 & -17\\\\11 & 14 & 10 & 5 & 7 & 8 & 2 & 6 & 13 & 13\\\\5 & 2 & 4 & 2 & 5 & 1 & -3 & 1 & 2 & 7\\\\1 & 4 & 4 & 6 & 8 & 0 & -1 & 2 & 0 & 5\\\\19 & 11 & 14 & 19 & 25 & 13 & 6 & 7 & 16 & 31\\\\8 & 11 & 5 & 7 & 6 & 7 & 7 & 5 & 11 & 10\\\\6 & 16 & 14 & 40 & 34 & 2 & 8 & 7 & 6 & 26\\\\-27 & -19 & -16 & -6 & -19 & -16 & -2 & -11 & -22 & -33\\\\-20 & -21 & -19 & -11 & -22 & -9 & 5 & -10 & -15 & -28\\end{matrix}\\right]$"
      ],
      "text/plain": [
       "Matrix([\n",
       "[ 35,  28,  24,   6,  26,  16, -6,  14,  26,  42],\n",
       "[ -5,  -8,  -9, -24, -21,  -2, -5,  -3,  -5, -17],\n",
       "[ 11,  14,  10,   5,   7,   8,  2,   6,  13,  13],\n",
       "[  5,   2,   4,   2,   5,   1, -3,   1,   2,   7],\n",
       "[  1,   4,   4,   6,   8,   0, -1,   2,   0,   5],\n",
       "[ 19,  11,  14,  19,  25,  13,  6,   7,  16,  31],\n",
       "[  8,  11,   5,   7,   6,   7,  7,   5,  11,  10],\n",
       "[  6,  16,  14,  40,  34,   2,  8,   7,   6,  26],\n",
       "[-27, -19, -16,  -6, -19, -16, -2, -11, -22, -33],\n",
       "[-20, -21, -19, -11, -22,  -9,  5, -10, -15, -28]])"
      ]
     },
     "execution_count": 2,
     "metadata": {},
     "output_type": "execute_result"
    }
   ],
   "source": [
    "A"
   ]
  },
  {
   "cell_type": "code",
   "execution_count": 3,
   "id": "67b78d51",
   "metadata": {},
   "outputs": [
    {
     "data": {
      "text/latex": [
       "$\\displaystyle \\operatorname{PurePoly}{\\left( \\lambda^{10} - 24 \\lambda^{9} + 257 \\lambda^{8} - 1616 \\lambda^{7} + 6603 \\lambda^{6} - 18304 \\lambda^{5} + 34827 \\lambda^{4} - 44856 \\lambda^{3} + 37368 \\lambda^{2} - 18144 \\lambda + 3888, \\lambda, domain=\\mathbb{Z} \\right)}$"
      ],
      "text/plain": [
       "PurePoly(lambda**10 - 24*lambda**9 + 257*lambda**8 - 1616*lambda**7 + 6603*lambda**6 - 18304*lambda**5 + 34827*lambda**4 - 44856*lambda**3 + 37368*lambda**2 - 18144*lambda + 3888, lambda, domain='ZZ')"
      ]
     },
     "execution_count": 3,
     "metadata": {},
     "output_type": "execute_result"
    }
   ],
   "source": [
    "P = A.charpoly(); P"
   ]
  },
  {
   "cell_type": "code",
   "execution_count": 4,
   "id": "5945e454",
   "metadata": {},
   "outputs": [
    {
     "data": {
      "text/latex": [
       "$\\displaystyle \\left(\\lambda - 3\\right)^{5} \\left(\\lambda - 2\\right)^{4} \\left(\\lambda - 1\\right)$"
      ],
      "text/plain": [
       "(lambda - 3)**5*(lambda - 2)**4*(lambda - 1)"
      ]
     },
     "execution_count": 4,
     "metadata": {},
     "output_type": "execute_result"
    }
   ],
   "source": [
    "factor(P.expr)"
   ]
  },
  {
   "cell_type": "code",
   "execution_count": 5,
   "id": "8fb2527d",
   "metadata": {},
   "outputs": [
    {
     "data": {
      "text/latex": [
       "$\\displaystyle \\left[\\begin{matrix}- \\frac{x_{9}}{3}\\\\\\frac{5 x_{9}}{3}\\\\- x_{9}\\\\0\\\\- \\frac{x_{9}}{3}\\\\\\frac{8 x_{9}}{3}\\\\- \\frac{x_{9}}{3}\\\\- \\frac{8 x_{9}}{3}\\\\- 2 x_{9}\\\\x_{9}\\end{matrix}\\right]$"
      ],
      "text/plain": [
       "Matrix([\n",
       "[  -x9/3],\n",
       "[ 5*x9/3],\n",
       "[    -x9],\n",
       "[      0],\n",
       "[  -x9/3],\n",
       "[ 8*x9/3],\n",
       "[  -x9/3],\n",
       "[-8*x9/3],\n",
       "[  -2*x9],\n",
       "[     x9]])"
      ]
     },
     "execution_count": 5,
     "metadata": {},
     "output_type": "execute_result"
    }
   ],
   "source": [
    "a1 = x.subs(solve(B(1) * x)); a1"
   ]
  },
  {
   "cell_type": "code",
   "execution_count": 6,
   "id": "b916c12e",
   "metadata": {},
   "outputs": [
    {
     "data": {
      "text/latex": [
       "$\\displaystyle \\left[\\begin{matrix}- \\frac{x_{8}}{3} - x_{9}\\\\- \\frac{5 x_{8}}{12} + \\frac{x_{9}}{4}\\\\\\frac{17 x_{8}}{12} - \\frac{5 x_{9}}{4}\\\\- \\frac{3 x_{8}}{4} + \\frac{x_{9}}{4}\\\\\\frac{x_{8}}{12} - \\frac{x_{9}}{4}\\\\- \\frac{29 x_{8}}{12} + \\frac{5 x_{9}}{4}\\\\\\frac{4 x_{8}}{3} - x_{9}\\\\\\frac{5 x_{8}}{6} - \\frac{x_{9}}{2}\\\\x_{8}\\\\x_{9}\\end{matrix}\\right]$"
      ],
      "text/plain": [
       "Matrix([\n",
       "[        -x8/3 - x9],\n",
       "[   -5*x8/12 + x9/4],\n",
       "[ 17*x8/12 - 5*x9/4],\n",
       "[    -3*x8/4 + x9/4],\n",
       "[      x8/12 - x9/4],\n",
       "[-29*x8/12 + 5*x9/4],\n",
       "[       4*x8/3 - x9],\n",
       "[     5*x8/6 - x9/2],\n",
       "[                x8],\n",
       "[                x9]])"
      ]
     },
     "execution_count": 6,
     "metadata": {},
     "output_type": "execute_result"
    }
   ],
   "source": [
    "a2 = x.subs(solve(B(2) * x)); a2"
   ]
  },
  {
   "cell_type": "code",
   "execution_count": 7,
   "id": "9aa98a88",
   "metadata": {},
   "outputs": [
    {
     "data": {
      "text/latex": [
       "$\\displaystyle \\left[\\begin{matrix}2 y_{7} - 2 y_{8}\\\\\\frac{y_{6}}{6} + \\frac{y_{7}}{12} - \\frac{17 y_{8}}{24} + \\frac{11 y_{9}}{24}\\\\\\frac{5 y_{6}}{6} + \\frac{5 y_{7}}{12} - \\frac{y_{8}}{24} - \\frac{5 y_{9}}{24}\\\\- \\frac{y_{6}}{2} + \\frac{5 y_{7}}{4} - \\frac{9 y_{8}}{8} + \\frac{3 y_{9}}{8}\\\\- 2 y_{7} + \\frac{7 y_{8}}{4} - \\frac{5 y_{9}}{4}\\\\- y_{6} - \\frac{5 y_{7}}{2} + y_{8} - y_{9}\\\\y_{6}\\\\y_{7}\\\\y_{8}\\\\y_{9}\\end{matrix}\\right]$"
      ],
      "text/plain": [
       "Matrix([\n",
       "[                       2*y7 - 2*y8],\n",
       "[y6/6 + y7/12 - 17*y8/24 + 11*y9/24],\n",
       "[5*y6/6 + 5*y7/12 - y8/24 - 5*y9/24],\n",
       "[  -y6/2 + 5*y7/4 - 9*y8/8 + 3*y9/8],\n",
       "[           -2*y7 + 7*y8/4 - 5*y9/4],\n",
       "[            -y6 - 5*y7/2 + y8 - y9],\n",
       "[                                y6],\n",
       "[                                y7],\n",
       "[                                y8],\n",
       "[                                y9]])"
      ]
     },
     "execution_count": 7,
     "metadata": {},
     "output_type": "execute_result"
    }
   ],
   "source": [
    "b2 = y.subs(solve(B(2) * y - a2)); b2"
   ]
  },
  {
   "cell_type": "code",
   "execution_count": 8,
   "id": "aebc6e73",
   "metadata": {},
   "outputs": [
    {
     "data": {
      "text/latex": [
       "$\\displaystyle \\left[\\begin{matrix}- 2 x_{9}\\\\- \\frac{x_{8}}{3} + \\frac{x_{9}}{3}\\\\- \\frac{2 x_{8}}{3} + \\frac{5 x_{9}}{3}\\\\\\frac{x_{8}}{3} - \\frac{4 x_{9}}{3}\\\\0\\\\- x_{8}\\\\- \\frac{2 x_{8}}{3} + \\frac{5 x_{9}}{3}\\\\\\frac{2 x_{8}}{3} - \\frac{2 x_{9}}{3}\\\\x_{8}\\\\x_{9}\\end{matrix}\\right]$"
      ],
      "text/plain": [
       "Matrix([\n",
       "[           -2*x9],\n",
       "[    -x8/3 + x9/3],\n",
       "[-2*x8/3 + 5*x9/3],\n",
       "[   x8/3 - 4*x9/3],\n",
       "[               0],\n",
       "[             -x8],\n",
       "[-2*x8/3 + 5*x9/3],\n",
       "[ 2*x8/3 - 2*x9/3],\n",
       "[              x8],\n",
       "[              x9]])"
      ]
     },
     "execution_count": 8,
     "metadata": {},
     "output_type": "execute_result"
    }
   ],
   "source": [
    "a3 = x.subs(solve(B(3) * x)); a3"
   ]
  },
  {
   "cell_type": "code",
   "execution_count": 9,
   "id": "a7c24cd4",
   "metadata": {},
   "outputs": [
    {
     "data": {
      "text/latex": [
       "$\\displaystyle \\left[\\begin{matrix}- \\frac{y_{6}}{2} + y_{7} - y_{8} - \\frac{y_{9}}{2}\\\\- \\frac{y_{7}}{2}\\\\\\frac{7 y_{6}}{6} - \\frac{y_{7}}{3} + \\frac{y_{8}}{3} - \\frac{y_{9}}{2}\\\\- \\frac{2 y_{6}}{3} + \\frac{y_{7}}{3} - \\frac{y_{8}}{3}\\\\\\frac{y_{6}}{6} - \\frac{y_{7}}{3} + \\frac{y_{8}}{3} - \\frac{y_{9}}{2}\\\\- \\frac{y_{6}}{3} - \\frac{5 y_{7}}{6} - \\frac{2 y_{8}}{3}\\\\y_{6}\\\\y_{7}\\\\y_{8}\\\\y_{9}\\end{matrix}\\right]$"
      ],
      "text/plain": [
       "Matrix([\n",
       "[     -y6/2 + y7 - y8 - y9/2],\n",
       "[                      -y7/2],\n",
       "[7*y6/6 - y7/3 + y8/3 - y9/2],\n",
       "[      -2*y6/3 + y7/3 - y8/3],\n",
       "[  y6/6 - y7/3 + y8/3 - y9/2],\n",
       "[    -y6/3 - 5*y7/6 - 2*y8/3],\n",
       "[                         y6],\n",
       "[                         y7],\n",
       "[                         y8],\n",
       "[                         y9]])"
      ]
     },
     "execution_count": 9,
     "metadata": {},
     "output_type": "execute_result"
    }
   ],
   "source": [
    "b3 = y.subs(solve(B(3) * y - a3)); b3"
   ]
  },
  {
   "cell_type": "code",
   "execution_count": 10,
   "id": "b8948775",
   "metadata": {},
   "outputs": [
    {
     "data": {
      "text/latex": [
       "$\\displaystyle \\left[\\begin{matrix}- \\frac{15 z_{5}}{11} - \\frac{21 z_{6}}{22} - \\frac{3 z_{7}}{22} - \\frac{21 z_{8}}{11} - \\frac{z_{9}}{2}\\\\\\frac{3 z_{5}}{11} + \\frac{z_{6}}{11} - \\frac{3 z_{7}}{11} + \\frac{2 z_{8}}{11}\\\\- \\frac{z_{5}}{11} + \\frac{25 z_{6}}{22} - \\frac{9 z_{7}}{22} + \\frac{3 z_{8}}{11} - \\frac{z_{9}}{2}\\\\- \\frac{8 z_{5}}{11} - \\frac{10 z_{6}}{11} - \\frac{3 z_{7}}{11} - \\frac{9 z_{8}}{11}\\\\z_{5} + \\frac{z_{6}}{2} + \\frac{z_{7}}{2} + z_{8} - \\frac{z_{9}}{2}\\\\z_{5}\\\\z_{6}\\\\z_{7}\\\\z_{8}\\\\z_{9}\\end{matrix}\\right]$"
      ],
      "text/plain": [
       "Matrix([\n",
       "[-15*z5/11 - 21*z6/22 - 3*z7/22 - 21*z8/11 - z9/2],\n",
       "[             3*z5/11 + z6/11 - 3*z7/11 + 2*z8/11],\n",
       "[    -z5/11 + 25*z6/22 - 9*z7/22 + 3*z8/11 - z9/2],\n",
       "[         -8*z5/11 - 10*z6/11 - 3*z7/11 - 9*z8/11],\n",
       "[                    z5 + z6/2 + z7/2 + z8 - z9/2],\n",
       "[                                              z5],\n",
       "[                                              z6],\n",
       "[                                              z7],\n",
       "[                                              z8],\n",
       "[                                              z9]])"
      ]
     },
     "execution_count": 10,
     "metadata": {},
     "output_type": "execute_result"
    }
   ],
   "source": [
    "c3 = z.subs(solve(B(3) * z - b3)); c3"
   ]
  },
  {
   "cell_type": "code",
   "execution_count": 11,
   "id": "ca6f4757",
   "metadata": {},
   "outputs": [],
   "source": [
    "v0 = a1.subs({x9:1})"
   ]
  },
  {
   "cell_type": "code",
   "execution_count": 12,
   "id": "20932e85",
   "metadata": {},
   "outputs": [],
   "source": [
    "v1 = b2.subs({y6:1, y7:0, y8:0, y9:0})\n",
    "v2 = B(2) * v1"
   ]
  },
  {
   "cell_type": "code",
   "execution_count": 13,
   "id": "0fb48b4d",
   "metadata": {},
   "outputs": [],
   "source": [
    "v3 = b2.subs({y6:0, y7:1, y8:0, y9:0})\n",
    "v4 = B(2) * v3"
   ]
  },
  {
   "cell_type": "code",
   "execution_count": 14,
   "id": "aebf0c4f",
   "metadata": {},
   "outputs": [],
   "source": [
    "v5 = c3.subs({z5: 1, z6: 0, z7: 0, z8: 0,z9: 0})\n",
    "v6 = B(3) * v5\n",
    "v7 = B(3) * v6"
   ]
  },
  {
   "cell_type": "code",
   "execution_count": 15,
   "id": "387944db",
   "metadata": {},
   "outputs": [],
   "source": [
    "v8 = b3.subs({y6: 1, y7: 0, y8: 0, y9: 0})\n",
    "v9 = B(3) * v8"
   ]
  },
  {
   "cell_type": "code",
   "execution_count": 16,
   "id": "d1ff6b2b",
   "metadata": {},
   "outputs": [
    {
     "data": {
      "text/latex": [
       "$\\displaystyle \\left[\\begin{matrix}1 & 0 & 0 & 0 & 0 & 0 & 0 & 0 & 0 & 0\\\\0 & 2 & 0 & 0 & 0 & 0 & 0 & 0 & 0 & 0\\\\0 & 1 & 2 & 0 & 0 & 0 & 0 & 0 & 0 & 0\\\\0 & 0 & 0 & 2 & 0 & 0 & 0 & 0 & 0 & 0\\\\0 & 0 & 0 & 1 & 2 & 0 & 0 & 0 & 0 & 0\\\\0 & 0 & 0 & 0 & 0 & 3 & 0 & 0 & 0 & 0\\\\0 & 0 & 0 & 0 & 0 & 1 & 3 & 0 & 0 & 0\\\\0 & 0 & 0 & 0 & 0 & 0 & 1 & 3 & 0 & 0\\\\0 & 0 & 0 & 0 & 0 & 0 & 0 & 0 & 3 & 0\\\\0 & 0 & 0 & 0 & 0 & 0 & 0 & 0 & 1 & 3\\end{matrix}\\right]$"
      ],
      "text/plain": [
       "Matrix([\n",
       "[1, 0, 0, 0, 0, 0, 0, 0, 0, 0],\n",
       "[0, 2, 0, 0, 0, 0, 0, 0, 0, 0],\n",
       "[0, 1, 2, 0, 0, 0, 0, 0, 0, 0],\n",
       "[0, 0, 0, 2, 0, 0, 0, 0, 0, 0],\n",
       "[0, 0, 0, 1, 2, 0, 0, 0, 0, 0],\n",
       "[0, 0, 0, 0, 0, 3, 0, 0, 0, 0],\n",
       "[0, 0, 0, 0, 0, 1, 3, 0, 0, 0],\n",
       "[0, 0, 0, 0, 0, 0, 1, 3, 0, 0],\n",
       "[0, 0, 0, 0, 0, 0, 0, 0, 3, 0],\n",
       "[0, 0, 0, 0, 0, 0, 0, 0, 1, 3]])"
      ]
     },
     "execution_count": 16,
     "metadata": {},
     "output_type": "execute_result"
    }
   ],
   "source": [
    "L = [v0, v1, v2, v3, v4, v5, v6, v7, v8, v9]\n",
    "V = reduce(lambda x, y: x.row_join(y), L)\n",
    "V**(-1) * A * V"
   ]
  },
  {
   "cell_type": "code",
   "execution_count": 17,
   "id": "ae07a178",
   "metadata": {},
   "outputs": [
    {
     "data": {
      "text/latex": [
       "$\\displaystyle \\left[\\begin{matrix}3 & 1 & 0 & 0 & 0 & 0 & 0 & 0 & 0 & 0\\\\0 & 3 & 0 & 0 & 0 & 0 & 0 & 0 & 0 & 0\\\\0 & 0 & 3 & 1 & 0 & 0 & 0 & 0 & 0 & 0\\\\0 & 0 & 0 & 3 & 1 & 0 & 0 & 0 & 0 & 0\\\\0 & 0 & 0 & 0 & 3 & 0 & 0 & 0 & 0 & 0\\\\0 & 0 & 0 & 0 & 0 & 2 & 1 & 0 & 0 & 0\\\\0 & 0 & 0 & 0 & 0 & 0 & 2 & 0 & 0 & 0\\\\0 & 0 & 0 & 0 & 0 & 0 & 0 & 2 & 1 & 0\\\\0 & 0 & 0 & 0 & 0 & 0 & 0 & 0 & 2 & 0\\\\0 & 0 & 0 & 0 & 0 & 0 & 0 & 0 & 0 & 1\\end{matrix}\\right]$"
      ],
      "text/plain": [
       "Matrix([\n",
       "[3, 1, 0, 0, 0, 0, 0, 0, 0, 0],\n",
       "[0, 3, 0, 0, 0, 0, 0, 0, 0, 0],\n",
       "[0, 0, 3, 1, 0, 0, 0, 0, 0, 0],\n",
       "[0, 0, 0, 3, 1, 0, 0, 0, 0, 0],\n",
       "[0, 0, 0, 0, 3, 0, 0, 0, 0, 0],\n",
       "[0, 0, 0, 0, 0, 2, 1, 0, 0, 0],\n",
       "[0, 0, 0, 0, 0, 0, 2, 0, 0, 0],\n",
       "[0, 0, 0, 0, 0, 0, 0, 2, 1, 0],\n",
       "[0, 0, 0, 0, 0, 0, 0, 0, 2, 0],\n",
       "[0, 0, 0, 0, 0, 0, 0, 0, 0, 1]])"
      ]
     },
     "execution_count": 17,
     "metadata": {},
     "output_type": "execute_result"
    }
   ],
   "source": [
    "L = [v9, v8, v7, v6, v5, v4, v3, v2, v1, v0]\n",
    "U = reduce(lambda x, y: x.row_join(y), L)\n",
    "U**(-1) * A * U"
   ]
  },
  {
   "cell_type": "code",
   "execution_count": null,
   "id": "0baa4f0e",
   "metadata": {},
   "outputs": [],
   "source": []
  }
 ],
 "metadata": {
  "kernelspec": {
   "display_name": "Python 3 (ipykernel)",
   "language": "python",
   "name": "python3"
  },
  "language_info": {
   "codemirror_mode": {
    "name": "ipython",
    "version": 3
   },
   "file_extension": ".py",
   "mimetype": "text/x-python",
   "name": "python",
   "nbconvert_exporter": "python",
   "pygments_lexer": "ipython3",
   "version": "3.10.7"
  }
 },
 "nbformat": 4,
 "nbformat_minor": 5
}
