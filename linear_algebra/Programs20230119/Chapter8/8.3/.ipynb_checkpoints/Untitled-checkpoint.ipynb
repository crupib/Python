{
 "cells": [
  {
   "cell_type": "code",
   "execution_count": 1,
   "id": "2ec55144",
   "metadata": {},
   "outputs": [
    {
     "data": {
      "text/latex": [
       "$\\displaystyle \\left[\\begin{matrix}a & 0 & 0\\\\1 & a & 0\\\\0 & 1 & a\\end{matrix}\\right]$"
      ],
      "text/plain": [
       "Matrix([\n",
       "[a, 0, 0],\n",
       "[1, a, 0],\n",
       "[0, 1, a]])"
      ]
     },
     "execution_count": 1,
     "metadata": {},
     "output_type": "execute_result"
    }
   ],
   "source": [
    "from sympy import Matrix, S\n",
    "J = Matrix([[S('a'), 0, 0], [1, S('a'), 0], [0, 1, S('a')]])\n",
    "J"
   ]
  },
  {
   "cell_type": "code",
   "execution_count": 2,
   "id": "f11c905c",
   "metadata": {},
   "outputs": [
    {
     "data": {
      "text/latex": [
       "$\\displaystyle \\left[\\begin{matrix}a^{2} & 0 & 0\\\\2 a & a^{2} & 0\\\\1 & 2 a & a^{2}\\end{matrix}\\right]$"
      ],
      "text/plain": [
       "Matrix([\n",
       "[a**2,    0,    0],\n",
       "[ 2*a, a**2,    0],\n",
       "[   1,  2*a, a**2]])"
      ]
     },
     "execution_count": 2,
     "metadata": {},
     "output_type": "execute_result"
    }
   ],
   "source": [
    "J**2"
   ]
  },
  {
   "cell_type": "code",
   "execution_count": 3,
   "id": "229e195b",
   "metadata": {},
   "outputs": [
    {
     "data": {
      "text/latex": [
       "$\\displaystyle \\left[\\begin{matrix}a^{3} & 0 & 0\\\\3 a^{2} & a^{3} & 0\\\\3 a & 3 a^{2} & a^{3}\\end{matrix}\\right]$"
      ],
      "text/plain": [
       "Matrix([\n",
       "[  a**3,      0,    0],\n",
       "[3*a**2,   a**3,    0],\n",
       "[   3*a, 3*a**2, a**3]])"
      ]
     },
     "execution_count": 3,
     "metadata": {},
     "output_type": "execute_result"
    }
   ],
   "source": [
    "J**3"
   ]
  },
  {
   "cell_type": "code",
   "execution_count": 4,
   "id": "3cfc9bdd",
   "metadata": {},
   "outputs": [
    {
     "data": {
      "text/latex": [
       "$\\displaystyle \\left[\\begin{matrix}a^{k} & 0 & 0\\\\a^{k - 1} k & a^{k} & 0\\\\\\frac{a^{k - 2} k \\left(k - 1\\right)}{2} & a^{k - 1} k & a^{k}\\end{matrix}\\right]$"
      ],
      "text/plain": [
       "Matrix([\n",
       "[                  a**k,            0,    0],\n",
       "[          a**(k - 1)*k,         a**k,    0],\n",
       "[a**(k - 2)*k*(k - 1)/2, a**(k - 1)*k, a**k]])"
      ]
     },
     "execution_count": 4,
     "metadata": {},
     "output_type": "execute_result"
    }
   ],
   "source": [
    "J**S('k')"
   ]
  },
  {
   "cell_type": "code",
   "execution_count": null,
   "id": "e2066466",
   "metadata": {},
   "outputs": [],
   "source": []
  }
 ],
 "metadata": {
  "kernelspec": {
   "display_name": "Python 3 (ipykernel)",
   "language": "python",
   "name": "python3"
  },
  "language_info": {
   "codemirror_mode": {
    "name": "ipython",
    "version": 3
   },
   "file_extension": ".py",
   "mimetype": "text/x-python",
   "name": "python",
   "nbconvert_exporter": "python",
   "pygments_lexer": "ipython3",
   "version": "3.9.2"
  }
 },
 "nbformat": 4,
 "nbformat_minor": 5
}
